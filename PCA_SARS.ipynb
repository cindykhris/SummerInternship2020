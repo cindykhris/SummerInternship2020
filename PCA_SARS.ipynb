{
  "nbformat": 4,
  "nbformat_minor": 0,
  "metadata": {
    "colab": {
      "name": "PCA.ipynb",
      "provenance": [],
      "toc_visible": true,
      "mount_file_id": "https://github.com/cindykhris/SummerInternship2020/blob/master/PCA_SARS.ipynb",
      "authorship_tag": "ABX9TyP3QXIfc82f92C1CYgFnKDz",
      "include_colab_link": true
    },
    "kernelspec": {
      "name": "python3",
      "display_name": "Python 3"
    }
  },
  "cells": [
    {
      "cell_type": "markdown",
      "metadata": {
        "id": "view-in-github",
        "colab_type": "text"
      },
      "source": [
        "<a href=\"https://colab.research.google.com/github/cindykhris/SummerInternship2020/blob/master/PCA_SARS.ipynb\" target=\"_parent\"><img src=\"https://colab.research.google.com/assets/colab-badge.svg\" alt=\"Open In Colab\"/></a>"
      ]
    },
    {
      "cell_type": "markdown",
      "metadata": {
        "id": "FWRwSQfxg9Of",
        "colab_type": "text"
      },
      "source": [
        "#Principal Component Analysis (PCA) and Visualization using Python\n",
        "\n",
        "**Introduction**\n",
        "\n",
        "Description: In this study, I analyzed the gene expression of coronaviruses (CoVs) infections to determine how each virus differs when causing a disease. Here, I focused the analysis on samples derived from SARS-CoV, MERS, and SARS-CoV-2. \n",
        "The raw sequence data (fastq files) for the SARS-CoV-1 was downloaded from GEO [GSE56192](https://www.ncbi.nlm.nih.gov/geo/query/acc.cgi?acc=GSE56192), including their corresponding Mock-treated controls). The raw sequence data (fastq files) for the SARS-CoV-2 infections were downloaded from GEO [GSE147507](https://www.ncbi.nlm.nih.gov/geo/query/acc.cgi?acc=GSE147507)), including their corresponding Mock-treated controls). The raw sequence data (fastq files) for the MERS infections were downloaded from GEO [GSE139516](https://www.ncbi.nlm.nih.gov/geo/query/acc.cgi?acc=GSE139516), including their corresponding Mock-treated controls. Gene expression matrixes were generated using the [BioInfoPlatform](https://server.t-bio.info) described below:\n",
        "\n",
        "\n",
        "*   PreProcessing\n",
        "    \n",
        "      * PCR clean - to remove duplicates from the PCR run  thus reducing redundancy. \n",
        "      * Trimmomatic - removes adapter sequences\n",
        "*   Mapping \n",
        "      * Bowtie-2t\n",
        "* Quantification \n",
        "\n",
        "    * RSEM -  Fragment Per Kilobase of transcript per Million mapped reads  for Paired-End Reads\n",
        "\n",
        "*   Differential Expression\n",
        "\n",
        "    * DESeq2\n",
        "\n",
        "Principal Component Analysis steps described in [Renesh Bedre github](https://reneshbedre.github.io/blog/pca_3d.html) were used to analyse the generated gene expression matrix. "
      ]
    },
    {
      "cell_type": "code",
      "metadata": {
        "id": "pE9WfN3VmeNU",
        "colab_type": "code",
        "colab": {
          "base_uri": "https://localhost:8080/",
          "height": 615
        },
        "outputId": "d2f22cc3-3847-432a-9c37-c80f25f8c135"
      },
      "source": [
        "pip install bioinfokit"
      ],
      "execution_count": 1,
      "outputs": [
        {
          "output_type": "stream",
          "text": [
            "Collecting bioinfokit\n",
            "\u001b[?25l  Downloading https://files.pythonhosted.org/packages/3c/6b/2859d341b579cd0057c51038d88223f69f8fdf40e22be126c247bff7988b/bioinfokit-0.9.6.tar.gz (48kB)\n",
            "\r\u001b[K     |██████▉                         | 10kB 13.0MB/s eta 0:00:01\r\u001b[K     |█████████████▋                  | 20kB 1.8MB/s eta 0:00:01\r\u001b[K     |████████████████████▍           | 30kB 2.3MB/s eta 0:00:01\r\u001b[K     |███████████████████████████▏    | 40kB 2.6MB/s eta 0:00:01\r\u001b[K     |████████████████████████████████| 51kB 1.6MB/s \n",
            "\u001b[?25hRequirement already satisfied: pandas in /usr/local/lib/python3.6/dist-packages (from bioinfokit) (1.0.5)\n",
            "Requirement already satisfied: numpy in /usr/local/lib/python3.6/dist-packages (from bioinfokit) (1.18.5)\n",
            "Requirement already satisfied: matplotlib in /usr/local/lib/python3.6/dist-packages (from bioinfokit) (3.2.2)\n",
            "Requirement already satisfied: scipy in /usr/local/lib/python3.6/dist-packages (from bioinfokit) (1.4.1)\n",
            "Requirement already satisfied: scikit-learn in /usr/local/lib/python3.6/dist-packages (from bioinfokit) (0.22.2.post1)\n",
            "Requirement already satisfied: seaborn in /usr/local/lib/python3.6/dist-packages (from bioinfokit) (0.10.1)\n",
            "Requirement already satisfied: matplotlib_venn in /usr/local/lib/python3.6/dist-packages (from bioinfokit) (0.11.5)\n",
            "Requirement already satisfied: tabulate in /usr/local/lib/python3.6/dist-packages (from bioinfokit) (0.8.7)\n",
            "Requirement already satisfied: statsmodels in /usr/local/lib/python3.6/dist-packages (from bioinfokit) (0.10.2)\n",
            "Collecting textwrap3\n",
            "  Downloading https://files.pythonhosted.org/packages/77/9c/a53e561d496ee5866bbeea4d3a850b3b545ed854f8a21007c1e0d872e94d/textwrap3-0.9.2-py2.py3-none-any.whl\n",
            "Collecting adjustText\n",
            "  Downloading https://files.pythonhosted.org/packages/9e/15/4157718bf323fd5f5b81c891c660d0f388e042d2689a558bf1389632dc44/adjustText-0.7.3.tar.gz\n",
            "Requirement already satisfied: python-dateutil>=2.6.1 in /usr/local/lib/python3.6/dist-packages (from pandas->bioinfokit) (2.8.1)\n",
            "Requirement already satisfied: pytz>=2017.2 in /usr/local/lib/python3.6/dist-packages (from pandas->bioinfokit) (2018.9)\n",
            "Requirement already satisfied: pyparsing!=2.0.4,!=2.1.2,!=2.1.6,>=2.0.1 in /usr/local/lib/python3.6/dist-packages (from matplotlib->bioinfokit) (2.4.7)\n",
            "Requirement already satisfied: kiwisolver>=1.0.1 in /usr/local/lib/python3.6/dist-packages (from matplotlib->bioinfokit) (1.2.0)\n",
            "Requirement already satisfied: cycler>=0.10 in /usr/local/lib/python3.6/dist-packages (from matplotlib->bioinfokit) (0.10.0)\n",
            "Requirement already satisfied: joblib>=0.11 in /usr/local/lib/python3.6/dist-packages (from scikit-learn->bioinfokit) (0.16.0)\n",
            "Requirement already satisfied: patsy>=0.4.0 in /usr/local/lib/python3.6/dist-packages (from statsmodels->bioinfokit) (0.5.1)\n",
            "Requirement already satisfied: six>=1.5 in /usr/local/lib/python3.6/dist-packages (from python-dateutil>=2.6.1->pandas->bioinfokit) (1.15.0)\n",
            "Building wheels for collected packages: bioinfokit, adjustText\n",
            "  Building wheel for bioinfokit (setup.py) ... \u001b[?25l\u001b[?25hdone\n",
            "  Created wheel for bioinfokit: filename=bioinfokit-0.9.6-cp36-none-any.whl size=32041 sha256=9715485750a682b1b045a0480e9fb55b617145012e428d194996d994c51a0a60\n",
            "  Stored in directory: /root/.cache/pip/wheels/17/e3/d1/dc69854b469f0ad51b2e1c913690e4cc9aa28aae9375f913fc\n",
            "  Building wheel for adjustText (setup.py) ... \u001b[?25l\u001b[?25hdone\n",
            "  Created wheel for adjustText: filename=adjustText-0.7.3-cp36-none-any.whl size=7099 sha256=083c8194319e353bbe7c0b6c8fc93a4d3e4767321219bd4bbcafdbbb944fb9af\n",
            "  Stored in directory: /root/.cache/pip/wheels/41/95/74/7d347e136d672f8bc28e937032bc92baf4f80856763a7e7b72\n",
            "Successfully built bioinfokit adjustText\n",
            "Installing collected packages: textwrap3, adjustText, bioinfokit\n",
            "Successfully installed adjustText-0.7.3 bioinfokit-0.9.6 textwrap3-0.9.2\n"
          ],
          "name": "stdout"
        }
      ]
    },
    {
      "cell_type": "code",
      "metadata": {
        "id": "d1jtZbPA10aH",
        "colab_type": "code",
        "colab": {
          "base_uri": "https://localhost:8080/",
          "height": 71
        },
        "outputId": "fc1a6777-b2cd-4baa-e66f-cf1b7b7e1710"
      },
      "source": [
        "from sklearn.decomposition import PCA\n",
        "from sklearn.preprocessing import StandardScaler\n",
        "\n",
        "from bioinfokit.analys import get_data\n",
        "from bioinfokit.visuz import cluster\n",
        "import pandas as pd\n",
        "import numpy as np"
      ],
      "execution_count": 2,
      "outputs": [
        {
          "output_type": "stream",
          "text": [
            "/usr/local/lib/python3.6/dist-packages/statsmodels/tools/_testing.py:19: FutureWarning: pandas.util.testing is deprecated. Use the functions in the public API at pandas.testing instead.\n",
            "  import pandas.util.testing as tm\n"
          ],
          "name": "stderr"
        }
      ]
    },
    {
      "cell_type": "code",
      "metadata": {
        "id": "j7QH5IYjLlR5",
        "colab_type": "code",
        "colab": {
          "base_uri": "https://localhost:8080/",
          "height": 224
        },
        "outputId": "0304f5db-d1a8-4574-d783-923b1aea5f05"
      },
      "source": [
        "#Load SARS gene expression\n",
        "df = pd.read_table('drive/My Drive/SummerResearch/DESeq_SARS_expression_genes.txt')\n",
        "df = df.drop('id',axis=1)\n",
        "df.head(5)"
      ],
      "execution_count": 3,
      "outputs": [
        {
          "output_type": "execute_result",
          "data": {
            "text/html": [
              "<div>\n",
              "<style scoped>\n",
              "    .dataframe tbody tr th:only-of-type {\n",
              "        vertical-align: middle;\n",
              "    }\n",
              "\n",
              "    .dataframe tbody tr th {\n",
              "        vertical-align: top;\n",
              "    }\n",
              "\n",
              "    .dataframe thead th {\n",
              "        text-align: right;\n",
              "    }\n",
              "</style>\n",
              "<table border=\"1\" class=\"dataframe\">\n",
              "  <thead>\n",
              "    <tr style=\"text-align: right;\">\n",
              "      <th></th>\n",
              "      <th>group_1_sample_1_SRR1192353_PE</th>\n",
              "      <th>group_1_sample_2_SRR1192354_PE</th>\n",
              "      <th>group_1_sample_3_SRR1192370_PE</th>\n",
              "      <th>group_1_sample_4_SRR1192371_PE</th>\n",
              "      <th>group_1_sample_5_SRR1192398_PE</th>\n",
              "      <th>group_1_sample_6_SRR1192399_PE</th>\n",
              "      <th>group_2_sample_1_SRR1193100_PE</th>\n",
              "      <th>group_2_sample_2_SRR1193101_PE</th>\n",
              "      <th>group_2_sample_3_SRR1193013_PE</th>\n",
              "      <th>group_2_sample_4_SRR1193014_PE</th>\n",
              "      <th>group_2_sample_5_SRR1193016_PE</th>\n",
              "      <th>group_2_sample_6_SRR1193017_PE</th>\n",
              "    </tr>\n",
              "  </thead>\n",
              "  <tbody>\n",
              "    <tr>\n",
              "      <th>0</th>\n",
              "      <td>1005.00</td>\n",
              "      <td>1016.58</td>\n",
              "      <td>1011.00</td>\n",
              "      <td>952.00</td>\n",
              "      <td>979.00</td>\n",
              "      <td>921.00</td>\n",
              "      <td>605.01</td>\n",
              "      <td>623.00</td>\n",
              "      <td>627.00</td>\n",
              "      <td>642.00</td>\n",
              "      <td>578.00</td>\n",
              "      <td>564.00</td>\n",
              "    </tr>\n",
              "    <tr>\n",
              "      <th>1</th>\n",
              "      <td>1407.00</td>\n",
              "      <td>1360.00</td>\n",
              "      <td>1702.00</td>\n",
              "      <td>1645.00</td>\n",
              "      <td>1193.00</td>\n",
              "      <td>1233.00</td>\n",
              "      <td>1269.00</td>\n",
              "      <td>1268.00</td>\n",
              "      <td>1103.00</td>\n",
              "      <td>1066.00</td>\n",
              "      <td>1118.00</td>\n",
              "      <td>1103.00</td>\n",
              "    </tr>\n",
              "    <tr>\n",
              "      <th>2</th>\n",
              "      <td>386.15</td>\n",
              "      <td>371.19</td>\n",
              "      <td>369.27</td>\n",
              "      <td>340.79</td>\n",
              "      <td>328.45</td>\n",
              "      <td>364.65</td>\n",
              "      <td>247.37</td>\n",
              "      <td>270.26</td>\n",
              "      <td>223.31</td>\n",
              "      <td>248.28</td>\n",
              "      <td>234.34</td>\n",
              "      <td>245.02</td>\n",
              "    </tr>\n",
              "    <tr>\n",
              "      <th>3</th>\n",
              "      <td>374.02</td>\n",
              "      <td>339.90</td>\n",
              "      <td>232.66</td>\n",
              "      <td>238.59</td>\n",
              "      <td>314.80</td>\n",
              "      <td>335.48</td>\n",
              "      <td>243.82</td>\n",
              "      <td>280.23</td>\n",
              "      <td>236.33</td>\n",
              "      <td>242.07</td>\n",
              "      <td>234.65</td>\n",
              "      <td>247.01</td>\n",
              "    </tr>\n",
              "    <tr>\n",
              "      <th>4</th>\n",
              "      <td>0.00</td>\n",
              "      <td>0.00</td>\n",
              "      <td>0.00</td>\n",
              "      <td>0.00</td>\n",
              "      <td>1.00</td>\n",
              "      <td>0.00</td>\n",
              "      <td>0.00</td>\n",
              "      <td>1.00</td>\n",
              "      <td>0.00</td>\n",
              "      <td>0.00</td>\n",
              "      <td>0.00</td>\n",
              "      <td>0.00</td>\n",
              "    </tr>\n",
              "  </tbody>\n",
              "</table>\n",
              "</div>"
            ],
            "text/plain": [
              "   group_1_sample_1_SRR1192353_PE  ...  group_2_sample_6_SRR1193017_PE\n",
              "0                         1005.00  ...                          564.00\n",
              "1                         1407.00  ...                         1103.00\n",
              "2                          386.15  ...                          245.02\n",
              "3                          374.02  ...                          247.01\n",
              "4                            0.00  ...                            0.00\n",
              "\n",
              "[5 rows x 12 columns]"
            ]
          },
          "metadata": {
            "tags": []
          },
          "execution_count": 3
        }
      ]
    },
    {
      "cell_type": "code",
      "metadata": {
        "id": "0n4827RnQ7E4",
        "colab_type": "code",
        "colab": {}
      },
      "source": [
        "df = df.rename(columns={\n",
        "    'group_1_sample_1_SRR1192353_PE': 'A', \n",
        "    'group_1_sample_2_SRR1192354_PE': 'B' ,\n",
        "    'group_1_sample_3_SRR1192370_PE': 'C' , \n",
        "    'group_1_sample_4_SRR1192371_PE': 'D' ,\n",
        "    'group_1_sample_5_SRR1192398_PE': 'E', \n",
        "    'group_1_sample_6_SRR1192399_PE': 'F',\n",
        "    'group_2_sample_1_SRR1193100_PE': 'G', \n",
        "    'group_2_sample_2_SRR1193101_PE': 'H',\n",
        "    'group_2_sample_3_SRR1193013_PE': 'I', \n",
        "    'group_2_sample_4_SRR1193014_PE': 'J',\n",
        "    'group_2_sample_5_SRR1193016_PE': 'K', \n",
        "    'group_2_sample_6_SRR1193017_PE': 'L'})"
      ],
      "execution_count": 4,
      "outputs": []
    },
    {
      "cell_type": "code",
      "metadata": {
        "id": "47BoNeF5Sbz9",
        "colab_type": "code",
        "colab": {
          "base_uri": "https://localhost:8080/",
          "height": 204
        },
        "outputId": "d2003852-0f4a-44b0-d17f-fcc22ea5b30a"
      },
      "source": [
        "df.head(5)"
      ],
      "execution_count": 5,
      "outputs": [
        {
          "output_type": "execute_result",
          "data": {
            "text/html": [
              "<div>\n",
              "<style scoped>\n",
              "    .dataframe tbody tr th:only-of-type {\n",
              "        vertical-align: middle;\n",
              "    }\n",
              "\n",
              "    .dataframe tbody tr th {\n",
              "        vertical-align: top;\n",
              "    }\n",
              "\n",
              "    .dataframe thead th {\n",
              "        text-align: right;\n",
              "    }\n",
              "</style>\n",
              "<table border=\"1\" class=\"dataframe\">\n",
              "  <thead>\n",
              "    <tr style=\"text-align: right;\">\n",
              "      <th></th>\n",
              "      <th>A</th>\n",
              "      <th>B</th>\n",
              "      <th>C</th>\n",
              "      <th>D</th>\n",
              "      <th>E</th>\n",
              "      <th>F</th>\n",
              "      <th>G</th>\n",
              "      <th>H</th>\n",
              "      <th>I</th>\n",
              "      <th>J</th>\n",
              "      <th>K</th>\n",
              "      <th>L</th>\n",
              "    </tr>\n",
              "  </thead>\n",
              "  <tbody>\n",
              "    <tr>\n",
              "      <th>0</th>\n",
              "      <td>1005.00</td>\n",
              "      <td>1016.58</td>\n",
              "      <td>1011.00</td>\n",
              "      <td>952.00</td>\n",
              "      <td>979.00</td>\n",
              "      <td>921.00</td>\n",
              "      <td>605.01</td>\n",
              "      <td>623.00</td>\n",
              "      <td>627.00</td>\n",
              "      <td>642.00</td>\n",
              "      <td>578.00</td>\n",
              "      <td>564.00</td>\n",
              "    </tr>\n",
              "    <tr>\n",
              "      <th>1</th>\n",
              "      <td>1407.00</td>\n",
              "      <td>1360.00</td>\n",
              "      <td>1702.00</td>\n",
              "      <td>1645.00</td>\n",
              "      <td>1193.00</td>\n",
              "      <td>1233.00</td>\n",
              "      <td>1269.00</td>\n",
              "      <td>1268.00</td>\n",
              "      <td>1103.00</td>\n",
              "      <td>1066.00</td>\n",
              "      <td>1118.00</td>\n",
              "      <td>1103.00</td>\n",
              "    </tr>\n",
              "    <tr>\n",
              "      <th>2</th>\n",
              "      <td>386.15</td>\n",
              "      <td>371.19</td>\n",
              "      <td>369.27</td>\n",
              "      <td>340.79</td>\n",
              "      <td>328.45</td>\n",
              "      <td>364.65</td>\n",
              "      <td>247.37</td>\n",
              "      <td>270.26</td>\n",
              "      <td>223.31</td>\n",
              "      <td>248.28</td>\n",
              "      <td>234.34</td>\n",
              "      <td>245.02</td>\n",
              "    </tr>\n",
              "    <tr>\n",
              "      <th>3</th>\n",
              "      <td>374.02</td>\n",
              "      <td>339.90</td>\n",
              "      <td>232.66</td>\n",
              "      <td>238.59</td>\n",
              "      <td>314.80</td>\n",
              "      <td>335.48</td>\n",
              "      <td>243.82</td>\n",
              "      <td>280.23</td>\n",
              "      <td>236.33</td>\n",
              "      <td>242.07</td>\n",
              "      <td>234.65</td>\n",
              "      <td>247.01</td>\n",
              "    </tr>\n",
              "    <tr>\n",
              "      <th>4</th>\n",
              "      <td>0.00</td>\n",
              "      <td>0.00</td>\n",
              "      <td>0.00</td>\n",
              "      <td>0.00</td>\n",
              "      <td>1.00</td>\n",
              "      <td>0.00</td>\n",
              "      <td>0.00</td>\n",
              "      <td>1.00</td>\n",
              "      <td>0.00</td>\n",
              "      <td>0.00</td>\n",
              "      <td>0.00</td>\n",
              "      <td>0.00</td>\n",
              "    </tr>\n",
              "  </tbody>\n",
              "</table>\n",
              "</div>"
            ],
            "text/plain": [
              "         A        B        C        D  ...        I        J        K        L\n",
              "0  1005.00  1016.58  1011.00   952.00  ...   627.00   642.00   578.00   564.00\n",
              "1  1407.00  1360.00  1702.00  1645.00  ...  1103.00  1066.00  1118.00  1103.00\n",
              "2   386.15   371.19   369.27   340.79  ...   223.31   248.28   234.34   245.02\n",
              "3   374.02   339.90   232.66   238.59  ...   236.33   242.07   234.65   247.01\n",
              "4     0.00     0.00     0.00     0.00  ...     0.00     0.00     0.00     0.00\n",
              "\n",
              "[5 rows x 12 columns]"
            ]
          },
          "metadata": {
            "tags": []
          },
          "execution_count": 5
        }
      ]
    },
    {
      "cell_type": "code",
      "metadata": {
        "id": "kR6P83Je3MCF",
        "colab_type": "code",
        "colab": {}
      },
      "source": [
        "#Standarization\n",
        "df_st = StandardScaler().fit_transform(df)"
      ],
      "execution_count": 6,
      "outputs": []
    },
    {
      "cell_type": "code",
      "metadata": {
        "id": "2CcxnNdu9l0w",
        "colab_type": "code",
        "colab": {
          "base_uri": "https://localhost:8080/",
          "height": 204
        },
        "outputId": "d1f78de0-2c58-4ad6-cde6-519209cd3748"
      },
      "source": [
        "#see few rows of standarized dataset\n",
        "pd.DataFrame(df_st, columns=df.columns).head()"
      ],
      "execution_count": 7,
      "outputs": [
        {
          "output_type": "execute_result",
          "data": {
            "text/html": [
              "<div>\n",
              "<style scoped>\n",
              "    .dataframe tbody tr th:only-of-type {\n",
              "        vertical-align: middle;\n",
              "    }\n",
              "\n",
              "    .dataframe tbody tr th {\n",
              "        vertical-align: top;\n",
              "    }\n",
              "\n",
              "    .dataframe thead th {\n",
              "        text-align: right;\n",
              "    }\n",
              "</style>\n",
              "<table border=\"1\" class=\"dataframe\">\n",
              "  <thead>\n",
              "    <tr style=\"text-align: right;\">\n",
              "      <th></th>\n",
              "      <th>A</th>\n",
              "      <th>B</th>\n",
              "      <th>C</th>\n",
              "      <th>D</th>\n",
              "      <th>E</th>\n",
              "      <th>F</th>\n",
              "      <th>G</th>\n",
              "      <th>H</th>\n",
              "      <th>I</th>\n",
              "      <th>J</th>\n",
              "      <th>K</th>\n",
              "      <th>L</th>\n",
              "    </tr>\n",
              "  </thead>\n",
              "  <tbody>\n",
              "    <tr>\n",
              "      <th>0</th>\n",
              "      <td>-0.016866</td>\n",
              "      <td>-0.014429</td>\n",
              "      <td>-0.015158</td>\n",
              "      <td>-0.022798</td>\n",
              "      <td>-0.001075</td>\n",
              "      <td>-0.009458</td>\n",
              "      <td>-0.026505</td>\n",
              "      <td>-0.021238</td>\n",
              "      <td>-0.022390</td>\n",
              "      <td>-0.018114</td>\n",
              "      <td>-0.023841</td>\n",
              "      <td>-0.026523</td>\n",
              "    </tr>\n",
              "    <tr>\n",
              "      <th>1</th>\n",
              "      <td>0.039491</td>\n",
              "      <td>0.034190</td>\n",
              "      <td>0.086736</td>\n",
              "      <td>0.080561</td>\n",
              "      <td>0.033565</td>\n",
              "      <td>0.041521</td>\n",
              "      <td>0.132168</td>\n",
              "      <td>0.134077</td>\n",
              "      <td>0.082773</td>\n",
              "      <td>0.076124</td>\n",
              "      <td>0.112146</td>\n",
              "      <td>0.110139</td>\n",
              "    </tr>\n",
              "    <tr>\n",
              "      <th>2</th>\n",
              "      <td>-0.103625</td>\n",
              "      <td>-0.105797</td>\n",
              "      <td>-0.109787</td>\n",
              "      <td>-0.113959</td>\n",
              "      <td>-0.106378</td>\n",
              "      <td>-0.100363</td>\n",
              "      <td>-0.111969</td>\n",
              "      <td>-0.106178</td>\n",
              "      <td>-0.111578</td>\n",
              "      <td>-0.105623</td>\n",
              "      <td>-0.110384</td>\n",
              "      <td>-0.107400</td>\n",
              "    </tr>\n",
              "    <tr>\n",
              "      <th>3</th>\n",
              "      <td>-0.105326</td>\n",
              "      <td>-0.110227</td>\n",
              "      <td>-0.129931</td>\n",
              "      <td>-0.129202</td>\n",
              "      <td>-0.108587</td>\n",
              "      <td>-0.105129</td>\n",
              "      <td>-0.112818</td>\n",
              "      <td>-0.103777</td>\n",
              "      <td>-0.108701</td>\n",
              "      <td>-0.107003</td>\n",
              "      <td>-0.110306</td>\n",
              "      <td>-0.106896</td>\n",
              "    </tr>\n",
              "    <tr>\n",
              "      <th>4</th>\n",
              "      <td>-0.157761</td>\n",
              "      <td>-0.158347</td>\n",
              "      <td>-0.164239</td>\n",
              "      <td>-0.164787</td>\n",
              "      <td>-0.159381</td>\n",
              "      <td>-0.159945</td>\n",
              "      <td>-0.171083</td>\n",
              "      <td>-0.171016</td>\n",
              "      <td>-0.160914</td>\n",
              "      <td>-0.160805</td>\n",
              "      <td>-0.169397</td>\n",
              "      <td>-0.169524</td>\n",
              "    </tr>\n",
              "  </tbody>\n",
              "</table>\n",
              "</div>"
            ],
            "text/plain": [
              "          A         B         C  ...         J         K         L\n",
              "0 -0.016866 -0.014429 -0.015158  ... -0.018114 -0.023841 -0.026523\n",
              "1  0.039491  0.034190  0.086736  ...  0.076124  0.112146  0.110139\n",
              "2 -0.103625 -0.105797 -0.109787  ... -0.105623 -0.110384 -0.107400\n",
              "3 -0.105326 -0.110227 -0.129931  ... -0.107003 -0.110306 -0.106896\n",
              "4 -0.157761 -0.158347 -0.164239  ... -0.160805 -0.169397 -0.169524\n",
              "\n",
              "[5 rows x 12 columns]"
            ]
          },
          "metadata": {
            "tags": []
          },
          "execution_count": 7
        }
      ]
    },
    {
      "cell_type": "code",
      "metadata": {
        "id": "Ogrfh4Q4-O8g",
        "colab_type": "code",
        "colab": {}
      },
      "source": [
        "#perfom PCA\n",
        "pca_out = PCA().fit(df_st)"
      ],
      "execution_count": 8,
      "outputs": []
    },
    {
      "cell_type": "code",
      "metadata": {
        "id": "U7kkfDWD-YUL",
        "colab_type": "code",
        "colab": {
          "base_uri": "https://localhost:8080/",
          "height": 68
        },
        "outputId": "ec304173-4d58-417b-adaf-daa7f9eec29f"
      },
      "source": [
        "#get the component variance\n",
        "#proportion of Variance (from PC1 to PC6)\n",
        "pca_out.explained_variance_ratio_"
      ],
      "execution_count": 9,
      "outputs": [
        {
          "output_type": "execute_result",
          "data": {
            "text/plain": [
              "array([9.90289805e-01, 6.92743176e-03, 1.93214560e-03, 4.35855685e-04,\n",
              "       2.37222944e-04, 1.62208640e-04, 3.31876682e-06, 3.17755687e-06,\n",
              "       2.82246673e-06, 2.37668842e-06, 1.88237745e-06, 1.75232675e-06])"
            ]
          },
          "metadata": {
            "tags": []
          },
          "execution_count": 9
        }
      ]
    },
    {
      "cell_type": "code",
      "metadata": {
        "id": "foJt7lsc-ntk",
        "colab_type": "code",
        "colab": {
          "base_uri": "https://localhost:8080/",
          "height": 68
        },
        "outputId": "3b3fc35c-2ab1-4df7-b8b4-7ec0dec77145"
      },
      "source": [
        "#cumulative propotion of variance (from PC1 to PC6)\n",
        "np.cumsum(pca_out.explained_variance_ratio_\n",
        "          )"
      ],
      "execution_count": 10,
      "outputs": [
        {
          "output_type": "execute_result",
          "data": {
            "text/plain": [
              "array([0.99028981, 0.99721724, 0.99914938, 0.99958524, 0.99982246,\n",
              "       0.99998467, 0.99998799, 0.99999117, 0.99999399, 0.99999637,\n",
              "       0.99999825, 1.        ])"
            ]
          },
          "metadata": {
            "tags": []
          },
          "execution_count": 10
        }
      ]
    },
    {
      "cell_type": "code",
      "metadata": {
        "id": "4KJnwceVLxfV",
        "colab_type": "code",
        "colab": {}
      },
      "source": [
        "#get component loadings (correlation coefficint between original variables and the component )\n",
        "loadings = pca_out.components_\n",
        "num_pc   = pca_out.n_features_\n",
        "pc_list  = ['PC'+str(i) for i in list(range(1,num_pc+1))]\n"
      ],
      "execution_count": 11,
      "outputs": []
    },
    {
      "cell_type": "code",
      "metadata": {
        "id": "Mwt9XTUFMxTA",
        "colab_type": "code",
        "colab": {
          "base_uri": "https://localhost:8080/",
          "height": 452
        },
        "outputId": "d1eb96cd-7f8b-4140-ce5c-3acec87dd36f"
      },
      "source": [
        "loading_df = pd.DataFrame.from_dict(dict(zip(pc_list, loadings)))\n",
        "loading_df['variable'] = df.columns.values\n",
        "loading_df = loading_df.set_index('variable')\n",
        "loading_df"
      ],
      "execution_count": 12,
      "outputs": [
        {
          "output_type": "execute_result",
          "data": {
            "text/html": [
              "<div>\n",
              "<style scoped>\n",
              "    .dataframe tbody tr th:only-of-type {\n",
              "        vertical-align: middle;\n",
              "    }\n",
              "\n",
              "    .dataframe tbody tr th {\n",
              "        vertical-align: top;\n",
              "    }\n",
              "\n",
              "    .dataframe thead th {\n",
              "        text-align: right;\n",
              "    }\n",
              "</style>\n",
              "<table border=\"1\" class=\"dataframe\">\n",
              "  <thead>\n",
              "    <tr style=\"text-align: right;\">\n",
              "      <th></th>\n",
              "      <th>PC1</th>\n",
              "      <th>PC2</th>\n",
              "      <th>PC3</th>\n",
              "      <th>PC4</th>\n",
              "      <th>PC5</th>\n",
              "      <th>PC6</th>\n",
              "      <th>PC7</th>\n",
              "      <th>PC8</th>\n",
              "      <th>PC9</th>\n",
              "      <th>PC10</th>\n",
              "      <th>PC11</th>\n",
              "      <th>PC12</th>\n",
              "    </tr>\n",
              "    <tr>\n",
              "      <th>variable</th>\n",
              "      <th></th>\n",
              "      <th></th>\n",
              "      <th></th>\n",
              "      <th></th>\n",
              "      <th></th>\n",
              "      <th></th>\n",
              "      <th></th>\n",
              "      <th></th>\n",
              "      <th></th>\n",
              "      <th></th>\n",
              "      <th></th>\n",
              "      <th></th>\n",
              "    </tr>\n",
              "  </thead>\n",
              "  <tbody>\n",
              "    <tr>\n",
              "      <th>A</th>\n",
              "      <td>0.289518</td>\n",
              "      <td>-0.048637</td>\n",
              "      <td>-0.358388</td>\n",
              "      <td>-0.026901</td>\n",
              "      <td>0.411361</td>\n",
              "      <td>0.355106</td>\n",
              "      <td>0.117416</td>\n",
              "      <td>-0.033663</td>\n",
              "      <td>0.017286</td>\n",
              "      <td>0.390564</td>\n",
              "      <td>-0.130019</td>\n",
              "      <td>0.551965</td>\n",
              "    </tr>\n",
              "    <tr>\n",
              "      <th>B</th>\n",
              "      <td>0.289538</td>\n",
              "      <td>-0.044619</td>\n",
              "      <td>-0.354263</td>\n",
              "      <td>-0.020278</td>\n",
              "      <td>0.413980</td>\n",
              "      <td>0.325053</td>\n",
              "      <td>-0.148345</td>\n",
              "      <td>0.005060</td>\n",
              "      <td>-0.019716</td>\n",
              "      <td>-0.385334</td>\n",
              "      <td>0.138369</td>\n",
              "      <td>-0.566723</td>\n",
              "    </tr>\n",
              "    <tr>\n",
              "      <th>C</th>\n",
              "      <td>0.286278</td>\n",
              "      <td>-0.526001</td>\n",
              "      <td>0.359888</td>\n",
              "      <td>-0.117028</td>\n",
              "      <td>0.027268</td>\n",
              "      <td>0.011134</td>\n",
              "      <td>0.106137</td>\n",
              "      <td>-0.051973</td>\n",
              "      <td>-0.019679</td>\n",
              "      <td>0.281349</td>\n",
              "      <td>0.631396</td>\n",
              "      <td>-0.071506</td>\n",
              "    </tr>\n",
              "    <tr>\n",
              "      <th>D</th>\n",
              "      <td>0.286381</td>\n",
              "      <td>-0.517595</td>\n",
              "      <td>0.360670</td>\n",
              "      <td>-0.119316</td>\n",
              "      <td>0.061494</td>\n",
              "      <td>-0.011102</td>\n",
              "      <td>-0.109069</td>\n",
              "      <td>0.049895</td>\n",
              "      <td>0.019639</td>\n",
              "      <td>-0.281869</td>\n",
              "      <td>-0.634678</td>\n",
              "      <td>0.069430</td>\n",
              "    </tr>\n",
              "    <tr>\n",
              "      <th>E</th>\n",
              "      <td>0.289163</td>\n",
              "      <td>-0.176906</td>\n",
              "      <td>-0.348621</td>\n",
              "      <td>0.326956</td>\n",
              "      <td>-0.258957</td>\n",
              "      <td>-0.303958</td>\n",
              "      <td>0.120549</td>\n",
              "      <td>-0.029184</td>\n",
              "      <td>-0.078891</td>\n",
              "      <td>0.471542</td>\n",
              "      <td>-0.284855</td>\n",
              "      <td>-0.414851</td>\n",
              "    </tr>\n",
              "    <tr>\n",
              "      <th>F</th>\n",
              "      <td>0.289178</td>\n",
              "      <td>-0.175323</td>\n",
              "      <td>-0.346544</td>\n",
              "      <td>0.324905</td>\n",
              "      <td>-0.233240</td>\n",
              "      <td>-0.320630</td>\n",
              "      <td>-0.104752</td>\n",
              "      <td>0.051369</td>\n",
              "      <td>0.079312</td>\n",
              "      <td>-0.472116</td>\n",
              "      <td>0.279296</td>\n",
              "      <td>0.426585</td>\n",
              "    </tr>\n",
              "    <tr>\n",
              "      <th>G</th>\n",
              "      <td>0.289078</td>\n",
              "      <td>0.234945</td>\n",
              "      <td>0.242800</td>\n",
              "      <td>0.303661</td>\n",
              "      <td>-0.264799</td>\n",
              "      <td>0.385039</td>\n",
              "      <td>0.454486</td>\n",
              "      <td>-0.487808</td>\n",
              "      <td>0.098142</td>\n",
              "      <td>-0.187994</td>\n",
              "      <td>-0.044315</td>\n",
              "      <td>-0.015766</td>\n",
              "    </tr>\n",
              "    <tr>\n",
              "      <th>H</th>\n",
              "      <td>0.289058</td>\n",
              "      <td>0.239633</td>\n",
              "      <td>0.244448</td>\n",
              "      <td>0.291507</td>\n",
              "      <td>-0.257864</td>\n",
              "      <td>0.372620</td>\n",
              "      <td>-0.485549</td>\n",
              "      <td>0.482485</td>\n",
              "      <td>-0.105969</td>\n",
              "      <td>0.165894</td>\n",
              "      <td>0.034395</td>\n",
              "      <td>0.021626</td>\n",
              "    </tr>\n",
              "    <tr>\n",
              "      <th>I</th>\n",
              "      <td>0.289419</td>\n",
              "      <td>0.174549</td>\n",
              "      <td>-0.116741</td>\n",
              "      <td>-0.533902</td>\n",
              "      <td>-0.290862</td>\n",
              "      <td>-0.029052</td>\n",
              "      <td>-0.067473</td>\n",
              "      <td>0.051866</td>\n",
              "      <td>0.696690</td>\n",
              "      <td>0.072965</td>\n",
              "      <td>-0.007183</td>\n",
              "      <td>-0.060409</td>\n",
              "    </tr>\n",
              "    <tr>\n",
              "      <th>J</th>\n",
              "      <td>0.289414</td>\n",
              "      <td>0.174944</td>\n",
              "      <td>-0.117923</td>\n",
              "      <td>-0.538850</td>\n",
              "      <td>-0.285651</td>\n",
              "      <td>-0.035665</td>\n",
              "      <td>0.077320</td>\n",
              "      <td>-0.046992</td>\n",
              "      <td>-0.691938</td>\n",
              "      <td>-0.087858</td>\n",
              "      <td>0.002535</td>\n",
              "      <td>0.061734</td>\n",
              "    </tr>\n",
              "    <tr>\n",
              "      <th>K</th>\n",
              "      <td>0.288564</td>\n",
              "      <td>0.324330</td>\n",
              "      <td>0.219149</td>\n",
              "      <td>0.055445</td>\n",
              "      <td>0.347773</td>\n",
              "      <td>-0.345562</td>\n",
              "      <td>0.500212</td>\n",
              "      <td>0.511611</td>\n",
              "      <td>0.024859</td>\n",
              "      <td>-0.080064</td>\n",
              "      <td>0.006600</td>\n",
              "      <td>-0.032429</td>\n",
              "    </tr>\n",
              "    <tr>\n",
              "      <th>L</th>\n",
              "      <td>0.288488</td>\n",
              "      <td>0.331877</td>\n",
              "      <td>0.224847</td>\n",
              "      <td>0.052901</td>\n",
              "      <td>0.331155</td>\n",
              "      <td>-0.405177</td>\n",
              "      <td>-0.460959</td>\n",
              "      <td>-0.502760</td>\n",
              "      <td>-0.019765</td>\n",
              "      <td>0.113176</td>\n",
              "      <td>0.008657</td>\n",
              "      <td>0.030339</td>\n",
              "    </tr>\n",
              "  </tbody>\n",
              "</table>\n",
              "</div>"
            ],
            "text/plain": [
              "               PC1       PC2       PC3  ...      PC10      PC11      PC12\n",
              "variable                                ...                              \n",
              "A         0.289518 -0.048637 -0.358388  ...  0.390564 -0.130019  0.551965\n",
              "B         0.289538 -0.044619 -0.354263  ... -0.385334  0.138369 -0.566723\n",
              "C         0.286278 -0.526001  0.359888  ...  0.281349  0.631396 -0.071506\n",
              "D         0.286381 -0.517595  0.360670  ... -0.281869 -0.634678  0.069430\n",
              "E         0.289163 -0.176906 -0.348621  ...  0.471542 -0.284855 -0.414851\n",
              "F         0.289178 -0.175323 -0.346544  ... -0.472116  0.279296  0.426585\n",
              "G         0.289078  0.234945  0.242800  ... -0.187994 -0.044315 -0.015766\n",
              "H         0.289058  0.239633  0.244448  ...  0.165894  0.034395  0.021626\n",
              "I         0.289419  0.174549 -0.116741  ...  0.072965 -0.007183 -0.060409\n",
              "J         0.289414  0.174944 -0.117923  ... -0.087858  0.002535  0.061734\n",
              "K         0.288564  0.324330  0.219149  ... -0.080064  0.006600 -0.032429\n",
              "L         0.288488  0.331877  0.224847  ...  0.113176  0.008657  0.030339\n",
              "\n",
              "[12 rows x 12 columns]"
            ]
          },
          "metadata": {
            "tags": []
          },
          "execution_count": 12
        }
      ]
    },
    {
      "cell_type": "code",
      "metadata": {
        "id": "XwpHDLf1M8W6",
        "colab_type": "code",
        "colab": {}
      },
      "source": [
        "#get correalation matrix plot for loadings\n",
        "import seaborn as sns\n",
        "import matplotlib.pyplot as plt\n",
        "\n"
      ],
      "execution_count": 13,
      "outputs": []
    },
    {
      "cell_type": "code",
      "metadata": {
        "id": "PusR9Ej7NLqd",
        "colab_type": "code",
        "colab": {
          "base_uri": "https://localhost:8080/",
          "height": 281
        },
        "outputId": "160d27eb-4e1d-4eb9-cd86-8f99cda58f38"
      },
      "source": [
        "ax = sns.heatmap(loading_df, annot=True, cmap='Spectral')\n",
        "plt.show()"
      ],
      "execution_count": 14,
      "outputs": [
        {
          "output_type": "display_data",
          "data": {
            "image/png": "[encoded data removed]",
            "text/plain": [
              "<Figure size 432x288 with 2 Axes>"
            ]
          },
          "metadata": {
            "tags": [],
            "needs_background": "light"
          }
        }
      ]
    },
    {
      "cell_type": "code",
      "metadata": {
        "id": "5yl0MnJrNWBl",
        "colab_type": "code",
        "colab": {
          "base_uri": "https://localhost:8080/",
          "height": 68
        },
        "outputId": "dfb173e3-7133-4d97-f9af-93c0a1dc4481"
      },
      "source": [
        "#Principal component (PC) retention\n",
        "#get eigenvalues (from PC1 to PC6)\n",
        "pca_out.explained_variance_"
      ],
      "execution_count": 15,
      "outputs": [
        {
          "output_type": "execute_result",
          "data": {
            "text/plain": [
              "array([1.18838350e+01, 8.31316812e-02, 2.31864445e-02, 5.23042552e-03,\n",
              "       2.84676094e-03, 1.94656222e-03, 3.98263995e-05, 3.81318292e-05,\n",
              "       3.38706193e-05, 2.85211188e-05, 2.25892087e-05, 2.10285534e-05])"
            ]
          },
          "metadata": {
            "tags": []
          },
          "execution_count": 15
        }
      ]
    },
    {
      "cell_type": "code",
      "metadata": {
        "id": "Sj11aDGtNlHm",
        "colab_type": "code",
        "colab": {}
      },
      "source": [
        "#get screen plot (for scree or elbow test)\n"
      ],
      "execution_count": 16,
      "outputs": []
    },
    {
      "cell_type": "code",
      "metadata": {
        "id": "lRLSVpQYN0TK",
        "colab_type": "code",
        "colab": {
          "base_uri": "https://localhost:8080/",
          "height": 34
        },
        "outputId": "0aea4b08-62b7-4602-c407-f4a880bb07f7"
      },
      "source": [
        "cluster.screeplot(obj=[pc_list, pca_out.explained_variance_ratio_])\n",
        "#scree plot will be saved in the same directory with name screenplot.png"
      ],
      "execution_count": 17,
      "outputs": [
        {
          "output_type": "stream",
          "text": [
            "findfont: Font family ['Arial'] not found. Falling back to DejaVu Sans.\n"
          ],
          "name": "stderr"
        }
      ]
    },
    {
      "cell_type": "code",
      "metadata": {
        "id": "nBm48gwLPRXX",
        "colab_type": "code",
        "colab": {}
      },
      "source": [
        "#PCA loadings plot\n",
        "#get PCA loadings plots (2D and 3D)\n",
        "#2D\n",
        "cluster.pcaplot(x=loadings[0], y=loadings[1], labels=df.columns.values, \n",
        "    var1=round(pca_out.explained_variance_ratio_[0]*100, 2),\n",
        "    var2=round(pca_out.explained_variance_ratio_[1]*100, 2))\n"
      ],
      "execution_count": 18,
      "outputs": []
    },
    {
      "cell_type": "code",
      "metadata": {
        "id": "6Fl3qCJAQKK_",
        "colab_type": "code",
        "colab": {}
      },
      "source": [
        "# 3D\n",
        "cluster.pcaplot(x=loadings[0], y=loadings[1], z=loadings[2],  labels=df.columns.values, \n",
        "    var1=round(pca_out.explained_variance_ratio_[0]*100, 2), var2=round(pca_out.explained_variance_ratio_[1]*100, 2), \n",
        "    var3=round(pca_out.explained_variance_ratio_[2]*100, 2))"
      ],
      "execution_count": 19,
      "outputs": []
    },
    {
      "cell_type": "code",
      "metadata": {
        "id": "NNGW1akeQRzf",
        "colab_type": "code",
        "colab": {}
      },
      "source": [
        "#PCA biplot\n",
        "pca_scores = PCA().fit_transform(df_st)\n",
        "\n",
        "#get 2D biplot\n",
        "cluster.biplot(cscore=pca_scores, loadings=loadings, labels=df.columns.values, var1=round(pca_out.explained_variance_ratio_[0]*100, 2),\n",
        "    var2=round(pca_out.explained_variance_ratio_[1]*100, 2))\n",
        "\n",
        "#get 3D biplot\n",
        "cluster.biplot(cscore=pca_scores, loadings=loadings, labels=df.columns.values, \n",
        "    var1=round(pca_out.explained_variance_ratio_[0]*100, 2), var2=round(pca_out.explained_variance_ratio_[1]*100, 2), \n",
        "    var3=round(pca_out.explained_variance_ratio_[2]*100, 2))\n"
      ],
      "execution_count": 20,
      "outputs": []
    },
    {
      "cell_type": "code",
      "metadata": {
        "id": "lFpGm1kvgIjG",
        "colab_type": "code",
        "colab": {}
      },
      "source": [
        ""
      ],
      "execution_count": 20,
      "outputs": []
    }
  ]
}