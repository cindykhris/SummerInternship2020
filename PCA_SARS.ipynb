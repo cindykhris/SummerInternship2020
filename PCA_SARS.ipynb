{
  "nbformat": 4,
  "nbformat_minor": 0,
  "metadata": {
    "colab": {
      "name": "PCA.ipynb",
      "provenance": [],
      "toc_visible": true,
      "mount_file_id": "https://github.com/cindykhris/SummerInternship2020/blob/master/PCA_SARS.ipynb",
      "authorship_tag": "ABX9TyOTS336y+k80Tb13rjY8Oyb",
      "include_colab_link": true
    },
    "kernelspec": {
      "name": "python3",
      "display_name": "Python 3"
    }
  },
  "cells": [
    {
      "cell_type": "markdown",
      "metadata": {
        "id": "view-in-github",
        "colab_type": "text"
      },
      "source": [
        "<a href=\"https://colab.research.google.com/github/cindykhris/SummerInternship2020/blob/master/PCA_SARS.ipynb\" target=\"_parent\"><img src=\"https://colab.research.google.com/assets/colab-badge.svg\" alt=\"Open In Colab\"/></a>"
      ]
    },
    {
      "cell_type": "markdown",
      "metadata": {
        "id": "FWRwSQfxg9Of",
        "colab_type": "text"
      },
      "source": [
        "#Principal Component Analysis (PCA) and Visualization using Python\n",
        "\n",
        "**Introduction**\n",
        "\n",
        "Description: In this study, I analyzed the gene expression of coronaviruses (CoVs) infections to determine how each virus differs when causing a disease. Here, I focused the analysis on samples derived from SARS-CoV, MERS, and SARS-CoV-2. \n",
        "The raw sequence data (fastq files) for the SARS-CoV-1 was downloaded from GEO [GSE56192](https://www.ncbi.nlm.nih.gov/geo/query/acc.cgi?acc=GSE56192), including their corresponding Mock-treated controls). The raw sequence data (fastq files) for the SARS-CoV-2 infections were downloaded from GEO [GSE147507](https://www.ncbi.nlm.nih.gov/geo/query/acc.cgi?acc=GSE147507)), including their corresponding Mock-treated controls). The raw sequence data (fastq files) for the MERS infections were downloaded from GEO [GSE139516](https://www.ncbi.nlm.nih.gov/geo/query/acc.cgi?acc=GSE139516), including their corresponding Mock-treated controls. Gene expression matrixes were generated using the [BioInfoPlatform](https://server.t-bio.info) described below:\n",
        "\n",
        "\n",
        "*   PreProcessing\n",
        "    \n",
        "      * PCR clean - to remove duplicates from the PCR run  thus reducing redundancy. \n",
        "      * Trimmomatic - removes adapter sequences\n",
        "*   Mapping \n",
        "      * Bowtie-2t\n",
        "* Quantification \n",
        "\n",
        "    * RSEM -  Fragment Per Kilobase of transcript per Million mapped reads  for Paired-End Reads\n",
        "\n",
        "*   Differential Expression\n",
        "\n",
        "    * DESeq2\n",
        "\n",
        "Principal Component Analysis steps described in [Renesh Bedre github](https://reneshbedre.github.io/blog/pca_3d.html) were used to analyse the generated gene expression matrix. "
      ]
    },
    {
      "cell_type": "code",
      "metadata": {
        "id": "pE9WfN3VmeNU",
        "colab_type": "code",
        "colab": {
          "base_uri": "https://localhost:8080/",
          "height": 595
        },
        "outputId": "4297cd30-39e8-4442-c81d-b8a07509dcd5"
      },
      "source": [
        "pip install bioinfokit"
      ],
      "execution_count": 1,
      "outputs": [
        {
          "output_type": "stream",
          "text": [
            "Collecting bioinfokit\n",
            "\u001b[?25l  Downloading https://files.pythonhosted.org/packages/3c/6b/2859d341b579cd0057c51038d88223f69f8fdf40e22be126c247bff7988b/bioinfokit-0.9.6.tar.gz (48kB)\n",
            "\r\u001b[K     |██████▉                         | 10kB 15.7MB/s eta 0:00:01\r\u001b[K     |█████████████▋                  | 20kB 1.8MB/s eta 0:00:01\r\u001b[K     |████████████████████▍           | 30kB 2.3MB/s eta 0:00:01\r\u001b[K     |███████████████████████████▏    | 40kB 2.7MB/s eta 0:00:01\r\u001b[K     |████████████████████████████████| 51kB 1.7MB/s \n",
            "\u001b[?25hRequirement already satisfied: pandas in /usr/local/lib/python3.6/dist-packages (from bioinfokit) (1.0.5)\n",
            "Requirement already satisfied: numpy in /usr/local/lib/python3.6/dist-packages (from bioinfokit) (1.18.5)\n",
            "Requirement already satisfied: matplotlib in /usr/local/lib/python3.6/dist-packages (from bioinfokit) (3.2.2)\n",
            "Requirement already satisfied: scipy in /usr/local/lib/python3.6/dist-packages (from bioinfokit) (1.4.1)\n",
            "Requirement already satisfied: scikit-learn in /usr/local/lib/python3.6/dist-packages (from bioinfokit) (0.22.2.post1)\n",
            "Requirement already satisfied: seaborn in /usr/local/lib/python3.6/dist-packages (from bioinfokit) (0.10.1)\n",
            "Requirement already satisfied: matplotlib_venn in /usr/local/lib/python3.6/dist-packages (from bioinfokit) (0.11.5)\n",
            "Requirement already satisfied: tabulate in /usr/local/lib/python3.6/dist-packages (from bioinfokit) (0.8.7)\n",
            "Requirement already satisfied: statsmodels in /usr/local/lib/python3.6/dist-packages (from bioinfokit) (0.10.2)\n",
            "Collecting textwrap3\n",
            "  Downloading https://files.pythonhosted.org/packages/77/9c/a53e561d496ee5866bbeea4d3a850b3b545ed854f8a21007c1e0d872e94d/textwrap3-0.9.2-py2.py3-none-any.whl\n",
            "Collecting adjustText\n",
            "  Downloading https://files.pythonhosted.org/packages/9e/15/4157718bf323fd5f5b81c891c660d0f388e042d2689a558bf1389632dc44/adjustText-0.7.3.tar.gz\n",
            "Requirement already satisfied: python-dateutil>=2.6.1 in /usr/local/lib/python3.6/dist-packages (from pandas->bioinfokit) (2.8.1)\n",
            "Requirement already satisfied: pytz>=2017.2 in /usr/local/lib/python3.6/dist-packages (from pandas->bioinfokit) (2018.9)\n",
            "Requirement already satisfied: pyparsing!=2.0.4,!=2.1.2,!=2.1.6,>=2.0.1 in /usr/local/lib/python3.6/dist-packages (from matplotlib->bioinfokit) (2.4.7)\n",
            "Requirement already satisfied: kiwisolver>=1.0.1 in /usr/local/lib/python3.6/dist-packages (from matplotlib->bioinfokit) (1.2.0)\n",
            "Requirement already satisfied: cycler>=0.10 in /usr/local/lib/python3.6/dist-packages (from matplotlib->bioinfokit) (0.10.0)\n",
            "Requirement already satisfied: joblib>=0.11 in /usr/local/lib/python3.6/dist-packages (from scikit-learn->bioinfokit) (0.16.0)\n",
            "Requirement already satisfied: patsy>=0.4.0 in /usr/local/lib/python3.6/dist-packages (from statsmodels->bioinfokit) (0.5.1)\n",
            "Requirement already satisfied: six>=1.5 in /usr/local/lib/python3.6/dist-packages (from python-dateutil>=2.6.1->pandas->bioinfokit) (1.15.0)\n",
            "Building wheels for collected packages: bioinfokit, adjustText\n",
            "  Building wheel for bioinfokit (setup.py) ... \u001b[?25l\u001b[?25hdone\n",
            "  Created wheel for bioinfokit: filename=bioinfokit-0.9.6-cp36-none-any.whl size=32041 sha256=51dbbc12be544da57ce2a22d62adf0b2830d2e4effbc26f83e80cc8c30b4f306\n",
            "  Stored in directory: /root/.cache/pip/wheels/17/e3/d1/dc69854b469f0ad51b2e1c913690e4cc9aa28aae9375f913fc\n",
            "  Building wheel for adjustText (setup.py) ... \u001b[?25l\u001b[?25hdone\n",
            "  Created wheel for adjustText: filename=adjustText-0.7.3-cp36-none-any.whl size=7099 sha256=891e9f66ba3e6de90e8f8edd56f60430273fa0da4c6126d55fe89f3428350826\n",
            "  Stored in directory: /root/.cache/pip/wheels/41/95/74/7d347e136d672f8bc28e937032bc92baf4f80856763a7e7b72\n",
            "Successfully built bioinfokit adjustText\n",
            "Installing collected packages: textwrap3, adjustText, bioinfokit\n",
            "Successfully installed adjustText-0.7.3 bioinfokit-0.9.6 textwrap3-0.9.2\n"
          ],
          "name": "stdout"
        }
      ]
    },
    {
      "cell_type": "code",
      "metadata": {
        "id": "d1jtZbPA10aH",
        "colab_type": "code",
        "colab": {
          "base_uri": "https://localhost:8080/",
          "height": 71
        },
        "outputId": "5835429a-7a87-4d08-851e-d41765dd1165"
      },
      "source": [
        "from sklearn.decomposition import PCA\n",
        "from sklearn.preprocessing import StandardScaler\n",
        "\n",
        "from bioinfokit.analys import get_data\n",
        "from bioinfokit.visuz import cluster\n",
        "import pandas as pd\n",
        "import numpy as np"
      ],
      "execution_count": 2,
      "outputs": [
        {
          "output_type": "stream",
          "text": [
            "/usr/local/lib/python3.6/dist-packages/statsmodels/tools/_testing.py:19: FutureWarning: pandas.util.testing is deprecated. Use the functions in the public API at pandas.testing instead.\n",
            "  import pandas.util.testing as tm\n"
          ],
          "name": "stderr"
        }
      ]
    },
    {
      "cell_type": "code",
      "metadata": {
        "id": "j7QH5IYjLlR5",
        "colab_type": "code",
        "colab": {
          "base_uri": "https://localhost:8080/",
          "height": 224
        },
        "outputId": "48add28f-a865-42db-f957-30d8cd709bcb"
      },
      "source": [
        "#Load SARS gene expression\n",
        "df = pd.read_table('/content/drive/My Drive/SummerResearch/DESeq_SARS_expression_genes_FPKM.txt')\n",
        "df = df.drop('id',axis=1)\n",
        "df.head(5)"
      ],
      "execution_count": 3,
      "outputs": [
        {
          "output_type": "execute_result",
          "data": {
            "text/html": [
              "<div>\n",
              "<style scoped>\n",
              "    .dataframe tbody tr th:only-of-type {\n",
              "        vertical-align: middle;\n",
              "    }\n",
              "\n",
              "    .dataframe tbody tr th {\n",
              "        vertical-align: top;\n",
              "    }\n",
              "\n",
              "    .dataframe thead th {\n",
              "        text-align: right;\n",
              "    }\n",
              "</style>\n",
              "<table border=\"1\" class=\"dataframe\">\n",
              "  <thead>\n",
              "    <tr style=\"text-align: right;\">\n",
              "      <th></th>\n",
              "      <th>group_1_sample_1_SRR1192353_PE</th>\n",
              "      <th>group_1_sample_2_SRR1192354_PE</th>\n",
              "      <th>group_1_sample_3_SRR1192370_PE</th>\n",
              "      <th>group_1_sample_4_SRR1192371_PE</th>\n",
              "      <th>group_1_sample_5_SRR1192398_PE</th>\n",
              "      <th>group_1_sample_6_SRR1192399_PE</th>\n",
              "      <th>group_2_sample_1_SRR1193100_PE</th>\n",
              "      <th>group_2_sample_2_SRR1193101_PE</th>\n",
              "      <th>group_2_sample_3_SRR1193013_PE</th>\n",
              "      <th>group_2_sample_4_SRR1193014_PE</th>\n",
              "      <th>group_2_sample_5_SRR1193016_PE</th>\n",
              "      <th>group_2_sample_6_SRR1193017_PE</th>\n",
              "    </tr>\n",
              "  </thead>\n",
              "  <tbody>\n",
              "    <tr>\n",
              "      <th>0</th>\n",
              "      <td>14.00</td>\n",
              "      <td>14.17</td>\n",
              "      <td>14.05</td>\n",
              "      <td>13.24</td>\n",
              "      <td>15.31</td>\n",
              "      <td>14.33</td>\n",
              "      <td>12.93</td>\n",
              "      <td>13.14</td>\n",
              "      <td>13.07</td>\n",
              "      <td>13.86</td>\n",
              "      <td>12.87</td>\n",
              "      <td>12.67</td>\n",
              "    </tr>\n",
              "    <tr>\n",
              "      <th>1</th>\n",
              "      <td>42.43</td>\n",
              "      <td>41.34</td>\n",
              "      <td>51.64</td>\n",
              "      <td>50.84</td>\n",
              "      <td>42.00</td>\n",
              "      <td>42.58</td>\n",
              "      <td>59.62</td>\n",
              "      <td>59.73</td>\n",
              "      <td>51.21</td>\n",
              "      <td>50.55</td>\n",
              "      <td>56.24</td>\n",
              "      <td>55.60</td>\n",
              "    </tr>\n",
              "    <tr>\n",
              "      <th>2</th>\n",
              "      <td>3.07</td>\n",
              "      <td>2.84</td>\n",
              "      <td>2.63</td>\n",
              "      <td>2.63</td>\n",
              "      <td>2.88</td>\n",
              "      <td>3.25</td>\n",
              "      <td>2.65</td>\n",
              "      <td>2.85</td>\n",
              "      <td>2.65</td>\n",
              "      <td>2.95</td>\n",
              "      <td>2.65</td>\n",
              "      <td>2.59</td>\n",
              "    </tr>\n",
              "    <tr>\n",
              "      <th>3</th>\n",
              "      <td>4.94</td>\n",
              "      <td>4.73</td>\n",
              "      <td>2.81</td>\n",
              "      <td>2.87</td>\n",
              "      <td>4.31</td>\n",
              "      <td>5.03</td>\n",
              "      <td>4.68</td>\n",
              "      <td>4.62</td>\n",
              "      <td>4.51</td>\n",
              "      <td>5.09</td>\n",
              "      <td>5.42</td>\n",
              "      <td>5.21</td>\n",
              "    </tr>\n",
              "    <tr>\n",
              "      <th>4</th>\n",
              "      <td>10.20</td>\n",
              "      <td>9.78</td>\n",
              "      <td>10.18</td>\n",
              "      <td>8.82</td>\n",
              "      <td>8.38</td>\n",
              "      <td>8.70</td>\n",
              "      <td>12.53</td>\n",
              "      <td>11.47</td>\n",
              "      <td>9.64</td>\n",
              "      <td>11.60</td>\n",
              "      <td>12.15</td>\n",
              "      <td>11.22</td>\n",
              "    </tr>\n",
              "  </tbody>\n",
              "</table>\n",
              "</div>"
            ],
            "text/plain": [
              "   group_1_sample_1_SRR1192353_PE  ...  group_2_sample_6_SRR1193017_PE\n",
              "0                           14.00  ...                           12.67\n",
              "1                           42.43  ...                           55.60\n",
              "2                            3.07  ...                            2.59\n",
              "3                            4.94  ...                            5.21\n",
              "4                           10.20  ...                           11.22\n",
              "\n",
              "[5 rows x 12 columns]"
            ]
          },
          "metadata": {
            "tags": []
          },
          "execution_count": 3
        }
      ]
    },
    {
      "cell_type": "code",
      "metadata": {
        "id": "0n4827RnQ7E4",
        "colab_type": "code",
        "colab": {}
      },
      "source": [
        "df = df.rename(columns={\n",
        "    'group_1_sample_1_SRR1192353_PE': 'A', \n",
        "    'group_1_sample_2_SRR1192354_PE': 'B' ,\n",
        "    'group_1_sample_3_SRR1192370_PE': 'C' , \n",
        "    'group_1_sample_4_SRR1192371_PE': 'D' ,\n",
        "    'group_1_sample_5_SRR1192398_PE': 'E', \n",
        "    'group_1_sample_6_SRR1192399_PE': 'F',\n",
        "    'group_2_sample_1_SRR1193100_PE': 'G', \n",
        "    'group_2_sample_2_SRR1193101_PE': 'H',\n",
        "    'group_2_sample_3_SRR1193013_PE': 'I', \n",
        "    'group_2_sample_4_SRR1193014_PE': 'J',\n",
        "    'group_2_sample_5_SRR1193016_PE': 'K', \n",
        "    'group_2_sample_6_SRR1193017_PE': 'L'})"
      ],
      "execution_count": 6,
      "outputs": []
    },
    {
      "cell_type": "code",
      "metadata": {
        "id": "47BoNeF5Sbz9",
        "colab_type": "code",
        "colab": {
          "base_uri": "https://localhost:8080/",
          "height": 204
        },
        "outputId": "1b203d56-bbc5-4c6f-87d6-fb58d169dc82"
      },
      "source": [
        "df.head(5)"
      ],
      "execution_count": 7,
      "outputs": [
        {
          "output_type": "execute_result",
          "data": {
            "text/html": [
              "<div>\n",
              "<style scoped>\n",
              "    .dataframe tbody tr th:only-of-type {\n",
              "        vertical-align: middle;\n",
              "    }\n",
              "\n",
              "    .dataframe tbody tr th {\n",
              "        vertical-align: top;\n",
              "    }\n",
              "\n",
              "    .dataframe thead th {\n",
              "        text-align: right;\n",
              "    }\n",
              "</style>\n",
              "<table border=\"1\" class=\"dataframe\">\n",
              "  <thead>\n",
              "    <tr style=\"text-align: right;\">\n",
              "      <th></th>\n",
              "      <th>A</th>\n",
              "      <th>B</th>\n",
              "      <th>C</th>\n",
              "      <th>D</th>\n",
              "      <th>E</th>\n",
              "      <th>F</th>\n",
              "      <th>G</th>\n",
              "      <th>H</th>\n",
              "      <th>I</th>\n",
              "      <th>J</th>\n",
              "      <th>K</th>\n",
              "      <th>L</th>\n",
              "    </tr>\n",
              "  </thead>\n",
              "  <tbody>\n",
              "    <tr>\n",
              "      <th>0</th>\n",
              "      <td>14.00</td>\n",
              "      <td>14.17</td>\n",
              "      <td>14.05</td>\n",
              "      <td>13.24</td>\n",
              "      <td>15.31</td>\n",
              "      <td>14.33</td>\n",
              "      <td>12.93</td>\n",
              "      <td>13.14</td>\n",
              "      <td>13.07</td>\n",
              "      <td>13.86</td>\n",
              "      <td>12.87</td>\n",
              "      <td>12.67</td>\n",
              "    </tr>\n",
              "    <tr>\n",
              "      <th>1</th>\n",
              "      <td>42.43</td>\n",
              "      <td>41.34</td>\n",
              "      <td>51.64</td>\n",
              "      <td>50.84</td>\n",
              "      <td>42.00</td>\n",
              "      <td>42.58</td>\n",
              "      <td>59.62</td>\n",
              "      <td>59.73</td>\n",
              "      <td>51.21</td>\n",
              "      <td>50.55</td>\n",
              "      <td>56.24</td>\n",
              "      <td>55.60</td>\n",
              "    </tr>\n",
              "    <tr>\n",
              "      <th>2</th>\n",
              "      <td>3.07</td>\n",
              "      <td>2.84</td>\n",
              "      <td>2.63</td>\n",
              "      <td>2.63</td>\n",
              "      <td>2.88</td>\n",
              "      <td>3.25</td>\n",
              "      <td>2.65</td>\n",
              "      <td>2.85</td>\n",
              "      <td>2.65</td>\n",
              "      <td>2.95</td>\n",
              "      <td>2.65</td>\n",
              "      <td>2.59</td>\n",
              "    </tr>\n",
              "    <tr>\n",
              "      <th>3</th>\n",
              "      <td>4.94</td>\n",
              "      <td>4.73</td>\n",
              "      <td>2.81</td>\n",
              "      <td>2.87</td>\n",
              "      <td>4.31</td>\n",
              "      <td>5.03</td>\n",
              "      <td>4.68</td>\n",
              "      <td>4.62</td>\n",
              "      <td>4.51</td>\n",
              "      <td>5.09</td>\n",
              "      <td>5.42</td>\n",
              "      <td>5.21</td>\n",
              "    </tr>\n",
              "    <tr>\n",
              "      <th>4</th>\n",
              "      <td>10.20</td>\n",
              "      <td>9.78</td>\n",
              "      <td>10.18</td>\n",
              "      <td>8.82</td>\n",
              "      <td>8.38</td>\n",
              "      <td>8.70</td>\n",
              "      <td>12.53</td>\n",
              "      <td>11.47</td>\n",
              "      <td>9.64</td>\n",
              "      <td>11.60</td>\n",
              "      <td>12.15</td>\n",
              "      <td>11.22</td>\n",
              "    </tr>\n",
              "  </tbody>\n",
              "</table>\n",
              "</div>"
            ],
            "text/plain": [
              "       A      B      C      D      E  ...      H      I      J      K      L\n",
              "0  14.00  14.17  14.05  13.24  15.31  ...  13.14  13.07  13.86  12.87  12.67\n",
              "1  42.43  41.34  51.64  50.84  42.00  ...  59.73  51.21  50.55  56.24  55.60\n",
              "2   3.07   2.84   2.63   2.63   2.88  ...   2.85   2.65   2.95   2.65   2.59\n",
              "3   4.94   4.73   2.81   2.87   4.31  ...   4.62   4.51   5.09   5.42   5.21\n",
              "4  10.20   9.78  10.18   8.82   8.38  ...  11.47   9.64  11.60  12.15  11.22\n",
              "\n",
              "[5 rows x 12 columns]"
            ]
          },
          "metadata": {
            "tags": []
          },
          "execution_count": 7
        }
      ]
    },
    {
      "cell_type": "code",
      "metadata": {
        "id": "kR6P83Je3MCF",
        "colab_type": "code",
        "colab": {}
      },
      "source": [
        "#Standarization\n",
        "df_st = StandardScaler().fit_transform(df)"
      ],
      "execution_count": 8,
      "outputs": []
    },
    {
      "cell_type": "code",
      "metadata": {
        "id": "2CcxnNdu9l0w",
        "colab_type": "code",
        "colab": {
          "base_uri": "https://localhost:8080/",
          "height": 204
        },
        "outputId": "5e3433b4-c3f3-4671-a752-7c88fc2aad00"
      },
      "source": [
        "#see few rows of standarized dataset\n",
        "pd.DataFrame(df_st, columns=df.columns).head()"
      ],
      "execution_count": 9,
      "outputs": [
        {
          "output_type": "execute_result",
          "data": {
            "text/html": [
              "<div>\n",
              "<style scoped>\n",
              "    .dataframe tbody tr th:only-of-type {\n",
              "        vertical-align: middle;\n",
              "    }\n",
              "\n",
              "    .dataframe tbody tr th {\n",
              "        vertical-align: top;\n",
              "    }\n",
              "\n",
              "    .dataframe thead th {\n",
              "        text-align: right;\n",
              "    }\n",
              "</style>\n",
              "<table border=\"1\" class=\"dataframe\">\n",
              "  <thead>\n",
              "    <tr style=\"text-align: right;\">\n",
              "      <th></th>\n",
              "      <th>A</th>\n",
              "      <th>B</th>\n",
              "      <th>C</th>\n",
              "      <th>D</th>\n",
              "      <th>E</th>\n",
              "      <th>F</th>\n",
              "      <th>G</th>\n",
              "      <th>H</th>\n",
              "      <th>I</th>\n",
              "      <th>J</th>\n",
              "      <th>K</th>\n",
              "      <th>L</th>\n",
              "    </tr>\n",
              "  </thead>\n",
              "  <tbody>\n",
              "    <tr>\n",
              "      <th>0</th>\n",
              "      <td>-0.148181</td>\n",
              "      <td>-0.147966</td>\n",
              "      <td>-0.146761</td>\n",
              "      <td>-0.150689</td>\n",
              "      <td>-0.141865</td>\n",
              "      <td>-0.146585</td>\n",
              "      <td>-0.158568</td>\n",
              "      <td>-0.157477</td>\n",
              "      <td>-0.154858</td>\n",
              "      <td>-0.151266</td>\n",
              "      <td>-0.159077</td>\n",
              "      <td>-0.160214</td>\n",
              "    </tr>\n",
              "    <tr>\n",
              "      <th>1</th>\n",
              "      <td>-0.016528</td>\n",
              "      <td>-0.021557</td>\n",
              "      <td>0.009797</td>\n",
              "      <td>0.006936</td>\n",
              "      <td>-0.025667</td>\n",
              "      <td>-0.023000</td>\n",
              "      <td>0.087573</td>\n",
              "      <td>0.088119</td>\n",
              "      <td>0.025734</td>\n",
              "      <td>0.022593</td>\n",
              "      <td>0.080755</td>\n",
              "      <td>0.077590</td>\n",
              "    </tr>\n",
              "    <tr>\n",
              "      <th>2</th>\n",
              "      <td>-0.198795</td>\n",
              "      <td>-0.200679</td>\n",
              "      <td>-0.194323</td>\n",
              "      <td>-0.195168</td>\n",
              "      <td>-0.195980</td>\n",
              "      <td>-0.195057</td>\n",
              "      <td>-0.212762</td>\n",
              "      <td>-0.211720</td>\n",
              "      <td>-0.204197</td>\n",
              "      <td>-0.202964</td>\n",
              "      <td>-0.215593</td>\n",
              "      <td>-0.216051</td>\n",
              "    </tr>\n",
              "    <tr>\n",
              "      <th>3</th>\n",
              "      <td>-0.190136</td>\n",
              "      <td>-0.191886</td>\n",
              "      <td>-0.193574</td>\n",
              "      <td>-0.194162</td>\n",
              "      <td>-0.189754</td>\n",
              "      <td>-0.187270</td>\n",
              "      <td>-0.202060</td>\n",
              "      <td>-0.202390</td>\n",
              "      <td>-0.195390</td>\n",
              "      <td>-0.192823</td>\n",
              "      <td>-0.200275</td>\n",
              "      <td>-0.201538</td>\n",
              "    </tr>\n",
              "    <tr>\n",
              "      <th>4</th>\n",
              "      <td>-0.165778</td>\n",
              "      <td>-0.168390</td>\n",
              "      <td>-0.162879</td>\n",
              "      <td>-0.169218</td>\n",
              "      <td>-0.172035</td>\n",
              "      <td>-0.171215</td>\n",
              "      <td>-0.160677</td>\n",
              "      <td>-0.166280</td>\n",
              "      <td>-0.171099</td>\n",
              "      <td>-0.161975</td>\n",
              "      <td>-0.163059</td>\n",
              "      <td>-0.168246</td>\n",
              "    </tr>\n",
              "  </tbody>\n",
              "</table>\n",
              "</div>"
            ],
            "text/plain": [
              "          A         B         C  ...         J         K         L\n",
              "0 -0.148181 -0.147966 -0.146761  ... -0.151266 -0.159077 -0.160214\n",
              "1 -0.016528 -0.021557  0.009797  ...  0.022593  0.080755  0.077590\n",
              "2 -0.198795 -0.200679 -0.194323  ... -0.202964 -0.215593 -0.216051\n",
              "3 -0.190136 -0.191886 -0.193574  ... -0.192823 -0.200275 -0.201538\n",
              "4 -0.165778 -0.168390 -0.162879  ... -0.161975 -0.163059 -0.168246\n",
              "\n",
              "[5 rows x 12 columns]"
            ]
          },
          "metadata": {
            "tags": []
          },
          "execution_count": 9
        }
      ]
    },
    {
      "cell_type": "code",
      "metadata": {
        "id": "Ogrfh4Q4-O8g",
        "colab_type": "code",
        "colab": {}
      },
      "source": [
        "#perfom PCA\n",
        "pca_out = PCA().fit(df_st)"
      ],
      "execution_count": 10,
      "outputs": []
    },
    {
      "cell_type": "code",
      "metadata": {
        "id": "U7kkfDWD-YUL",
        "colab_type": "code",
        "colab": {
          "base_uri": "https://localhost:8080/",
          "height": 68
        },
        "outputId": "fc14eafa-e399-4aac-abd8-d4267270ebd2"
      },
      "source": [
        "#get the component variance\n",
        "#proportion of Variance (from PC1 to PC6)\n",
        "pca_out.explained_variance_ratio_"
      ],
      "execution_count": 11,
      "outputs": [
        {
          "output_type": "execute_result",
          "data": {
            "text/plain": [
              "array([9.76178128e-01, 2.06678620e-02, 1.82206035e-03, 8.17086707e-04,\n",
              "       3.07448361e-04, 1.41155332e-04, 1.66631520e-05, 1.32920978e-05,\n",
              "       1.19190754e-05, 1.03643253e-05, 8.38608865e-06, 5.63469290e-06])"
            ]
          },
          "metadata": {
            "tags": []
          },
          "execution_count": 11
        }
      ]
    },
    {
      "cell_type": "code",
      "metadata": {
        "id": "foJt7lsc-ntk",
        "colab_type": "code",
        "colab": {
          "base_uri": "https://localhost:8080/",
          "height": 68
        },
        "outputId": "d20414f1-4bbe-4b8e-8136-466f5559210d"
      },
      "source": [
        "#cumulative propotion of variance (from PC1 to PC6)\n",
        "np.cumsum(pca_out.explained_variance_ratio_\n",
        "          )"
      ],
      "execution_count": 12,
      "outputs": [
        {
          "output_type": "execute_result",
          "data": {
            "text/plain": [
              "array([0.97617813, 0.99684599, 0.99866805, 0.99948514, 0.99979259,\n",
              "       0.99993374, 0.9999504 , 0.9999637 , 0.99997561, 0.99998598,\n",
              "       0.99999437, 1.        ])"
            ]
          },
          "metadata": {
            "tags": []
          },
          "execution_count": 12
        }
      ]
    },
    {
      "cell_type": "code",
      "metadata": {
        "id": "4KJnwceVLxfV",
        "colab_type": "code",
        "colab": {}
      },
      "source": [
        "#get component loadings (correlation coefficint between original variables and the component )\n",
        "loadings = pca_out.components_\n",
        "num_pc   = pca_out.n_features_\n",
        "pc_list  = ['PC'+str(i) for i in list(range(1,num_pc+1))]\n"
      ],
      "execution_count": 13,
      "outputs": []
    },
    {
      "cell_type": "code",
      "metadata": {
        "id": "Mwt9XTUFMxTA",
        "colab_type": "code",
        "colab": {
          "base_uri": "https://localhost:8080/",
          "height": 452
        },
        "outputId": "fb9a70e1-ad2d-420b-e9c2-cb17c8cd66c2"
      },
      "source": [
        "loading_df = pd.DataFrame.from_dict(dict(zip(pc_list, loadings)))\n",
        "loading_df['variable'] = df.columns.values\n",
        "loading_df = loading_df.set_index('variable')\n",
        "loading_df"
      ],
      "execution_count": 14,
      "outputs": [
        {
          "output_type": "execute_result",
          "data": {
            "text/html": [
              "<div>\n",
              "<style scoped>\n",
              "    .dataframe tbody tr th:only-of-type {\n",
              "        vertical-align: middle;\n",
              "    }\n",
              "\n",
              "    .dataframe tbody tr th {\n",
              "        vertical-align: top;\n",
              "    }\n",
              "\n",
              "    .dataframe thead th {\n",
              "        text-align: right;\n",
              "    }\n",
              "</style>\n",
              "<table border=\"1\" class=\"dataframe\">\n",
              "  <thead>\n",
              "    <tr style=\"text-align: right;\">\n",
              "      <th></th>\n",
              "      <th>PC1</th>\n",
              "      <th>PC2</th>\n",
              "      <th>PC3</th>\n",
              "      <th>PC4</th>\n",
              "      <th>PC5</th>\n",
              "      <th>PC6</th>\n",
              "      <th>PC7</th>\n",
              "      <th>PC8</th>\n",
              "      <th>PC9</th>\n",
              "      <th>PC10</th>\n",
              "      <th>PC11</th>\n",
              "      <th>PC12</th>\n",
              "    </tr>\n",
              "    <tr>\n",
              "      <th>variable</th>\n",
              "      <th></th>\n",
              "      <th></th>\n",
              "      <th></th>\n",
              "      <th></th>\n",
              "      <th></th>\n",
              "      <th></th>\n",
              "      <th></th>\n",
              "      <th></th>\n",
              "      <th></th>\n",
              "      <th></th>\n",
              "      <th></th>\n",
              "      <th></th>\n",
              "    </tr>\n",
              "  </thead>\n",
              "  <tbody>\n",
              "    <tr>\n",
              "      <th>A</th>\n",
              "      <td>0.291497</td>\n",
              "      <td>-0.009839</td>\n",
              "      <td>0.414110</td>\n",
              "      <td>-0.093718</td>\n",
              "      <td>-0.415786</td>\n",
              "      <td>-0.228716</td>\n",
              "      <td>-0.066633</td>\n",
              "      <td>-0.313231</td>\n",
              "      <td>-0.240326</td>\n",
              "      <td>-0.310041</td>\n",
              "      <td>-0.396034</td>\n",
              "      <td>0.310153</td>\n",
              "    </tr>\n",
              "    <tr>\n",
              "      <th>B</th>\n",
              "      <td>0.291488</td>\n",
              "      <td>-0.010902</td>\n",
              "      <td>0.413608</td>\n",
              "      <td>-0.104869</td>\n",
              "      <td>-0.429114</td>\n",
              "      <td>-0.231913</td>\n",
              "      <td>0.114187</td>\n",
              "      <td>0.261599</td>\n",
              "      <td>0.296463</td>\n",
              "      <td>0.283928</td>\n",
              "      <td>0.399720</td>\n",
              "      <td>-0.291840</td>\n",
              "    </tr>\n",
              "    <tr>\n",
              "      <th>C</th>\n",
              "      <td>0.284588</td>\n",
              "      <td>0.441819</td>\n",
              "      <td>-0.242637</td>\n",
              "      <td>0.381886</td>\n",
              "      <td>-0.152102</td>\n",
              "      <td>-0.028415</td>\n",
              "      <td>-0.273319</td>\n",
              "      <td>-0.120997</td>\n",
              "      <td>-0.178487</td>\n",
              "      <td>-0.214012</td>\n",
              "      <td>-0.000575</td>\n",
              "      <td>-0.572844</td>\n",
              "    </tr>\n",
              "    <tr>\n",
              "      <th>D</th>\n",
              "      <td>0.284634</td>\n",
              "      <td>0.440183</td>\n",
              "      <td>-0.254026</td>\n",
              "      <td>0.376099</td>\n",
              "      <td>-0.122881</td>\n",
              "      <td>-0.004326</td>\n",
              "      <td>0.272096</td>\n",
              "      <td>0.120347</td>\n",
              "      <td>0.188311</td>\n",
              "      <td>0.213734</td>\n",
              "      <td>0.005784</td>\n",
              "      <td>0.578298</td>\n",
              "    </tr>\n",
              "    <tr>\n",
              "      <th>E</th>\n",
              "      <td>0.287876</td>\n",
              "      <td>0.328426</td>\n",
              "      <td>0.060007</td>\n",
              "      <td>-0.449155</td>\n",
              "      <td>0.297582</td>\n",
              "      <td>0.134518</td>\n",
              "      <td>-0.054887</td>\n",
              "      <td>-0.252539</td>\n",
              "      <td>-0.138205</td>\n",
              "      <td>-0.204173</td>\n",
              "      <td>0.579493</td>\n",
              "      <td>0.184077</td>\n",
              "    </tr>\n",
              "    <tr>\n",
              "      <th>F</th>\n",
              "      <td>0.287830</td>\n",
              "      <td>0.329849</td>\n",
              "      <td>0.043531</td>\n",
              "      <td>-0.472742</td>\n",
              "      <td>0.241683</td>\n",
              "      <td>0.151885</td>\n",
              "      <td>0.053483</td>\n",
              "      <td>0.270405</td>\n",
              "      <td>0.102414</td>\n",
              "      <td>0.202605</td>\n",
              "      <td>-0.578747</td>\n",
              "      <td>-0.197555</td>\n",
              "    </tr>\n",
              "    <tr>\n",
              "      <th>G</th>\n",
              "      <td>0.289245</td>\n",
              "      <td>-0.260576</td>\n",
              "      <td>-0.337387</td>\n",
              "      <td>-0.090462</td>\n",
              "      <td>0.195401</td>\n",
              "      <td>-0.451887</td>\n",
              "      <td>0.023431</td>\n",
              "      <td>-0.035733</td>\n",
              "      <td>0.548763</td>\n",
              "      <td>-0.421926</td>\n",
              "      <td>-0.051070</td>\n",
              "      <td>-0.021082</td>\n",
              "    </tr>\n",
              "    <tr>\n",
              "      <th>H</th>\n",
              "      <td>0.289422</td>\n",
              "      <td>-0.255580</td>\n",
              "      <td>-0.301474</td>\n",
              "      <td>-0.082516</td>\n",
              "      <td>0.133077</td>\n",
              "      <td>-0.471199</td>\n",
              "      <td>-0.018497</td>\n",
              "      <td>0.039671</td>\n",
              "      <td>-0.562462</td>\n",
              "      <td>0.439627</td>\n",
              "      <td>0.039691</td>\n",
              "      <td>0.018801</td>\n",
              "    </tr>\n",
              "    <tr>\n",
              "      <th>I</th>\n",
              "      <td>0.290482</td>\n",
              "      <td>-0.176193</td>\n",
              "      <td>0.322051</td>\n",
              "      <td>0.324251</td>\n",
              "      <td>0.345938</td>\n",
              "      <td>0.117512</td>\n",
              "      <td>-0.668381</td>\n",
              "      <td>0.091103</td>\n",
              "      <td>0.162275</td>\n",
              "      <td>0.174026</td>\n",
              "      <td>-0.010443</td>\n",
              "      <td>0.174581</td>\n",
              "    </tr>\n",
              "    <tr>\n",
              "      <th>J</th>\n",
              "      <td>0.290292</td>\n",
              "      <td>-0.184086</td>\n",
              "      <td>0.332511</td>\n",
              "      <td>0.368806</td>\n",
              "      <td>0.398656</td>\n",
              "      <td>0.130786</td>\n",
              "      <td>0.611546</td>\n",
              "      <td>-0.029809</td>\n",
              "      <td>-0.165085</td>\n",
              "      <td>-0.155065</td>\n",
              "      <td>-0.015053</td>\n",
              "      <td>-0.181184</td>\n",
              "    </tr>\n",
              "    <tr>\n",
              "      <th>K</th>\n",
              "      <td>0.288415</td>\n",
              "      <td>-0.309442</td>\n",
              "      <td>-0.233584</td>\n",
              "      <td>-0.069297</td>\n",
              "      <td>-0.213648</td>\n",
              "      <td>0.454446</td>\n",
              "      <td>0.059586</td>\n",
              "      <td>-0.587423</td>\n",
              "      <td>0.200652</td>\n",
              "      <td>0.329599</td>\n",
              "      <td>-0.048309</td>\n",
              "      <td>-0.098415</td>\n",
              "    </tr>\n",
              "    <tr>\n",
              "      <th>L</th>\n",
              "      <td>0.288233</td>\n",
              "      <td>-0.316619</td>\n",
              "      <td>-0.234489</td>\n",
              "      <td>-0.082192</td>\n",
              "      <td>-0.278651</td>\n",
              "      <td>0.433876</td>\n",
              "      <td>-0.052396</td>\n",
              "      <td>0.557072</td>\n",
              "      <td>-0.214695</td>\n",
              "      <td>-0.338795</td>\n",
              "      <td>0.075724</td>\n",
              "      <td>0.096713</td>\n",
              "    </tr>\n",
              "  </tbody>\n",
              "</table>\n",
              "</div>"
            ],
            "text/plain": [
              "               PC1       PC2       PC3  ...      PC10      PC11      PC12\n",
              "variable                                ...                              \n",
              "A         0.291497 -0.009839  0.414110  ... -0.310041 -0.396034  0.310153\n",
              "B         0.291488 -0.010902  0.413608  ...  0.283928  0.399720 -0.291840\n",
              "C         0.284588  0.441819 -0.242637  ... -0.214012 -0.000575 -0.572844\n",
              "D         0.284634  0.440183 -0.254026  ...  0.213734  0.005784  0.578298\n",
              "E         0.287876  0.328426  0.060007  ... -0.204173  0.579493  0.184077\n",
              "F         0.287830  0.329849  0.043531  ...  0.202605 -0.578747 -0.197555\n",
              "G         0.289245 -0.260576 -0.337387  ... -0.421926 -0.051070 -0.021082\n",
              "H         0.289422 -0.255580 -0.301474  ...  0.439627  0.039691  0.018801\n",
              "I         0.290482 -0.176193  0.322051  ...  0.174026 -0.010443  0.174581\n",
              "J         0.290292 -0.184086  0.332511  ... -0.155065 -0.015053 -0.181184\n",
              "K         0.288415 -0.309442 -0.233584  ...  0.329599 -0.048309 -0.098415\n",
              "L         0.288233 -0.316619 -0.234489  ... -0.338795  0.075724  0.096713\n",
              "\n",
              "[12 rows x 12 columns]"
            ]
          },
          "metadata": {
            "tags": []
          },
          "execution_count": 14
        }
      ]
    },
    {
      "cell_type": "code",
      "metadata": {
        "id": "XwpHDLf1M8W6",
        "colab_type": "code",
        "colab": {}
      },
      "source": [
        "#get correalation matrix plot for loadings\n",
        "import seaborn as sns\n",
        "import matplotlib.pyplot as plt\n",
        "\n"
      ],
      "execution_count": 15,
      "outputs": []
    },
    {
      "cell_type": "code",
      "metadata": {
        "id": "PusR9Ej7NLqd",
        "colab_type": "code",
        "colab": {
          "base_uri": "https://localhost:8080/",
          "height": 283
        },
        "outputId": "0410b754-d22d-49ee-dc7c-2420d14c7886"
      },
      "source": [
        "ax = sns.heatmap(loading_df, annot=True, cmap='Spectral')\n",
        "plt.show()"
      ],
      "execution_count": 16,
      "outputs": [
        {
          "output_type": "display_data",
          "data": {
            "image/png": "[encoded data removed]",
            "text/plain": [
              "<Figure size 432x288 with 2 Axes>"
            ]
          },
          "metadata": {
            "tags": [],
            "needs_background": "light"
          }
        }
      ]
    },
    {
      "cell_type": "code",
      "metadata": {
        "id": "5yl0MnJrNWBl",
        "colab_type": "code",
        "colab": {
          "base_uri": "https://localhost:8080/",
          "height": 68
        },
        "outputId": "2ffc43df-3958-40f3-fa46-880d0724cccf"
      },
      "source": [
        "#Principal component (PC) retention\n",
        "#get eigenvalues (from PC1 to PC6)\n",
        "pca_out.explained_variance_"
      ],
      "execution_count": 17,
      "outputs": [
        {
          "output_type": "execute_result",
          "data": {
            "text/plain": [
              "array([1.17149335e+01, 2.48031198e-01, 2.18662099e-02, 9.80570677e-03,\n",
              "       3.68963104e-03, 1.69397909e-03, 1.99971412e-04, 1.59516012e-04,\n",
              "       1.43038624e-04, 1.24380355e-04, 1.00639902e-04, 6.76209096e-05])"
            ]
          },
          "metadata": {
            "tags": []
          },
          "execution_count": 17
        }
      ]
    },
    {
      "cell_type": "code",
      "metadata": {
        "id": "Sj11aDGtNlHm",
        "colab_type": "code",
        "colab": {}
      },
      "source": [
        "#get screen plot (for scree or elbow test)\n"
      ],
      "execution_count": 18,
      "outputs": []
    },
    {
      "cell_type": "code",
      "metadata": {
        "id": "lRLSVpQYN0TK",
        "colab_type": "code",
        "colab": {
          "base_uri": "https://localhost:8080/",
          "height": 34
        },
        "outputId": "e05c468b-2b0d-4aee-a8b6-6ea6e2ee7e96"
      },
      "source": [
        "cluster.screeplot(obj=[pc_list, pca_out.explained_variance_ratio_])\n",
        "#scree plot will be saved in the same directory with name screenplot.png"
      ],
      "execution_count": 19,
      "outputs": [
        {
          "output_type": "stream",
          "text": [
            "findfont: Font family ['Arial'] not found. Falling back to DejaVu Sans.\n"
          ],
          "name": "stderr"
        }
      ]
    },
    {
      "cell_type": "code",
      "metadata": {
        "id": "nBm48gwLPRXX",
        "colab_type": "code",
        "colab": {}
      },
      "source": [
        "#PCA loadings plot\n",
        "#get PCA loadings plots (2D and 3D)\n",
        "#2D\n",
        "cluster.pcaplot(x=loadings[0], y=loadings[1], labels=df.columns.values, \n",
        "    var1=round(pca_out.explained_variance_ratio_[0]*100, 2),\n",
        "    var2=round(pca_out.explained_variance_ratio_[1]*100, 2))\n"
      ],
      "execution_count": 20,
      "outputs": []
    },
    {
      "cell_type": "code",
      "metadata": {
        "id": "6Fl3qCJAQKK_",
        "colab_type": "code",
        "colab": {}
      },
      "source": [
        "# 3D\n",
        "cluster.pcaplot(x=loadings[0], y=loadings[1], z=loadings[2],  labels=df.columns.values, \n",
        "    var1=round(pca_out.explained_variance_ratio_[0]*100, 2), var2=round(pca_out.explained_variance_ratio_[1]*100, 2), \n",
        "    var3=round(pca_out.explained_variance_ratio_[2]*100, 2))"
      ],
      "execution_count": 21,
      "outputs": []
    },
    {
      "cell_type": "code",
      "metadata": {
        "id": "NNGW1akeQRzf",
        "colab_type": "code",
        "colab": {}
      },
      "source": [
        "#PCA biplot\n",
        "pca_scores = PCA().fit_transform(df_st)\n",
        "\n",
        "#get 2D biplot\n",
        "cluster.biplot(cscore=pca_scores, loadings=loadings, labels=df.columns.values, var1=round(pca_out.explained_variance_ratio_[0]*100, 2),\n",
        "    var2=round(pca_out.explained_variance_ratio_[1]*100, 2))\n",
        "\n",
        "#get 3D biplot\n",
        "cluster.biplot(cscore=pca_scores, loadings=loadings, labels=df.columns.values, \n",
        "    var1=round(pca_out.explained_variance_ratio_[0]*100, 2), var2=round(pca_out.explained_variance_ratio_[1]*100, 2), \n",
        "    var3=round(pca_out.explained_variance_ratio_[2]*100, 2))\n"
      ],
      "execution_count": 22,
      "outputs": []
    },
    {
      "cell_type": "code",
      "metadata": {
        "id": "lFpGm1kvgIjG",
        "colab_type": "code",
        "colab": {}
      },
      "source": [
        ""
      ],
      "execution_count": null,
      "outputs": []
    }
  ]
}