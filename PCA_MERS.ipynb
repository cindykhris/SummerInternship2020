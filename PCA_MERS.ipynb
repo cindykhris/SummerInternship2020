{
  "nbformat": 4,
  "nbformat_minor": 0,
  "metadata": {
    "colab": {
      "name": "PCA.ipynb",
      "provenance": [],
      "toc_visible": true,
      "mount_file_id": "https://github.com/cindykhris/SummerInternship2020/blob/master/PCA_MERS.ipynb",
      "authorship_tag": "ABX9TyOs3gOahaH7PEP1O+JXqEBU",
      "include_colab_link": true
    },
    "kernelspec": {
      "name": "python3",
      "display_name": "Python 3"
    }
  },
  "cells": [
    {
      "cell_type": "markdown",
      "metadata": {
        "id": "view-in-github",
        "colab_type": "text"
      },
      "source": [
        "<a href=\"https://colab.research.google.com/github/cindykhris/SummerInternship2020/blob/master/PCA_MERS.ipynb\" target=\"_parent\"><img src=\"https://colab.research.google.com/assets/colab-badge.svg\" alt=\"Open In Colab\"/></a>"
      ]
    },
    {
      "cell_type": "markdown",
      "metadata": {
        "id": "FWRwSQfxg9Of",
        "colab_type": "text"
      },
      "source": [
        "#Principal Component Analysis (PCA) and Visualization using Python\n",
        "\n",
        "**Introduction**\n",
        "\n",
        "Description: In this study, I analyzed the gene expression of coronaviruses (CoVs) infections to determine how each virus differs when causing a disease. Here, I focused the analysis on samples derived from SARS-CoV, MERS, and SARS-CoV-2. \n",
        "The raw sequence data (fastq files) for the SARS-CoV-1 was downloaded from GEO [GSE56192](https://www.ncbi.nlm.nih.gov/geo/query/acc.cgi?acc=GSE56192), including their corresponding Mock-treated controls). The raw sequence data (fastq files) for the SARS-CoV-2 infections were downloaded from GEO [GSE147507](https://www.ncbi.nlm.nih.gov/geo/query/acc.cgi?acc=GSE147507)), including their corresponding Mock-treated controls). The raw sequence data (fastq files) for the MERS infections were downloaded from GEO [GSE139516](https://www.ncbi.nlm.nih.gov/geo/query/acc.cgi?acc=GSE139516), including their corresponding Mock-treated controls. Gene expression matrixes were generated using the [BioInfoPlatform](https://server.t-bio.info) described below:\n",
        "\n",
        "\n",
        "*   PreProcessing\n",
        "    \n",
        "      * PCR clean - to remove duplicates from the PCR run  thus reducing redundancy. \n",
        "      * Trimmomatic - removes adapter sequences\n",
        "*   Mapping \n",
        "      * Bowtie-2t\n",
        "* Quantification \n",
        "\n",
        "    * RSEM -  Fragment Per Kilobase of transcript per Million mapped reads  for Paired-End Reads\n",
        "\n",
        "*   Differential Expression\n",
        "\n",
        "    * DESeq2\n",
        "\n",
        "Principal Component Analysis steps described in [Renesh Bedre github](https://reneshbedre.github.io/blog/pca_3d.html) were used to analyse the generated gene expression matrix. "
      ]
    },
    {
      "cell_type": "code",
      "metadata": {
        "id": "pE9WfN3VmeNU",
        "colab_type": "code",
        "colab": {
          "base_uri": "https://localhost:8080/",
          "height": 615
        },
        "outputId": "6c01531c-6169-4996-8130-6212bc07e3e8"
      },
      "source": [
        "pip install bioinfokit"
      ],
      "execution_count": 1,
      "outputs": [
        {
          "output_type": "stream",
          "text": [
            "Collecting bioinfokit\n",
            "\u001b[?25l  Downloading https://files.pythonhosted.org/packages/3c/6b/2859d341b579cd0057c51038d88223f69f8fdf40e22be126c247bff7988b/bioinfokit-0.9.6.tar.gz (48kB)\n",
            "\r\u001b[K     |██████▉                         | 10kB 11.6MB/s eta 0:00:01\r\u001b[K     |█████████████▋                  | 20kB 1.7MB/s eta 0:00:01\r\u001b[K     |████████████████████▍           | 30kB 2.3MB/s eta 0:00:01\r\u001b[K     |███████████████████████████▏    | 40kB 2.5MB/s eta 0:00:01\r\u001b[K     |████████████████████████████████| 51kB 1.6MB/s \n",
            "\u001b[?25hRequirement already satisfied: pandas in /usr/local/lib/python3.6/dist-packages (from bioinfokit) (1.0.5)\n",
            "Requirement already satisfied: numpy in /usr/local/lib/python3.6/dist-packages (from bioinfokit) (1.18.5)\n",
            "Requirement already satisfied: matplotlib in /usr/local/lib/python3.6/dist-packages (from bioinfokit) (3.2.2)\n",
            "Requirement already satisfied: scipy in /usr/local/lib/python3.6/dist-packages (from bioinfokit) (1.4.1)\n",
            "Requirement already satisfied: scikit-learn in /usr/local/lib/python3.6/dist-packages (from bioinfokit) (0.22.2.post1)\n",
            "Requirement already satisfied: seaborn in /usr/local/lib/python3.6/dist-packages (from bioinfokit) (0.10.1)\n",
            "Requirement already satisfied: matplotlib_venn in /usr/local/lib/python3.6/dist-packages (from bioinfokit) (0.11.5)\n",
            "Requirement already satisfied: tabulate in /usr/local/lib/python3.6/dist-packages (from bioinfokit) (0.8.7)\n",
            "Requirement already satisfied: statsmodels in /usr/local/lib/python3.6/dist-packages (from bioinfokit) (0.10.2)\n",
            "Collecting textwrap3\n",
            "  Downloading https://files.pythonhosted.org/packages/77/9c/a53e561d496ee5866bbeea4d3a850b3b545ed854f8a21007c1e0d872e94d/textwrap3-0.9.2-py2.py3-none-any.whl\n",
            "Collecting adjustText\n",
            "  Downloading https://files.pythonhosted.org/packages/9e/15/4157718bf323fd5f5b81c891c660d0f388e042d2689a558bf1389632dc44/adjustText-0.7.3.tar.gz\n",
            "Requirement already satisfied: pytz>=2017.2 in /usr/local/lib/python3.6/dist-packages (from pandas->bioinfokit) (2018.9)\n",
            "Requirement already satisfied: python-dateutil>=2.6.1 in /usr/local/lib/python3.6/dist-packages (from pandas->bioinfokit) (2.8.1)\n",
            "Requirement already satisfied: pyparsing!=2.0.4,!=2.1.2,!=2.1.6,>=2.0.1 in /usr/local/lib/python3.6/dist-packages (from matplotlib->bioinfokit) (2.4.7)\n",
            "Requirement already satisfied: cycler>=0.10 in /usr/local/lib/python3.6/dist-packages (from matplotlib->bioinfokit) (0.10.0)\n",
            "Requirement already satisfied: kiwisolver>=1.0.1 in /usr/local/lib/python3.6/dist-packages (from matplotlib->bioinfokit) (1.2.0)\n",
            "Requirement already satisfied: joblib>=0.11 in /usr/local/lib/python3.6/dist-packages (from scikit-learn->bioinfokit) (0.16.0)\n",
            "Requirement already satisfied: patsy>=0.4.0 in /usr/local/lib/python3.6/dist-packages (from statsmodels->bioinfokit) (0.5.1)\n",
            "Requirement already satisfied: six>=1.5 in /usr/local/lib/python3.6/dist-packages (from python-dateutil>=2.6.1->pandas->bioinfokit) (1.15.0)\n",
            "Building wheels for collected packages: bioinfokit, adjustText\n",
            "  Building wheel for bioinfokit (setup.py) ... \u001b[?25l\u001b[?25hdone\n",
            "  Created wheel for bioinfokit: filename=bioinfokit-0.9.6-cp36-none-any.whl size=32041 sha256=43905a0cab55240f6d48d112ddf95420e9dfb7fdf19a980609f7de250f5b3307\n",
            "  Stored in directory: /root/.cache/pip/wheels/17/e3/d1/dc69854b469f0ad51b2e1c913690e4cc9aa28aae9375f913fc\n",
            "  Building wheel for adjustText (setup.py) ... \u001b[?25l\u001b[?25hdone\n",
            "  Created wheel for adjustText: filename=adjustText-0.7.3-cp36-none-any.whl size=7099 sha256=10641a6d07e2d296d0cca9872e13ea711995529647ed1432bbdd3b5d53532ddf\n",
            "  Stored in directory: /root/.cache/pip/wheels/41/95/74/7d347e136d672f8bc28e937032bc92baf4f80856763a7e7b72\n",
            "Successfully built bioinfokit adjustText\n",
            "Installing collected packages: textwrap3, adjustText, bioinfokit\n",
            "Successfully installed adjustText-0.7.3 bioinfokit-0.9.6 textwrap3-0.9.2\n"
          ],
          "name": "stdout"
        }
      ]
    },
    {
      "cell_type": "code",
      "metadata": {
        "id": "YxdG6eBaoEV5",
        "colab_type": "code",
        "colab": {
          "base_uri": "https://localhost:8080/",
          "height": 71
        },
        "outputId": "7a8a57c1-c3bc-436c-8f44-4d694dd29e3a"
      },
      "source": [
        "from sklearn.decomposition import PCA\n",
        "from sklearn.preprocessing import StandardScaler\n",
        "\n",
        "from bioinfokit.analys import get_data\n",
        "from bioinfokit.visuz import cluster\n",
        "import pandas as pd\n",
        "import numpy as np"
      ],
      "execution_count": 2,
      "outputs": [
        {
          "output_type": "stream",
          "text": [
            "/usr/local/lib/python3.6/dist-packages/statsmodels/tools/_testing.py:19: FutureWarning: pandas.util.testing is deprecated. Use the functions in the public API at pandas.testing instead.\n",
            "  import pandas.util.testing as tm\n"
          ],
          "name": "stderr"
        }
      ]
    },
    {
      "cell_type": "code",
      "metadata": {
        "id": "j7QH5IYjLlR5",
        "colab_type": "code",
        "colab": {
          "base_uri": "https://localhost:8080/",
          "height": 136
        },
        "outputId": "63ca4478-8191-450b-aefa-20c49f4a9380"
      },
      "source": [
        "#Load SARS gene expression\n",
        "df = pd.read_table('drive/My Drive/SummerResearch/prjna580021_expression_genes.txt')\n",
        "df = df.drop('id',axis=1)\n",
        "df.columns"
      ],
      "execution_count": 4,
      "outputs": [
        {
          "output_type": "execute_result",
          "data": {
            "text/plain": [
              "Index(['group_1_sample_1_SRR10357377_PE', 'group_1_sample_2_SRR10357376_PE',\n",
              "       'group_1_sample_3_SRR10357375_PE', 'group_1_sample_4_SRR10357368_PE',\n",
              "       'group_1_sample_5_SRR10357367_PE', 'group_1_sample_6_SRR10357366_PE',\n",
              "       'group_2_sample_1_SRR10357374_PE', 'group_2_sample_2_SRR10357373_PE',\n",
              "       'group_2_sample_3_SRR10357372_PE', 'group_2_sample_4_SRR10357371_PE',\n",
              "       'group_2_sample_5_SRR10357370_PE', 'group_2_sample_6_SRR10357369_PE'],\n",
              "      dtype='object')"
            ]
          },
          "metadata": {
            "tags": []
          },
          "execution_count": 4
        }
      ]
    },
    {
      "cell_type": "code",
      "metadata": {
        "id": "0n4827RnQ7E4",
        "colab_type": "code",
        "colab": {}
      },
      "source": [
        "df = df.rename(columns={\n",
        "       'group_1_sample_1_SRR10357377_PE': 'A', \n",
        "       'group_1_sample_2_SRR10357376_PE': 'A',\n",
        "       'group_1_sample_3_SRR10357375_PE': 'A', \n",
        "       'group_1_sample_4_SRR10357368_PE': 'A',\n",
        "       'group_1_sample_5_SRR10357367_PE': 'A', \n",
        "       'group_1_sample_6_SRR10357366_PE': 'A',\n",
        "       'group_2_sample_1_SRR10357374_PE': 'B', \n",
        "       'group_2_sample_2_SRR10357373_PE': 'B',\n",
        "       'group_2_sample_3_SRR10357372_PE': 'B', \n",
        "       'group_2_sample_4_SRR10357371_PE': 'B',\n",
        "       'group_2_sample_5_SRR10357370_PE': 'B', \n",
        "       'group_2_sample_6_SRR10357369_PE': 'B'})"
      ],
      "execution_count": 5,
      "outputs": []
    },
    {
      "cell_type": "code",
      "metadata": {
        "id": "47BoNeF5Sbz9",
        "colab_type": "code",
        "colab": {
          "base_uri": "https://localhost:8080/",
          "height": 204
        },
        "outputId": "515cb8f3-156f-4981-85ed-8b3068048555"
      },
      "source": [
        "df.head(5)"
      ],
      "execution_count": 6,
      "outputs": [
        {
          "output_type": "execute_result",
          "data": {
            "text/html": [
              "<div>\n",
              "<style scoped>\n",
              "    .dataframe tbody tr th:only-of-type {\n",
              "        vertical-align: middle;\n",
              "    }\n",
              "\n",
              "    .dataframe tbody tr th {\n",
              "        vertical-align: top;\n",
              "    }\n",
              "\n",
              "    .dataframe thead th {\n",
              "        text-align: right;\n",
              "    }\n",
              "</style>\n",
              "<table border=\"1\" class=\"dataframe\">\n",
              "  <thead>\n",
              "    <tr style=\"text-align: right;\">\n",
              "      <th></th>\n",
              "      <th>A</th>\n",
              "      <th>A</th>\n",
              "      <th>A</th>\n",
              "      <th>A</th>\n",
              "      <th>A</th>\n",
              "      <th>A</th>\n",
              "      <th>B</th>\n",
              "      <th>B</th>\n",
              "      <th>B</th>\n",
              "      <th>B</th>\n",
              "      <th>B</th>\n",
              "      <th>B</th>\n",
              "    </tr>\n",
              "  </thead>\n",
              "  <tbody>\n",
              "    <tr>\n",
              "      <th>0</th>\n",
              "      <td>0.0</td>\n",
              "      <td>0.0</td>\n",
              "      <td>0.0</td>\n",
              "      <td>656.00</td>\n",
              "      <td>773.00</td>\n",
              "      <td>1085.00</td>\n",
              "      <td>87.00</td>\n",
              "      <td>66.00</td>\n",
              "      <td>63.00</td>\n",
              "      <td>820.00</td>\n",
              "      <td>789.00</td>\n",
              "      <td>670.00</td>\n",
              "    </tr>\n",
              "    <tr>\n",
              "      <th>1</th>\n",
              "      <td>0.0</td>\n",
              "      <td>0.0</td>\n",
              "      <td>0.0</td>\n",
              "      <td>434.00</td>\n",
              "      <td>467.00</td>\n",
              "      <td>755.00</td>\n",
              "      <td>76.00</td>\n",
              "      <td>62.00</td>\n",
              "      <td>54.00</td>\n",
              "      <td>611.00</td>\n",
              "      <td>542.00</td>\n",
              "      <td>431.00</td>\n",
              "    </tr>\n",
              "    <tr>\n",
              "      <th>2</th>\n",
              "      <td>0.0</td>\n",
              "      <td>0.0</td>\n",
              "      <td>0.0</td>\n",
              "      <td>79.14</td>\n",
              "      <td>101.48</td>\n",
              "      <td>145.85</td>\n",
              "      <td>65.88</td>\n",
              "      <td>60.55</td>\n",
              "      <td>39.85</td>\n",
              "      <td>147.78</td>\n",
              "      <td>133.15</td>\n",
              "      <td>138.18</td>\n",
              "    </tr>\n",
              "    <tr>\n",
              "      <th>3</th>\n",
              "      <td>0.0</td>\n",
              "      <td>0.0</td>\n",
              "      <td>0.0</td>\n",
              "      <td>394.86</td>\n",
              "      <td>398.52</td>\n",
              "      <td>546.15</td>\n",
              "      <td>165.12</td>\n",
              "      <td>170.45</td>\n",
              "      <td>183.15</td>\n",
              "      <td>556.62</td>\n",
              "      <td>471.35</td>\n",
              "      <td>484.82</td>\n",
              "    </tr>\n",
              "    <tr>\n",
              "      <th>4</th>\n",
              "      <td>0.0</td>\n",
              "      <td>0.0</td>\n",
              "      <td>0.0</td>\n",
              "      <td>0.00</td>\n",
              "      <td>0.00</td>\n",
              "      <td>0.00</td>\n",
              "      <td>0.00</td>\n",
              "      <td>0.00</td>\n",
              "      <td>1.00</td>\n",
              "      <td>0.00</td>\n",
              "      <td>0.00</td>\n",
              "      <td>0.00</td>\n",
              "    </tr>\n",
              "  </tbody>\n",
              "</table>\n",
              "</div>"
            ],
            "text/plain": [
              "     A    A    A       A       A  ...       B       B       B       B       B\n",
              "0  0.0  0.0  0.0  656.00  773.00  ...   66.00   63.00  820.00  789.00  670.00\n",
              "1  0.0  0.0  0.0  434.00  467.00  ...   62.00   54.00  611.00  542.00  431.00\n",
              "2  0.0  0.0  0.0   79.14  101.48  ...   60.55   39.85  147.78  133.15  138.18\n",
              "3  0.0  0.0  0.0  394.86  398.52  ...  170.45  183.15  556.62  471.35  484.82\n",
              "4  0.0  0.0  0.0    0.00    0.00  ...    0.00    1.00    0.00    0.00    0.00\n",
              "\n",
              "[5 rows x 12 columns]"
            ]
          },
          "metadata": {
            "tags": []
          },
          "execution_count": 6
        }
      ]
    },
    {
      "cell_type": "code",
      "metadata": {
        "id": "kR6P83Je3MCF",
        "colab_type": "code",
        "colab": {}
      },
      "source": [
        "#Standarization\n",
        "df_st = StandardScaler().fit_transform(df)"
      ],
      "execution_count": 7,
      "outputs": []
    },
    {
      "cell_type": "code",
      "metadata": {
        "id": "2CcxnNdu9l0w",
        "colab_type": "code",
        "colab": {
          "base_uri": "https://localhost:8080/",
          "height": 204
        },
        "outputId": "e486eba4-e203-44b9-e5a5-b8cec777fb37"
      },
      "source": [
        "#see few rows of standarized dataset\n",
        "pd.DataFrame(df_st, columns=df.columns).head()"
      ],
      "execution_count": 8,
      "outputs": [
        {
          "output_type": "execute_result",
          "data": {
            "text/html": [
              "<div>\n",
              "<style scoped>\n",
              "    .dataframe tbody tr th:only-of-type {\n",
              "        vertical-align: middle;\n",
              "    }\n",
              "\n",
              "    .dataframe tbody tr th {\n",
              "        vertical-align: top;\n",
              "    }\n",
              "\n",
              "    .dataframe thead th {\n",
              "        text-align: right;\n",
              "    }\n",
              "</style>\n",
              "<table border=\"1\" class=\"dataframe\">\n",
              "  <thead>\n",
              "    <tr style=\"text-align: right;\">\n",
              "      <th></th>\n",
              "      <th>A</th>\n",
              "      <th>A</th>\n",
              "      <th>A</th>\n",
              "      <th>A</th>\n",
              "      <th>A</th>\n",
              "      <th>A</th>\n",
              "      <th>B</th>\n",
              "      <th>B</th>\n",
              "      <th>B</th>\n",
              "      <th>B</th>\n",
              "      <th>B</th>\n",
              "      <th>B</th>\n",
              "    </tr>\n",
              "  </thead>\n",
              "  <tbody>\n",
              "    <tr>\n",
              "      <th>0</th>\n",
              "      <td>-0.161664</td>\n",
              "      <td>-0.064599</td>\n",
              "      <td>-0.034745</td>\n",
              "      <td>0.003993</td>\n",
              "      <td>0.041171</td>\n",
              "      <td>0.045899</td>\n",
              "      <td>-0.068985</td>\n",
              "      <td>-0.087755</td>\n",
              "      <td>-0.088554</td>\n",
              "      <td>0.078034</td>\n",
              "      <td>0.100376</td>\n",
              "      <td>0.041327</td>\n",
              "    </tr>\n",
              "    <tr>\n",
              "      <th>1</th>\n",
              "      <td>-0.161664</td>\n",
              "      <td>-0.064599</td>\n",
              "      <td>-0.034745</td>\n",
              "      <td>-0.054716</td>\n",
              "      <td>-0.043112</td>\n",
              "      <td>-0.021926</td>\n",
              "      <td>-0.082371</td>\n",
              "      <td>-0.093000</td>\n",
              "      <td>-0.099779</td>\n",
              "      <td>0.010147</td>\n",
              "      <td>0.009897</td>\n",
              "      <td>-0.035778</td>\n",
              "    </tr>\n",
              "    <tr>\n",
              "      <th>2</th>\n",
              "      <td>-0.161664</td>\n",
              "      <td>-0.064599</td>\n",
              "      <td>-0.034745</td>\n",
              "      <td>-0.148560</td>\n",
              "      <td>-0.143789</td>\n",
              "      <td>-0.147126</td>\n",
              "      <td>-0.094685</td>\n",
              "      <td>-0.094902</td>\n",
              "      <td>-0.117426</td>\n",
              "      <td>-0.140316</td>\n",
              "      <td>-0.139869</td>\n",
              "      <td>-0.130245</td>\n",
              "    </tr>\n",
              "    <tr>\n",
              "      <th>3</th>\n",
              "      <td>-0.161664</td>\n",
              "      <td>-0.064599</td>\n",
              "      <td>-0.034745</td>\n",
              "      <td>-0.065067</td>\n",
              "      <td>-0.061974</td>\n",
              "      <td>-0.064851</td>\n",
              "      <td>0.026076</td>\n",
              "      <td>0.049228</td>\n",
              "      <td>0.061292</td>\n",
              "      <td>-0.007517</td>\n",
              "      <td>-0.015983</td>\n",
              "      <td>-0.018415</td>\n",
              "    </tr>\n",
              "    <tr>\n",
              "      <th>4</th>\n",
              "      <td>-0.161664</td>\n",
              "      <td>-0.064599</td>\n",
              "      <td>-0.034745</td>\n",
              "      <td>-0.169489</td>\n",
              "      <td>-0.171740</td>\n",
              "      <td>-0.177102</td>\n",
              "      <td>-0.174852</td>\n",
              "      <td>-0.174311</td>\n",
              "      <td>-0.165878</td>\n",
              "      <td>-0.188318</td>\n",
              "      <td>-0.188644</td>\n",
              "      <td>-0.174824</td>\n",
              "    </tr>\n",
              "  </tbody>\n",
              "</table>\n",
              "</div>"
            ],
            "text/plain": [
              "          A         A         A  ...         B         B         B\n",
              "0 -0.161664 -0.064599 -0.034745  ...  0.078034  0.100376  0.041327\n",
              "1 -0.161664 -0.064599 -0.034745  ...  0.010147  0.009897 -0.035778\n",
              "2 -0.161664 -0.064599 -0.034745  ... -0.140316 -0.139869 -0.130245\n",
              "3 -0.161664 -0.064599 -0.034745  ... -0.007517 -0.015983 -0.018415\n",
              "4 -0.161664 -0.064599 -0.034745  ... -0.188318 -0.188644 -0.174824\n",
              "\n",
              "[5 rows x 12 columns]"
            ]
          },
          "metadata": {
            "tags": []
          },
          "execution_count": 8
        }
      ]
    },
    {
      "cell_type": "code",
      "metadata": {
        "id": "Ogrfh4Q4-O8g",
        "colab_type": "code",
        "colab": {}
      },
      "source": [
        "#perfom PCA\n",
        "pca_out = PCA().fit(df_st)"
      ],
      "execution_count": 9,
      "outputs": []
    },
    {
      "cell_type": "code",
      "metadata": {
        "id": "U7kkfDWD-YUL",
        "colab_type": "code",
        "colab": {
          "base_uri": "https://localhost:8080/",
          "height": 68
        },
        "outputId": "ee8fb27e-9c0a-47c6-cdb4-3c0c3307f4b9"
      },
      "source": [
        "#get the component variance\n",
        "#proportion of Variance (from PC1 to PC6)\n",
        "pca_out.explained_variance_ratio_"
      ],
      "execution_count": 10,
      "outputs": [
        {
          "output_type": "execute_result",
          "data": {
            "text/plain": [
              "array([6.75012995e-01, 1.99427657e-01, 7.93644324e-02, 2.15813372e-02,\n",
              "       1.41676671e-02, 9.44098406e-03, 6.46319165e-04, 1.63332087e-04,\n",
              "       8.90444085e-05, 7.30540711e-05, 2.13194466e-05, 1.18580845e-05])"
            ]
          },
          "metadata": {
            "tags": []
          },
          "execution_count": 10
        }
      ]
    },
    {
      "cell_type": "code",
      "metadata": {
        "id": "foJt7lsc-ntk",
        "colab_type": "code",
        "colab": {
          "base_uri": "https://localhost:8080/",
          "height": 68
        },
        "outputId": "414f04d9-9dc4-48c3-c481-ae7c22a523ad"
      },
      "source": [
        "#cumulative propotion of variance (from PC1 to PC6)\n",
        "np.cumsum(pca_out.explained_variance_ratio_\n",
        "          )"
      ],
      "execution_count": 11,
      "outputs": [
        {
          "output_type": "execute_result",
          "data": {
            "text/plain": [
              "array([0.67501299, 0.87444065, 0.95380508, 0.97538642, 0.98955409,\n",
              "       0.99899507, 0.99964139, 0.99980472, 0.99989377, 0.99996682,\n",
              "       0.99998814, 1.        ])"
            ]
          },
          "metadata": {
            "tags": []
          },
          "execution_count": 11
        }
      ]
    },
    {
      "cell_type": "code",
      "metadata": {
        "id": "4KJnwceVLxfV",
        "colab_type": "code",
        "colab": {}
      },
      "source": [
        "#get component loadings (correlation coefficint between original variables and the component )\n",
        "loadings = pca_out.components_\n",
        "num_pc   = pca_out.n_features_\n",
        "pc_list  = ['PC'+str(i) for i in list(range(1,num_pc+1))]\n"
      ],
      "execution_count": 12,
      "outputs": []
    },
    {
      "cell_type": "code",
      "metadata": {
        "id": "Mwt9XTUFMxTA",
        "colab_type": "code",
        "colab": {
          "base_uri": "https://localhost:8080/",
          "height": 452
        },
        "outputId": "6c0929f9-3ece-46df-e061-a7f79ce806ec"
      },
      "source": [
        "loading_df = pd.DataFrame.from_dict(dict(zip(pc_list, loadings)))\n",
        "loading_df['variable'] = df.columns.values\n",
        "loading_df = loading_df.set_index('variable')\n",
        "loading_df"
      ],
      "execution_count": 13,
      "outputs": [
        {
          "output_type": "execute_result",
          "data": {
            "text/html": [
              "<div>\n",
              "<style scoped>\n",
              "    .dataframe tbody tr th:only-of-type {\n",
              "        vertical-align: middle;\n",
              "    }\n",
              "\n",
              "    .dataframe tbody tr th {\n",
              "        vertical-align: top;\n",
              "    }\n",
              "\n",
              "    .dataframe thead th {\n",
              "        text-align: right;\n",
              "    }\n",
              "</style>\n",
              "<table border=\"1\" class=\"dataframe\">\n",
              "  <thead>\n",
              "    <tr style=\"text-align: right;\">\n",
              "      <th></th>\n",
              "      <th>PC1</th>\n",
              "      <th>PC2</th>\n",
              "      <th>PC3</th>\n",
              "      <th>PC4</th>\n",
              "      <th>PC5</th>\n",
              "      <th>PC6</th>\n",
              "      <th>PC7</th>\n",
              "      <th>PC8</th>\n",
              "      <th>PC9</th>\n",
              "      <th>PC10</th>\n",
              "      <th>PC11</th>\n",
              "      <th>PC12</th>\n",
              "    </tr>\n",
              "    <tr>\n",
              "      <th>variable</th>\n",
              "      <th></th>\n",
              "      <th></th>\n",
              "      <th></th>\n",
              "      <th></th>\n",
              "      <th></th>\n",
              "      <th></th>\n",
              "      <th></th>\n",
              "      <th></th>\n",
              "      <th></th>\n",
              "      <th></th>\n",
              "      <th></th>\n",
              "      <th></th>\n",
              "    </tr>\n",
              "  </thead>\n",
              "  <tbody>\n",
              "    <tr>\n",
              "      <th>A</th>\n",
              "      <td>0.155536</td>\n",
              "      <td>0.514690</td>\n",
              "      <td>-0.013187</td>\n",
              "      <td>0.756353</td>\n",
              "      <td>-0.327251</td>\n",
              "      <td>0.177406</td>\n",
              "      <td>-0.007027</td>\n",
              "      <td>0.003558</td>\n",
              "      <td>0.001965</td>\n",
              "      <td>-0.004499</td>\n",
              "      <td>0.002152</td>\n",
              "      <td>-0.001299</td>\n",
              "    </tr>\n",
              "    <tr>\n",
              "      <th>A</th>\n",
              "      <td>0.080188</td>\n",
              "      <td>0.591566</td>\n",
              "      <td>-0.073858</td>\n",
              "      <td>-0.034467</td>\n",
              "      <td>0.760368</td>\n",
              "      <td>-0.242119</td>\n",
              "      <td>0.006974</td>\n",
              "      <td>0.005693</td>\n",
              "      <td>0.003961</td>\n",
              "      <td>0.005145</td>\n",
              "      <td>-0.007969</td>\n",
              "      <td>0.002917</td>\n",
              "    </tr>\n",
              "    <tr>\n",
              "      <th>A</th>\n",
              "      <td>0.053646</td>\n",
              "      <td>0.583248</td>\n",
              "      <td>-0.140424</td>\n",
              "      <td>-0.633737</td>\n",
              "      <td>-0.480963</td>\n",
              "      <td>0.065103</td>\n",
              "      <td>-0.000570</td>\n",
              "      <td>-0.004147</td>\n",
              "      <td>-0.002651</td>\n",
              "      <td>-0.000661</td>\n",
              "      <td>0.003651</td>\n",
              "      <td>-0.001099</td>\n",
              "    </tr>\n",
              "    <tr>\n",
              "      <th>A</th>\n",
              "      <td>0.316083</td>\n",
              "      <td>-0.105548</td>\n",
              "      <td>-0.402955</td>\n",
              "      <td>-0.022621</td>\n",
              "      <td>0.085604</td>\n",
              "      <td>0.262328</td>\n",
              "      <td>-0.127494</td>\n",
              "      <td>-0.031168</td>\n",
              "      <td>-0.027947</td>\n",
              "      <td>0.100956</td>\n",
              "      <td>-0.477020</td>\n",
              "      <td>0.627834</td>\n",
              "    </tr>\n",
              "    <tr>\n",
              "      <th>A</th>\n",
              "      <td>0.317446</td>\n",
              "      <td>-0.104244</td>\n",
              "      <td>-0.396944</td>\n",
              "      <td>-0.019449</td>\n",
              "      <td>0.082894</td>\n",
              "      <td>0.235101</td>\n",
              "      <td>0.027240</td>\n",
              "      <td>-0.057503</td>\n",
              "      <td>-0.082069</td>\n",
              "      <td>0.160337</td>\n",
              "      <td>-0.245826</td>\n",
              "      <td>-0.755878</td>\n",
              "    </tr>\n",
              "    <tr>\n",
              "      <th>A</th>\n",
              "      <td>0.319070</td>\n",
              "      <td>-0.102777</td>\n",
              "      <td>-0.387450</td>\n",
              "      <td>-0.019972</td>\n",
              "      <td>0.084754</td>\n",
              "      <td>0.218895</td>\n",
              "      <td>0.128543</td>\n",
              "      <td>0.047993</td>\n",
              "      <td>0.092810</td>\n",
              "      <td>-0.279761</td>\n",
              "      <td>0.750055</td>\n",
              "      <td>0.117161</td>\n",
              "    </tr>\n",
              "    <tr>\n",
              "      <th>B</th>\n",
              "      <td>0.318027</td>\n",
              "      <td>0.011448</td>\n",
              "      <td>0.424995</td>\n",
              "      <td>-0.078471</td>\n",
              "      <td>0.063343</td>\n",
              "      <td>0.199640</td>\n",
              "      <td>0.259313</td>\n",
              "      <td>-0.717875</td>\n",
              "      <td>-0.273860</td>\n",
              "      <td>0.050161</td>\n",
              "      <td>0.062417</td>\n",
              "      <td>0.063891</td>\n",
              "    </tr>\n",
              "    <tr>\n",
              "      <th>B</th>\n",
              "      <td>0.321373</td>\n",
              "      <td>0.003326</td>\n",
              "      <td>0.401164</td>\n",
              "      <td>-0.089859</td>\n",
              "      <td>0.066697</td>\n",
              "      <td>0.239040</td>\n",
              "      <td>0.094629</td>\n",
              "      <td>0.196138</td>\n",
              "      <td>0.774448</td>\n",
              "      <td>0.095074</td>\n",
              "      <td>-0.091964</td>\n",
              "      <td>-0.037706</td>\n",
              "    </tr>\n",
              "    <tr>\n",
              "      <th>B</th>\n",
              "      <td>0.320870</td>\n",
              "      <td>0.005447</td>\n",
              "      <td>0.403417</td>\n",
              "      <td>-0.090541</td>\n",
              "      <td>0.074817</td>\n",
              "      <td>0.235437</td>\n",
              "      <td>-0.311086</td>\n",
              "      <td>0.535718</td>\n",
              "      <td>-0.510568</td>\n",
              "      <td>-0.137611</td>\n",
              "      <td>0.028491</td>\n",
              "      <td>-0.029071</td>\n",
              "    </tr>\n",
              "    <tr>\n",
              "      <th>B</th>\n",
              "      <td>0.344803</td>\n",
              "      <td>-0.064010</td>\n",
              "      <td>0.000997</td>\n",
              "      <td>0.021218</td>\n",
              "      <td>-0.130518</td>\n",
              "      <td>-0.452447</td>\n",
              "      <td>0.257561</td>\n",
              "      <td>0.017883</td>\n",
              "      <td>0.021023</td>\n",
              "      <td>-0.699930</td>\n",
              "      <td>-0.309559</td>\n",
              "      <td>-0.044629</td>\n",
              "    </tr>\n",
              "    <tr>\n",
              "      <th>B</th>\n",
              "      <td>0.344424</td>\n",
              "      <td>-0.066318</td>\n",
              "      <td>-0.014016</td>\n",
              "      <td>0.027153</td>\n",
              "      <td>-0.137012</td>\n",
              "      <td>-0.451882</td>\n",
              "      <td>0.421460</td>\n",
              "      <td>0.275030</td>\n",
              "      <td>-0.155614</td>\n",
              "      <td>0.592229</td>\n",
              "      <td>0.119502</td>\n",
              "      <td>0.102801</td>\n",
              "    </tr>\n",
              "    <tr>\n",
              "      <th>B</th>\n",
              "      <td>0.345135</td>\n",
              "      <td>-0.061067</td>\n",
              "      <td>0.010031</td>\n",
              "      <td>0.014592</td>\n",
              "      <td>-0.110332</td>\n",
              "      <td>-0.415127</td>\n",
              "      <td>-0.741244</td>\n",
              "      <td>-0.276743</td>\n",
              "      <td>0.154069</td>\n",
              "      <td>0.121069</td>\n",
              "      <td>0.161508</td>\n",
              "      <td>-0.042724</td>\n",
              "    </tr>\n",
              "  </tbody>\n",
              "</table>\n",
              "</div>"
            ],
            "text/plain": [
              "               PC1       PC2       PC3  ...      PC10      PC11      PC12\n",
              "variable                                ...                              \n",
              "A         0.155536  0.514690 -0.013187  ... -0.004499  0.002152 -0.001299\n",
              "A         0.080188  0.591566 -0.073858  ...  0.005145 -0.007969  0.002917\n",
              "A         0.053646  0.583248 -0.140424  ... -0.000661  0.003651 -0.001099\n",
              "A         0.316083 -0.105548 -0.402955  ...  0.100956 -0.477020  0.627834\n",
              "A         0.317446 -0.104244 -0.396944  ...  0.160337 -0.245826 -0.755878\n",
              "A         0.319070 -0.102777 -0.387450  ... -0.279761  0.750055  0.117161\n",
              "B         0.318027  0.011448  0.424995  ...  0.050161  0.062417  0.063891\n",
              "B         0.321373  0.003326  0.401164  ...  0.095074 -0.091964 -0.037706\n",
              "B         0.320870  0.005447  0.403417  ... -0.137611  0.028491 -0.029071\n",
              "B         0.344803 -0.064010  0.000997  ... -0.699930 -0.309559 -0.044629\n",
              "B         0.344424 -0.066318 -0.014016  ...  0.592229  0.119502  0.102801\n",
              "B         0.345135 -0.061067  0.010031  ...  0.121069  0.161508 -0.042724\n",
              "\n",
              "[12 rows x 12 columns]"
            ]
          },
          "metadata": {
            "tags": []
          },
          "execution_count": 13
        }
      ]
    },
    {
      "cell_type": "code",
      "metadata": {
        "id": "XwpHDLf1M8W6",
        "colab_type": "code",
        "colab": {}
      },
      "source": [
        "#get correalation matrix plot for loadings\n",
        "import seaborn as sns\n",
        "import matplotlib.pyplot as plt\n",
        "\n"
      ],
      "execution_count": 14,
      "outputs": []
    },
    {
      "cell_type": "code",
      "metadata": {
        "id": "PusR9Ej7NLqd",
        "colab_type": "code",
        "colab": {
          "base_uri": "https://localhost:8080/",
          "height": 281
        },
        "outputId": "cee45be7-4971-4a8b-9f65-78f17fec09ce"
      },
      "source": [
        "ax = sns.heatmap(loading_df, annot=True, cmap='Spectral')\n",
        "plt.show()"
      ],
      "execution_count": 15,
      "outputs": [
        {
          "output_type": "display_data",
          "data": {
            "image/png": "[encoded data removed]",
            "text/plain": [
              "<Figure size 432x288 with 2 Axes>"
            ]
          },
          "metadata": {
            "tags": [],
            "needs_background": "light"
          }
        }
      ]
    },
    {
      "cell_type": "code",
      "metadata": {
        "id": "5yl0MnJrNWBl",
        "colab_type": "code",
        "colab": {
          "base_uri": "https://localhost:8080/",
          "height": 68
        },
        "outputId": "af4106ac-725a-46c2-a43c-b1d2a38c5aca"
      },
      "source": [
        "#Principal component (PC) retention\n",
        "#get eigenvalues (from PC1 to PC6)\n",
        "pca_out.explained_variance_"
      ],
      "execution_count": 16,
      "outputs": [
        {
          "output_type": "execute_result",
          "data": {
            "text/plain": [
              "array([8.10044933e+00, 2.39321857e+00, 9.52407685e-01, 2.58985427e-01,\n",
              "       1.70018163e-01, 1.13295912e-01, 7.75611091e-03, 1.96005603e-03,\n",
              "       1.06857161e-03, 8.76680607e-04, 2.55842626e-04, 1.42302169e-04])"
            ]
          },
          "metadata": {
            "tags": []
          },
          "execution_count": 16
        }
      ]
    },
    {
      "cell_type": "code",
      "metadata": {
        "id": "Sj11aDGtNlHm",
        "colab_type": "code",
        "colab": {}
      },
      "source": [
        "#get screen plot (for scree or elbow test)\n"
      ],
      "execution_count": 17,
      "outputs": []
    },
    {
      "cell_type": "code",
      "metadata": {
        "id": "lRLSVpQYN0TK",
        "colab_type": "code",
        "colab": {
          "base_uri": "https://localhost:8080/",
          "height": 34
        },
        "outputId": "16c83399-d1a4-4c84-84b4-424aecace582"
      },
      "source": [
        "cluster.screeplot(obj=[pc_list, pca_out.explained_variance_ratio_])\n",
        "#scree plot will be saved in the same directory with name screenplot.png"
      ],
      "execution_count": 18,
      "outputs": [
        {
          "output_type": "stream",
          "text": [
            "findfont: Font family ['Arial'] not found. Falling back to DejaVu Sans.\n"
          ],
          "name": "stderr"
        }
      ]
    },
    {
      "cell_type": "code",
      "metadata": {
        "id": "nBm48gwLPRXX",
        "colab_type": "code",
        "colab": {}
      },
      "source": [
        "#PCA loadings plot\n",
        "#get PCA loadings plots (2D and 3D)\n",
        "#2D\n",
        "cluster.pcaplot(x=loadings[0], y=loadings[1], labels=df.columns.values, \n",
        "    var1=round(pca_out.explained_variance_ratio_[0]*100, 2),\n",
        "    var2=round(pca_out.explained_variance_ratio_[1]*100, 2))\n"
      ],
      "execution_count": 22,
      "outputs": []
    },
    {
      "cell_type": "code",
      "metadata": {
        "id": "6Fl3qCJAQKK_",
        "colab_type": "code",
        "colab": {}
      },
      "source": [
        "# 3D\n",
        "cluster.pcaplot(x=loadings[0], y=loadings[1], z=loadings[2],  labels=df.columns.values, \n",
        "    var1=round(pca_out.explained_variance_ratio_[0]*100, 2), var2=round(pca_out.explained_variance_ratio_[1]*100, 2), \n",
        "    var3=round(pca_out.explained_variance_ratio_[2]*100, 2))"
      ],
      "execution_count": 23,
      "outputs": []
    },
    {
      "cell_type": "code",
      "metadata": {
        "id": "NNGW1akeQRzf",
        "colab_type": "code",
        "colab": {}
      },
      "source": [
        "#PCA biplot\n",
        "pca_scores = PCA().fit_transform(df_st)\n",
        "\n",
        "#get 2D biplot\n",
        "cluster.biplot(cscore=pca_scores, loadings=loadings, labels=df.columns.values, var1=round(pca_out.explained_variance_ratio_[0]*100, 2),\n",
        "    var2=round(pca_out.explained_variance_ratio_[1]*100, 2))\n",
        "\n",
        "#get 3D biplot\n",
        "cluster.biplot(cscore=pca_scores, loadings=loadings, labels=df.columns.values, \n",
        "    var1=round(pca_out.explained_variance_ratio_[0]*100, 2), var2=round(pca_out.explained_variance_ratio_[1]*100, 2), \n",
        "    var3=round(pca_out.explained_variance_ratio_[2]*100, 2))\n"
      ],
      "execution_count": 21,
      "outputs": []
    },
    {
      "cell_type": "code",
      "metadata": {
        "id": "lFpGm1kvgIjG",
        "colab_type": "code",
        "colab": {}
      },
      "source": [
        ""
      ],
      "execution_count": null,
      "outputs": []
    }
  ]
}