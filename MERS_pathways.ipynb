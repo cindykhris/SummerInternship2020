{
  "nbformat": 4,
  "nbformat_minor": 0,
  "metadata": {
    "colab": {
      "name": "COVID_pathways.ipynb",
      "provenance": [],
      "mount_file_id": "https://github.com/cindykhris/SummerInternship2020/blob/master/COVID_pathways.ipynb",
      "authorship_tag": "ABX9TyMcKnkARC/yv6bzLopa5bfT",
      "include_colab_link": true
    },
    "kernelspec": {
      "name": "python3",
      "display_name": "Python 3"
    }
  },
  "cells": [
    {
      "cell_type": "markdown",
      "metadata": {
        "id": "view-in-github",
        "colab_type": "text"
      },
      "source": [
        "<a href=\"https://colab.research.google.com/github/cindykhris/Summer_Internship_2020/blob/master/MERS_pathways.ipynb\" target=\"_parent\"><img src=\"https://colab.research.google.com/assets/colab-badge.svg\" alt=\"Open In Colab\"/></a>"
      ]
    },
    {
      "cell_type": "code",
      "metadata": {
        "id": "K4eKc67rUY-0",
        "colab_type": "code",
        "colab": {}
      },
      "source": [
        "import numpy as np\n",
        "import pandas as pd\n",
        "import matplotlib.pyplot as plt\n"
      ],
      "execution_count": 2,
      "outputs": []
    },
    {
      "cell_type": "code",
      "metadata": {
        "id": "shbrd3cux_rs",
        "colab_type": "code",
        "colab": {
          "base_uri": "https://localhost:8080/",
          "height": 34
        },
        "outputId": "56282949-567b-427e-9d4e-f9eb12ca99f6"
      },
      "source": [
        "df = pd.read_table('/content/drive/My Drive/SummerResearch/prjna580021_expression_genes_FPKM.txt')\n",
        "\n",
        "len(df.columns)"
      ],
      "execution_count": 24,
      "outputs": [
        {
          "output_type": "execute_result",
          "data": {
            "text/plain": [
              "13"
            ]
          },
          "metadata": {
            "tags": []
          },
          "execution_count": 24
        }
      ]
    },
    {
      "cell_type": "code",
      "metadata": {
        "id": "cVXuJRLaXDfj",
        "colab_type": "code",
        "colab": {}
      },
      "source": [
        "df_1 = pd.read_table('/content/drive/My Drive/SummerResearch/MERS/prjna580021_expression_genes_FPKM_DeSeq2_GO_Signif.txt')\n",
        "df_1 = df_1.rename(columns={'GO_description':\"GO\"})\n",
        "\n"
      ],
      "execution_count": 3,
      "outputs": []
    },
    {
      "cell_type": "code",
      "metadata": {
        "id": "Gdbv7tKNXNwM",
        "colab_type": "code",
        "colab": {}
      },
      "source": [
        "df_2 = pd.read_table('/content/drive/My Drive/SummerResearch/MERS/prjna580021_expression_genes_FPKM_DeSeq2_Signif_Gene_for_signifGO.txt')"
      ],
      "execution_count": 4,
      "outputs": []
    },
    {
      "cell_type": "code",
      "metadata": {
        "id": "VAoFB1LOXb-0",
        "colab_type": "code",
        "colab": {}
      },
      "source": [
        "df_3 = pd.read_table('/content/drive/My Drive/SummerResearch/MERS/prjna580021_expression_genes_FPKM_DeSeq2_KEGG_Pathway_Signif.txt')\n"
      ],
      "execution_count": 5,
      "outputs": []
    },
    {
      "cell_type": "code",
      "metadata": {
        "id": "VP2SkGN_dNo7",
        "colab_type": "code",
        "colab": {}
      },
      "source": [
        "df_4 = pd.merge(df_1, df_2)\n",
        "#df_5 = pd.merge(df_4, df_3)\n"
      ],
      "execution_count": 16,
      "outputs": []
    },
    {
      "cell_type": "code",
      "metadata": {
        "id": "HUNYJURtZWt5",
        "colab_type": "code",
        "colab": {
          "base_uri": "https://localhost:8080/",
          "height": 235
        },
        "outputId": "ef22e986-6212-424e-bb19-8aaaf5e903c8"
      },
      "source": [
        "\n",
        "df_5 = df_4[['GO', 'Ensemle_ID', 'log2FoldChange', 'padj']]\n",
        "df_5 = df_5.drop_duplicates(subset=['GO'])\n",
        "df_5"
      ],
      "execution_count": 19,
      "outputs": [
        {
          "output_type": "execute_result",
          "data": {
            "text/html": [
              "<div>\n",
              "<style scoped>\n",
              "    .dataframe tbody tr th:only-of-type {\n",
              "        vertical-align: middle;\n",
              "    }\n",
              "\n",
              "    .dataframe tbody tr th {\n",
              "        vertical-align: top;\n",
              "    }\n",
              "\n",
              "    .dataframe thead th {\n",
              "        text-align: right;\n",
              "    }\n",
              "</style>\n",
              "<table border=\"1\" class=\"dataframe\">\n",
              "  <thead>\n",
              "    <tr style=\"text-align: right;\">\n",
              "      <th></th>\n",
              "      <th>GO</th>\n",
              "      <th>Ensemle_ID</th>\n",
              "      <th>log2FoldChange</th>\n",
              "      <th>padj</th>\n",
              "    </tr>\n",
              "  </thead>\n",
              "  <tbody>\n",
              "    <tr>\n",
              "      <th>0</th>\n",
              "      <td>GO:0007156 homophilic cell adhesion</td>\n",
              "      <td>ENSG00000182985</td>\n",
              "      <td>-22.308188</td>\n",
              "      <td>7.090917e-14</td>\n",
              "    </tr>\n",
              "    <tr>\n",
              "      <th>14</th>\n",
              "      <td>GO:0016337 cell-cell adhesion</td>\n",
              "      <td>ENSG00000162849</td>\n",
              "      <td>-23.183659</td>\n",
              "      <td>2.682224e-16</td>\n",
              "    </tr>\n",
              "    <tr>\n",
              "      <th>41</th>\n",
              "      <td>GO:0050906 detection of stimulus involved in s...</td>\n",
              "      <td>ENSG00000181449</td>\n",
              "      <td>-25.367325</td>\n",
              "      <td>1.832540e-18</td>\n",
              "    </tr>\n",
              "    <tr>\n",
              "      <th>45</th>\n",
              "      <td>GO:0045666 positive regulation of neuron diffe...</td>\n",
              "      <td>ENSG00000196628</td>\n",
              "      <td>-22.289101</td>\n",
              "      <td>1.832540e-18</td>\n",
              "    </tr>\n",
              "    <tr>\n",
              "      <th>50</th>\n",
              "      <td>GO:0051606 detection of stimulus</td>\n",
              "      <td>ENSG00000181449</td>\n",
              "      <td>-25.367325</td>\n",
              "      <td>1.832540e-18</td>\n",
              "    </tr>\n",
              "    <tr>\n",
              "      <th>57</th>\n",
              "      <td>GO:0007606 sensory perception of chemical stim...</td>\n",
              "      <td>ENSG00000065989</td>\n",
              "      <td>-22.011266</td>\n",
              "      <td>8.083011e-14</td>\n",
              "    </tr>\n",
              "  </tbody>\n",
              "</table>\n",
              "</div>"
            ],
            "text/plain": [
              "                                                   GO  ...          padj\n",
              "0                 GO:0007156 homophilic cell adhesion  ...  7.090917e-14\n",
              "14                      GO:0016337 cell-cell adhesion  ...  2.682224e-16\n",
              "41  GO:0050906 detection of stimulus involved in s...  ...  1.832540e-18\n",
              "45  GO:0045666 positive regulation of neuron diffe...  ...  1.832540e-18\n",
              "50                   GO:0051606 detection of stimulus  ...  1.832540e-18\n",
              "57  GO:0007606 sensory perception of chemical stim...  ...  8.083011e-14\n",
              "\n",
              "[6 rows x 4 columns]"
            ]
          },
          "metadata": {
            "tags": []
          },
          "execution_count": 19
        }
      ]
    },
    {
      "cell_type": "code",
      "metadata": {
        "id": "CSMUMBGVq4i-",
        "colab_type": "code",
        "colab": {
          "base_uri": "https://localhost:8080/",
          "height": 34
        },
        "outputId": "e2c7822e-e772-4f9d-f2cb-cdbee318fc4e"
      },
      "source": [
        "sign_genes = df_5[['Ensemle_ID']]\n",
        "len(sign_genes)"
      ],
      "execution_count": 25,
      "outputs": [
        {
          "output_type": "execute_result",
          "data": {
            "text/plain": [
              "6"
            ]
          },
          "metadata": {
            "tags": []
          },
          "execution_count": 25
        }
      ]
    },
    {
      "cell_type": "code",
      "metadata": {
        "id": "W1UuuLyLvyQW",
        "colab_type": "code",
        "colab": {}
      },
      "source": [
        ""
      ],
      "execution_count": null,
      "outputs": []
    }
  ]
}