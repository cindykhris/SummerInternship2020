{
  "nbformat": 4,
  "nbformat_minor": 0,
  "metadata": {
    "colab": {
      "name": "SummerInternship2020.ipynb",
      "provenance": [],
      "collapsed_sections": [
        "phgvAfyRDYEX"
      ],
      "toc_visible": true,
      "mount_file_id": "https://github.com/cindykhris/SummerInternship2020/blob/master/SummerInternship2020.ipynb",
      "authorship_tag": "ABX9TyPzCrZoLPc3IgzoHKrkRt3r",
      "include_colab_link": true
    },
    "kernelspec": {
      "name": "python3",
      "display_name": "Python 3"
    }
  },
  "cells": [
    {
      "cell_type": "markdown",
      "metadata": {
        "id": "view-in-github",
        "colab_type": "text"
      },
      "source": [
        "<a href=\"https://colab.research.google.com/github/cindykhris/SummerInternship2020/blob/master/SummerInternship2020.ipynb\" target=\"_parent\"><img src=\"https://colab.research.google.com/assets/colab-badge.svg\" alt=\"Open In Colab\"/></a>"
      ]
    },
    {
      "cell_type": "markdown",
      "metadata": {
        "id": "qApau0FS8Nra",
        "colab_type": "text"
      },
      "source": [
        "# Pine Biotech Summer Reasearch\n",
        "\n",
        "**Cindy Pino**\n",
        "\n",
        "\n",
        "Abstract: In this study, we will analyze the gene expression differnt coronaviruses (CoVs) infections to determine how each virus differs when causing a disease. Here, we focuses the analysis on samples from SARS-CoV-1, MERS, and SARS-CoV-2. \n",
        "The raw sequence data (fastq files) for the SARS-CoV-1 and MERS infections were downloaded from GEO [GSE56192](https://www.ncbi.nlm.nih.gov/geo/query/acc.cgi?acc=GSE56192), including their corresponding Mock-treated controls). The raw sequence data (fastq files) for the SARS-CoV-2 infections were downloaded from GEO ([GSE147507](https://www.ncbi.nlm.nih.gov/geo/query/acc.cgi?acc=GSE147507)), including their corresponding Mock-treated controls). \n",
        "\n",
        "In this Jupyter notebook, I will use both R and Python to analyze three viruses: MERS, SARS-CoV-1, amd SARS-CoV-2"
      ]
    },
    {
      "cell_type": "markdown",
      "metadata": {
        "id": "phgvAfyRDYEX",
        "colab_type": "text"
      },
      "source": [
        "##Using R and Python in the same Notebook\n",
        "First, let's active R magic. Don't forget to use %%R before running a R code \n",
        "\n",
        "\n",
        "---"
      ]
    },
    {
      "cell_type": "code",
      "metadata": {
        "id": "meOnl6FNDXiV",
        "colab_type": "code",
        "colab": {
          "base_uri": "https://localhost:8080/"
        },
        "outputId": "d2245da6-0ea8-46a7-8068-154e629bad5a"
      },
      "source": [
        "#active R magic\n",
        "%load_ext rpy2.ipython"
      ],
      "execution_count": 87,
      "outputs": [
        {
          "output_type": "stream",
          "text": [
            "The rpy2.ipython extension is already loaded. To reload it, use:\n",
            "  %reload_ext rpy2.ipython\n"
          ],
          "name": "stdout"
        }
      ]
    },
    {
      "cell_type": "markdown",
      "metadata": {
        "id": "V9KgkWD2Eort",
        "colab_type": "text"
      },
      "source": [
        "##Import all the folders we will need for this files (R and Python)"
      ]
    },
    {
      "cell_type": "markdown",
      "metadata": {
        "id": "uShsPUalEz4u",
        "colab_type": "text"
      },
      "source": [
        "###Python"
      ]
    },
    {
      "cell_type": "code",
      "metadata": {
        "id": "OedgbLFoEzbD",
        "colab_type": "code",
        "colab": {}
      },
      "source": [
        "import pandas as pd\n",
        "import numpy as np\n",
        "import matplotlib.pyplot as plt\n",
        "import seaborn as sns"
      ],
      "execution_count": 88,
      "outputs": []
    },
    {
      "cell_type": "markdown",
      "metadata": {
        "id": "r9eKsD0FE24-",
        "colab_type": "text"
      },
      "source": [
        "###R"
      ]
    },
    {
      "cell_type": "code",
      "metadata": {
        "id": "n8ii7hUTEyDN",
        "colab_type": "code",
        "colab": {
          "base_uri": "https://localhost:8080/"
        },
        "outputId": "19069443-db5f-45d8-86bc-37cc9295ceb7"
      },
      "source": [
        "%%R\n",
        "#builtins()\n",
        "install.packages('dplyr')\n",
        "install.packages('DESeq2')\n",
        "install.packages('EnhancedVolcano')\n",
        "install.packages('ggplot')\n",
        "\n",
        "\n",
        "\n",
        "library(DESeq2)\n",
        "library(EnhancedVolcano)\n",
        "library(ggplot2)\n",
        "library(dplyr)"
      ],
      "execution_count": null,
      "outputs": [
        {
          "output_type": "stream",
          "text": [
            "R[write to console]: Installing package into ‘/usr/local/lib/R/site-library’\n",
            "(as ‘lib’ is unspecified)\n",
            "\n",
            "R[write to console]: trying URL 'https://cran.rstudio.com/src/contrib/dplyr_1.0.2.tar.gz'\n",
            "\n",
            "R[write to console]: Content type 'application/x-gzip'\n",
            "R[write to console]:  length 935654 bytes (913 KB)\n",
            "\n",
            "R[write to console]: =\n",
            "R[write to console]: =\n",
            "R[write to console]: =\n",
            "R[write to console]: =\n",
            "R[write to console]: =\n",
            "R[write to console]: =\n",
            "R[write to console]: =\n",
            "R[write to console]: =\n",
            "R[write to console]: =\n",
            "R[write to console]: =\n",
            "R[write to console]: =\n",
            "R[write to console]: =\n",
            "R[write to console]: =\n",
            "R[write to console]: =\n",
            "R[write to console]: =\n",
            "R[write to console]: =\n",
            "R[write to console]: =\n",
            "R[write to console]: =\n",
            "R[write to console]: =\n",
            "R[write to console]: =\n",
            "R[write to console]: =\n",
            "R[write to console]: =\n",
            "R[write to console]: =\n",
            "R[write to console]: =\n",
            "R[write to console]: =\n",
            "R[write to console]: =\n",
            "R[write to console]: =\n",
            "R[write to console]: =\n",
            "R[write to console]: =\n",
            "R[write to console]: =\n",
            "R[write to console]: =\n",
            "R[write to console]: =\n",
            "R[write to console]: =\n",
            "R[write to console]: =\n",
            "R[write to console]: =\n",
            "R[write to console]: =\n",
            "R[write to console]: =\n",
            "R[write to console]: =\n",
            "R[write to console]: =\n",
            "R[write to console]: =\n",
            "R[write to console]: =\n",
            "R[write to console]: =\n",
            "R[write to console]: =\n",
            "R[write to console]: =\n",
            "R[write to console]: =\n",
            "R[write to console]: =\n",
            "R[write to console]: =\n",
            "R[write to console]: =\n",
            "R[write to console]: =\n",
            "R[write to console]: =\n",
            "R[write to console]: \n",
            "\n",
            "R[write to console]: downloaded 913 KB\n",
            "\n",
            "\n"
          ],
          "name": "stderr"
        }
      ]
    },
    {
      "cell_type": "markdown",
      "metadata": {
        "id": "ygJsKv80BfDg",
        "colab_type": "text"
      },
      "source": [
        "\n",
        "## SARS-CoV\n",
        "Severe Acute Respiratory Syndrom Coronavirus (SARS-CoV) was first identified in 20013 (WHO). "
      ]
    },
    {
      "cell_type": "code",
      "metadata": {
        "id": "Tq2XLnoMXi7B",
        "colab_type": "code",
        "colab": {}
      },
      "source": [
        "%%R\n",
        "df = read.table('drive/My Drive/SummerResearch/DESeq_SARS_expression_genes_FPKM.txt',skip = 1, header = TRUE)\n"
      ],
      "execution_count": null,
      "outputs": []
    },
    {
      "cell_type": "code",
      "metadata": {
        "id": "sM4INOjH_193",
        "colab_type": "code",
        "colab": {}
      },
      "source": [
        "%%R\n",
        "# Cleaning the file for processing\n",
        "ColNames1 <- df$id #take the column name\n",
        "df = df[,-1] #take the data part - numeric values\n",
        "df=as.matrix(df)"
      ],
      "execution_count": null,
      "outputs": []
    },
    {
      "cell_type": "code",
      "metadata": {
        "id": "z4ry6O2UOuOA",
        "colab_type": "code",
        "colab": {}
      },
      "source": [
        "%%R\n",
        "names(df) <- NULL"
      ],
      "execution_count": null,
      "outputs": []
    },
    {
      "cell_type": "code",
      "metadata": {
        "id": "U1KiISwWPhTs",
        "colab_type": "code",
        "colab": {}
      },
      "source": [
        "%%R\n",
        "#Remove NAs from dataset\n",
        "datanew <- na.exclude(df)"
      ],
      "execution_count": null,
      "outputs": []
    },
    {
      "cell_type": "code",
      "metadata": {
        "id": "GWR74Dqyg1oF",
        "colab_type": "code",
        "colab": {
          "base_uri": "https://localhost:8080/"
        },
        "outputId": "200964a4-9f47-4489-db55-7d78cfa90a61"
      },
      "source": [
        "%%R\n",
        "#Remove zeroes \n",
        "data <- filter(df, undersirable != 0)\n",
        "head(data,10)"
      ],
      "execution_count": 86,
      "outputs": [
        {
          "output_type": "stream",
          "text": [
            "R[write to console]: Error in filter(df, undersirable != 0) : object 'undersirable' not found\n",
            "Calls: <Anonymous> -> <Anonymous> -> withVisible -> filter\n",
            "\n"
          ],
          "name": "stderr"
        },
        {
          "output_type": "stream",
          "text": [
            "\n",
            "Error in filter(df, undersirable != 0) : object 'undersirable' not found\n",
            "Calls: <Anonymous> -> <Anonymous> -> withVisible -> filter\n"
          ],
          "name": "stdout"
        }
      ]
    },
    {
      "cell_type": "code",
      "metadata": {
        "id": "khv8S4dsqr10",
        "colab_type": "code",
        "colab": {}
      },
      "source": [
        "%%R\n",
        "#Basic Settings:\n",
        "\n",
        "colors <- c(rep('red',6),rep('blue',3),rep('green',2),rep('gray',2))\n",
        "boxplot(df,col='red')"
      ],
      "execution_count": null,
      "outputs": []
    },
    {
      "cell_type": "code",
      "metadata": {
        "id": "MtOGPX9BQaU0",
        "colab_type": "code",
        "colab": {}
      },
      "source": [
        "\n",
        "%%R\n",
        "#Log transformation\n",
        "logdata <- log(df+1)\n",
        "boxplot(logdata, col = 'red')"
      ],
      "execution_count": null,
      "outputs": []
    },
    {
      "cell_type": "code",
      "metadata": {
        "id": "5UJg9NKSCClB",
        "colab_type": "code",
        "colab": {}
      },
      "source": [
        "%%R\n",
        "#Descriptive statistics\n",
        "summary(df)"
      ],
      "execution_count": null,
      "outputs": []
    },
    {
      "cell_type": "code",
      "metadata": {
        "id": "xNw5Az-LHrqT",
        "colab_type": "code",
        "colab": {}
      },
      "source": [
        "%%R\n",
        "hist(df, col='pink')\n"
      ],
      "execution_count": null,
      "outputs": []
    },
    {
      "cell_type": "code",
      "metadata": {
        "id": "45OGfpvbIPvX",
        "colab_type": "code",
        "colab": {}
      },
      "source": [
        "%%R\n",
        "hist(logdata, col='magenta')"
      ],
      "execution_count": null,
      "outputs": []
    },
    {
      "cell_type": "code",
      "metadata": {
        "id": "7SWs-7nJpskc",
        "colab_type": "code",
        "colab": {}
      },
      "source": [
        ""
      ],
      "execution_count": null,
      "outputs": []
    },
    {
      "cell_type": "code",
      "metadata": {
        "id": "alk5CEp1wScd",
        "colab_type": "code",
        "colab": {}
      },
      "source": [
        ""
      ],
      "execution_count": null,
      "outputs": []
    },
    {
      "cell_type": "code",
      "metadata": {
        "id": "cgCPBvbxzGdw",
        "colab_type": "code",
        "colab": {}
      },
      "source": [
        ""
      ],
      "execution_count": null,
      "outputs": []
    }
  ]
}