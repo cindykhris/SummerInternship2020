{
  "nbformat": 4,
  "nbformat_minor": 0,
  "metadata": {
    "colab": {
      "name": "SummerInternship2020.ipynb",
      "provenance": [],
      "collapsed_sections": [
        "phgvAfyRDYEX"
      ],
      "toc_visible": true,
      "mount_file_id": "https://github.com/cindykhris/SummerInternship2020/blob/master/SummerInternship2020.ipynb",
      "authorship_tag": "ABX9TyMr0Ermbhfk2ltTzDOsur2i",
      "include_colab_link": true
    },
    "kernelspec": {
      "name": "python3",
      "display_name": "Python 3"
    }
  },
  "cells": [
    {
      "cell_type": "markdown",
      "metadata": {
        "id": "view-in-github",
        "colab_type": "text"
      },
      "source": [
        "<a href=\"https://colab.research.google.com/github/cindykhris/SummerInternship2020/blob/master/SummerInternship2020.ipynb\" target=\"_parent\"><img src=\"https://colab.research.google.com/assets/colab-badge.svg\" alt=\"Open In Colab\"/></a>"
      ]
    },
    {
      "cell_type": "markdown",
      "metadata": {
        "id": "qApau0FS8Nra",
        "colab_type": "text"
      },
      "source": [
        "# Pine Biotech Summer Reasearch\n",
        "\n",
        "**Cindy Pino**\n",
        "\n",
        "\n",
        "Abstract: In this study, we will analyze the gene expression differnt coronaviruses (CoVs) infections to determine how each virus differs when causing a disease. Here, we focuses the analysis on samples from SARS-CoV-1, MERS, and SARS-CoV-2. \n",
        "The raw sequence data (fastq files) for the SARS-CoV-1 and MERS infections were downloaded from GEO [GSE56192](https://www.ncbi.nlm.nih.gov/geo/query/acc.cgi?acc=GSE56192), including their corresponding Mock-treated controls). The raw sequence data (fastq files) for the SARS-CoV-2 infections were downloaded from GEO ([GSE147507](https://www.ncbi.nlm.nih.gov/geo/query/acc.cgi?acc=GSE147507)), including their corresponding Mock-treated controls). \n",
        "\n",
        "In this Jupyter notebook, I will use both R and Python to analyze three viruses: MERS, SARS-CoV-1, amd SARS-CoV-2"
      ]
    },
    {
      "cell_type": "markdown",
      "metadata": {
        "id": "phgvAfyRDYEX",
        "colab_type": "text"
      },
      "source": [
        "##Using R and Python in the same Notebook\n",
        "First, let's active R magic. Don't forget to use %%R before running a R code \n",
        "\n",
        "\n",
        "---"
      ]
    },
    {
      "cell_type": "code",
      "metadata": {
        "id": "meOnl6FNDXiV",
        "colab_type": "code",
        "colab": {
          "base_uri": "https://localhost:8080/",
          "height": 51
        },
        "outputId": "ab2c97f6-46f3-45c8-f02c-682fe71b7cbb"
      },
      "source": [
        "#active R magic\n",
        "%load_ext rpy2.ipython"
      ],
      "execution_count": 151,
      "outputs": [
        {
          "output_type": "stream",
          "text": [
            "The rpy2.ipython extension is already loaded. To reload it, use:\n",
            "  %reload_ext rpy2.ipython\n"
          ],
          "name": "stdout"
        }
      ]
    },
    {
      "cell_type": "markdown",
      "metadata": {
        "id": "V9KgkWD2Eort",
        "colab_type": "text"
      },
      "source": [
        "##Import all the folders we will need for this files (R and Python)"
      ]
    },
    {
      "cell_type": "markdown",
      "metadata": {
        "id": "uShsPUalEz4u",
        "colab_type": "text"
      },
      "source": [
        "###Python"
      ]
    },
    {
      "cell_type": "code",
      "metadata": {
        "id": "OedgbLFoEzbD",
        "colab_type": "code",
        "colab": {}
      },
      "source": [
        "import pandas as pd\n",
        "import numpy as np\n",
        "import matplotlib.pyplot as plt\n",
        "import seaborn as sns"
      ],
      "execution_count": 100,
      "outputs": []
    },
    {
      "cell_type": "markdown",
      "metadata": {
        "id": "r9eKsD0FE24-",
        "colab_type": "text"
      },
      "source": [
        "###R"
      ]
    },
    {
      "cell_type": "code",
      "metadata": {
        "id": "n8ii7hUTEyDN",
        "colab_type": "code",
        "colab": {}
      },
      "source": [
        "%%R\n",
        "install.packages('DESeq2', lib = \"/usr/lib/R/library\")"
      ],
      "execution_count": 168,
      "outputs": []
    },
    {
      "cell_type": "code",
      "metadata": {
        "id": "qKAbGqjhordB",
        "colab_type": "code",
        "colab": {
          "base_uri": "https://localhost:8080/",
          "height": 1000
        },
        "outputId": "e1427606-c630-4110-f99e-ccf2db2bc3bc"
      },
      "source": [
        "%%R\n",
        "install.packages('dplyr', lib = \"/usr/lib/R/library\")"
      ],
      "execution_count": 172,
      "outputs": [
        {
          "output_type": "stream",
          "text": [
            "R[write to console]: trying URL 'https://cran.rstudio.com/src/contrib/dplyr_1.0.2.tar.gz'\n",
            "\n",
            "R[write to console]: Content type 'application/x-gzip'\n",
            "R[write to console]:  length 935654 bytes (913 KB)\n",
            "\n",
            "R[write to console]: =\n",
            "R[write to console]: =\n",
            "R[write to console]: =\n",
            "R[write to console]: =\n",
            "R[write to console]: =\n",
            "R[write to console]: =\n",
            "R[write to console]: =\n",
            "R[write to console]: =\n",
            "R[write to console]: =\n",
            "R[write to console]: =\n",
            "R[write to console]: =\n",
            "R[write to console]: =\n",
            "R[write to console]: =\n",
            "R[write to console]: =\n",
            "R[write to console]: =\n",
            "R[write to console]: =\n",
            "R[write to console]: =\n",
            "R[write to console]: =\n",
            "R[write to console]: =\n",
            "R[write to console]: =\n",
            "R[write to console]: =\n",
            "R[write to console]: =\n",
            "R[write to console]: =\n",
            "R[write to console]: =\n",
            "R[write to console]: =\n",
            "R[write to console]: =\n",
            "R[write to console]: =\n",
            "R[write to console]: =\n",
            "R[write to console]: =\n",
            "R[write to console]: =\n",
            "R[write to console]: =\n",
            "R[write to console]: =\n",
            "R[write to console]: =\n",
            "R[write to console]: =\n",
            "R[write to console]: =\n",
            "R[write to console]: =\n",
            "R[write to console]: =\n",
            "R[write to console]: =\n",
            "R[write to console]: =\n",
            "R[write to console]: =\n",
            "R[write to console]: =\n",
            "R[write to console]: =\n",
            "R[write to console]: =\n",
            "R[write to console]: =\n",
            "R[write to console]: =\n",
            "R[write to console]: =\n",
            "R[write to console]: =\n",
            "R[write to console]: =\n",
            "R[write to console]: =\n",
            "R[write to console]: =\n",
            "R[write to console]: \n",
            "\n",
            "R[write to console]: downloaded 913 KB\n",
            "\n",
            "\n",
            "R[write to console]: \n",
            "\n",
            "R[write to console]: \n",
            "R[write to console]: The downloaded source packages are in\n",
            "\t‘/tmp/Rtmprwn5b5/downloaded_packages’\n",
            "R[write to console]: \n",
            "R[write to console]: \n",
            "\n",
            "R[write to console]: Updating HTML index of packages in '.Library'\n",
            "\n"
          ],
          "name": "stderr"
        }
      ]
    },
    {
      "cell_type": "code",
      "metadata": {
        "id": "oit83CZirysZ",
        "colab_type": "code",
        "colab": {}
      },
      "source": [
        "%%R\n",
        "install.packages('EnhancedVolcano',lib = \"/usr/lib/R/library\")\n"
      ],
      "execution_count": 173,
      "outputs": []
    },
    {
      "cell_type": "code",
      "metadata": {
        "id": "c1tb2niQr2a7",
        "colab_type": "code",
        "colab": {}
      },
      "source": [
        "%%R\n",
        "install.packages('ggplot',lib = \"/usr/lib/R/library\")"
      ],
      "execution_count": 174,
      "outputs": []
    },
    {
      "cell_type": "markdown",
      "metadata": {
        "id": "ygJsKv80BfDg",
        "colab_type": "text"
      },
      "source": [
        "\n",
        "## SARS-CoV\n",
        "Severe Acute Respiratory Syndrom Coronavirus (SARS-CoV) was first identified in 20013 (WHO). "
      ]
    },
    {
      "cell_type": "code",
      "metadata": {
        "id": "Tq2XLnoMXi7B",
        "colab_type": "code",
        "colab": {}
      },
      "source": [
        "%%R\n",
        "df = read.table('drive/My Drive/SummerResearch/DESeq_SARS_expression_genes_FPKM.txt',skip = 1, header = TRUE)\n"
      ],
      "execution_count": 125,
      "outputs": []
    },
    {
      "cell_type": "code",
      "metadata": {
        "id": "sM4INOjH_193",
        "colab_type": "code",
        "colab": {}
      },
      "source": [
        "%%R\n",
        "# Cleaning the file for processing\n",
        "ColNames1 <- df$id #take the column name\n",
        "df = df[,-1] #take the data part - numeric values\n",
        "df=as.matrix(df)"
      ],
      "execution_count": 126,
      "outputs": []
    },
    {
      "cell_type": "code",
      "metadata": {
        "id": "z4ry6O2UOuOA",
        "colab_type": "code",
        "colab": {}
      },
      "source": [
        "%%R\n",
        "names(df) <- NULL"
      ],
      "execution_count": 127,
      "outputs": []
    },
    {
      "cell_type": "code",
      "metadata": {
        "id": "U1KiISwWPhTs",
        "colab_type": "code",
        "colab": {}
      },
      "source": [
        "%%R\n",
        "#Remove NAs from dataset\n",
        "datanew <- na.exclude(df)"
      ],
      "execution_count": 128,
      "outputs": []
    },
    {
      "cell_type": "code",
      "metadata": {
        "id": "GWR74Dqyg1oF",
        "colab_type": "code",
        "colab": {
          "base_uri": "https://localhost:8080/",
          "height": 119
        },
        "outputId": "d6c0a298-e913-4337-bd01-b8cb707483e1"
      },
      "source": [
        "%%R\n",
        "#Remove zeroes \n",
        "data <- filter(df, undersirable != 0)\n",
        "head(data,10)"
      ],
      "execution_count": 129,
      "outputs": [
        {
          "output_type": "stream",
          "text": [
            "R[write to console]: Error in filter(df, undersirable != 0) : object 'undersirable' not found\n",
            "Calls: <Anonymous> -> <Anonymous> -> withVisible -> filter\n",
            "\n"
          ],
          "name": "stderr"
        },
        {
          "output_type": "stream",
          "text": [
            "\n",
            "Error in filter(df, undersirable != 0) : object 'undersirable' not found\n",
            "Calls: <Anonymous> -> <Anonymous> -> withVisible -> filter\n"
          ],
          "name": "stdout"
        }
      ]
    },
    {
      "cell_type": "code",
      "metadata": {
        "id": "khv8S4dsqr10",
        "colab_type": "code",
        "colab": {
          "base_uri": "https://localhost:8080/",
          "height": 497
        },
        "outputId": "daa17071-aebc-4f4f-fbbc-f7cc9151285c"
      },
      "source": [
        "%%R\n",
        "#Basic Settings:\n",
        "\n",
        "colors <- c(rep('red',6),rep('blue',3),rep('green',2),rep('gray',2))\n",
        "par(mar=c(14,4,2,2))\n",
        "boxplot(df, main=\"Gene Expression\",las = 2, cex.axis=0.6)\n"
      ],
      "execution_count": 130,
      "outputs": [
        {
          "output_type": "display_data",
          "data": {
            "image/png": "[encoded data removed]"
          },
          "metadata": {
            "tags": []
          }
        }
      ]
    },
    {
      "cell_type": "code",
      "metadata": {
        "id": "MtOGPX9BQaU0",
        "colab_type": "code",
        "colab": {
          "base_uri": "https://localhost:8080/",
          "height": 497
        },
        "outputId": "da705fdd-d3c4-40b3-9bff-165d2cc7fa0a"
      },
      "source": [
        "\n",
        "%%R\n",
        "#Log transformation\n",
        "logdata <- log(df+1)\n",
        "par(mar=c(14,4,2,2))\n",
        "boxplot(logdata, main=\"Log Transformed Gene Expression\", col = 'blue', las = 2, cex.axis=0.6)\n"
      ],
      "execution_count": 122,
      "outputs": [
        {
          "output_type": "display_data",
          "data": {
            "image/png": "[encoded data removed]"
          },
          "metadata": {
            "tags": []
          }
        }
      ]
    },
    {
      "cell_type": "code",
      "metadata": {
        "id": "5UJg9NKSCClB",
        "colab_type": "code",
        "colab": {
          "base_uri": "https://localhost:8080/",
          "height": 374
        },
        "outputId": "00f06d5c-902f-4551-f3b0-fb4b0e4afb4b"
      },
      "source": [
        "%%R\n",
        "#Descriptive statistics\n",
        "summary(df)"
      ],
      "execution_count": 109,
      "outputs": [
        {
          "output_type": "stream",
          "text": [
            "     X14.00            X14.17            X14.05            X13.24       \n",
            " Min.   :   0.00   Min.   :   0.00   Min.   :   0.00   Min.   :   0.00  \n",
            " 1st Qu.:   2.55   1st Qu.:   2.58   1st Qu.:   2.48   1st Qu.:   2.47  \n",
            " Median :   8.98   Median :   9.03   Median :   8.67   Median :   8.67  \n",
            " Mean   :  46.00   Mean   :  45.98   Mean   :  49.29   Mean   :  49.19  \n",
            " 3rd Qu.:  26.11   3rd Qu.:  26.11   3rd Qu.:  25.63   3rd Qu.:  25.67  \n",
            " Max.   :8494.14   Max.   :8518.84   Max.   :6941.47   Max.   :6853.46  \n",
            "     X15.31             X14.33            X12.93             X13.14        \n",
            " Min.   :   0.000   Min.   :   0.00   Min.   :   0.000   Min.   :   0.000  \n",
            " 1st Qu.:   2.487   1st Qu.:   2.49   1st Qu.:   2.610   1st Qu.:   2.660  \n",
            " Median :   8.785   Median :   8.75   Median :   9.325   Median :   9.365  \n",
            " Mean   :  47.898   Mean   :  47.84   Mean   :  43.011   Mean   :  43.016  \n",
            " 3rd Qu.:  25.885   3rd Qu.:  25.90   3rd Qu.:  26.163   3rd Qu.:  26.170  \n",
            " Max.   :7316.370   Max.   :7291.31   Max.   :6044.480   Max.   :6229.930  \n",
            "     X13.07            X13.86            X12.87            X12.67       \n",
            " Min.   :   0.00   Min.   :   0.00   Min.   :   0.00   Min.   :   0.00  \n",
            " 1st Qu.:   2.69   1st Qu.:   2.69   1st Qu.:   2.69   1st Qu.:   2.69  \n",
            " Median :   9.53   Median :   9.55   Median :   9.52   Median :   9.46  \n",
            " Mean   :  45.78   Mean   :  45.78   Mean   :  41.64   Mean   :  41.59  \n",
            " 3rd Qu.:  26.99   3rd Qu.:  26.93   3rd Qu.:  26.23   3rd Qu.:  26.21  \n",
            " Max.   :7904.28   Max.   :7929.19   Max.   :6006.12   Max.   :6078.50  \n"
          ],
          "name": "stdout"
        }
      ]
    },
    {
      "cell_type": "code",
      "metadata": {
        "id": "xNw5Az-LHrqT",
        "colab_type": "code",
        "colab": {
          "base_uri": "https://localhost:8080/",
          "height": 497
        },
        "outputId": "8cdb16e5-755c-444a-84a9-214b4c5e86f2"
      },
      "source": [
        "%%R\n",
        "hist(df, col='pink')\n"
      ],
      "execution_count": 110,
      "outputs": [
        {
          "output_type": "display_data",
          "data": {
            "image/png": "[encoded data removed]"
          },
          "metadata": {
            "tags": []
          }
        }
      ]
    },
    {
      "cell_type": "code",
      "metadata": {
        "id": "45OGfpvbIPvX",
        "colab_type": "code",
        "colab": {
          "base_uri": "https://localhost:8080/",
          "height": 497
        },
        "outputId": "a934b59a-77fc-4531-94b2-3567cdebe2c3"
      },
      "source": [
        "%%R\n",
        "hist(logdata, col='magenta')"
      ],
      "execution_count": 111,
      "outputs": [
        {
          "output_type": "display_data",
          "data": {
            "image/png": "[encoded data removed]"
          },
          "metadata": {
            "tags": []
          }
        }
      ]
    },
    {
      "cell_type": "code",
      "metadata": {
        "id": "7SWs-7nJpskc",
        "colab_type": "code",
        "colab": {
          "base_uri": "https://localhost:8080/",
          "height": 497
        },
        "outputId": "b0175acc-de0d-46b1-db4f-db96eaae6fec"
      },
      "source": [
        "%%R\n",
        "barplot(sort(logdata[100,]), col = \"blue\", main = ColNames1[2], font.axis=1, cex.axis=1, las=2)\n"
      ],
      "execution_count": 137,
      "outputs": [
        {
          "output_type": "display_data",
          "data": {
            "image/png": "[encoded data removed]"
          },
          "metadata": {
            "tags": []
          }
        }
      ]
    },
    {
      "cell_type": "code",
      "metadata": {
        "id": "alk5CEp1wScd",
        "colab_type": "code",
        "colab": {
          "base_uri": "https://localhost:8080/",
          "height": 497
        },
        "outputId": "0544bde3-1efb-4b89-96b0-b314229b72f8"
      },
      "source": [
        "%%R\n",
        "heatmap(logdata)"
      ],
      "execution_count": 138,
      "outputs": [
        {
          "output_type": "display_data",
          "data": {
            "image/png": "[encoded data removed]"
          },
          "metadata": {
            "tags": []
          }
        }
      ]
    },
    {
      "cell_type": "markdown",
      "metadata": {
        "id": "IZk7vcOXlhh0",
        "colab_type": "text"
      },
      "source": [
        "###DESeq2 \n",
        "Differential Gene Expression"
      ]
    },
    {
      "cell_type": "code",
      "metadata": {
        "id": "cgCPBvbxzGdw",
        "colab_type": "code",
        "colab": {
          "base_uri": "https://localhost:8080/",
          "height": 850
        },
        "outputId": "16073c6d-6f2b-459a-9ec7-3e9a3c42fb19"
      },
      "source": [
        "%%R\n",
        "# Load the file - raw count\n",
        "PDXdataset <- read.table(\"drive/My Drive/SummerResearch/DESeq_SARS_expression_genes.txt\", header = TRUE, sep='\\t')\n",
        "head(PDXdataset)"
      ],
      "execution_count": 141,
      "outputs": [
        {
          "output_type": "stream",
          "text": [
            "                  id group_1_sample_1_SRR1192353_PE\n",
            "1 ENSG00000000003.13                        1005.00\n",
            "2 ENSG00000000419.11                        1407.00\n",
            "3 ENSG00000000457.12                         386.15\n",
            "4 ENSG00000000460.15                         374.02\n",
            "5 ENSG00000000938.11                           0.00\n",
            "6 ENSG00000000971.14                        1038.05\n",
            "  group_1_sample_2_SRR1192354_PE group_1_sample_3_SRR1192370_PE\n",
            "1                        1016.58                        1011.00\n",
            "2                        1360.00                        1702.00\n",
            "3                         371.19                         369.27\n",
            "4                         339.90                         232.66\n",
            "5                           0.00                           0.00\n",
            "6                         990.08                        1041.82\n",
            "  group_1_sample_4_SRR1192371_PE group_1_sample_5_SRR1192398_PE\n",
            "1                         952.00                         979.00\n",
            "2                        1645.00                        1193.00\n",
            "3                         340.79                         328.45\n",
            "4                         238.59                         314.80\n",
            "5                           0.00                           1.00\n",
            "6                         937.83                         757.81\n",
            "  group_1_sample_6_SRR1192399_PE group_2_sample_1_SRR1193100_PE\n",
            "1                         921.00                         605.01\n",
            "2                        1233.00                        1269.00\n",
            "3                         364.65                         247.37\n",
            "4                         335.48                         243.82\n",
            "5                           0.00                           0.00\n",
            "6                         745.95                         832.00\n",
            "  group_2_sample_2_SRR1193101_PE group_2_sample_3_SRR1193013_PE\n",
            "1                         623.00                         627.00\n",
            "2                        1268.00                        1103.00\n",
            "3                         270.26                         223.31\n",
            "4                         280.23                         236.33\n",
            "5                           1.00                           0.00\n",
            "6                         823.00                         737.00\n",
            "  group_2_sample_4_SRR1193014_PE group_2_sample_5_SRR1193016_PE\n",
            "1                         642.00                         578.00\n",
            "2                        1066.00                        1118.00\n",
            "3                         248.28                         234.34\n",
            "4                         242.07                         234.65\n",
            "5                           0.00                           0.00\n",
            "6                         819.00                         815.00\n",
            "  group_2_sample_6_SRR1193017_PE\n",
            "1                         564.00\n",
            "2                        1103.00\n",
            "3                         245.02\n",
            "4                         247.01\n",
            "5                           0.00\n",
            "6                         787.00\n"
          ],
          "name": "stdout"
        }
      ]
    },
    {
      "cell_type": "code",
      "metadata": {
        "id": "cYf7OpW-l7d_",
        "colab_type": "code",
        "colab": {}
      },
      "source": [
        "%%R\n",
        "#Create a dataframe - columns and rows\n",
        "data <- (PDXdataset)\n",
        "colnames(PDXdataset) -> names\n",
        "meta_classes <- c('MK','MK','MK','MK','MK','MK','SA','SA','SA','SA','SA','SA','SA')\n",
        "meta_data <- data.frame(names, meta_classes)"
      ],
      "execution_count": 143,
      "outputs": []
    },
    {
      "cell_type": "code",
      "metadata": {
        "id": "YHdlPhITmtyQ",
        "colab_type": "code",
        "colab": {
          "base_uri": "https://localhost:8080/",
          "height": 153
        },
        "outputId": "d350b4b4-b9ff-4b1b-aac1-6e48223bbf4d"
      },
      "source": [
        "%%R\n",
        "#Construct DESeq2 dataset object and filter the zeroes\n",
        "ds <- DESeqDataSetFromMatrix(countData = data, colData = meta_data, design = ~meta_classes)\n",
        "ds = ds[rowSums(counts(ds))>2,]\n",
        "\n"
      ],
      "execution_count": 147,
      "outputs": [
        {
          "output_type": "stream",
          "text": [
            "R[write to console]: Error in DESeqDataSetFromMatrix(countData = data, colData = meta_data,  : \n",
            "  could not find function \"DESeqDataSetFromMatrix\"\n",
            "Calls: <Anonymous> -> <Anonymous> -> withVisible\n",
            "\n"
          ],
          "name": "stderr"
        },
        {
          "output_type": "stream",
          "text": [
            "\n",
            "Error in DESeqDataSetFromMatrix(countData = data, colData = meta_data,  : \n",
            "  could not find function \"DESeqDataSetFromMatrix\"\n",
            "Calls: <Anonymous> -> <Anonymous> -> withVisible\n"
          ],
          "name": "stdout"
        }
      ]
    },
    {
      "cell_type": "code",
      "metadata": {
        "id": "TcVaXrWsnFHY",
        "colab_type": "code",
        "colab": {
          "base_uri": "https://localhost:8080/",
          "height": 119
        },
        "outputId": "9339a129-0fd6-453d-c5a6-0ada3afa838c"
      },
      "source": [
        "%%R\n",
        "\n",
        "deseq2Data <- DESeq(ds)"
      ],
      "execution_count": 148,
      "outputs": [
        {
          "output_type": "stream",
          "text": [
            "R[write to console]: Error in DESeq(ds) : could not find function \"DESeq\"\n",
            "Calls: <Anonymous> -> <Anonymous> -> withVisible\n",
            "\n"
          ],
          "name": "stderr"
        },
        {
          "output_type": "stream",
          "text": [
            "\n",
            "Error in DESeq(ds) : could not find function \"DESeq\"\n",
            "Calls: <Anonymous> -> <Anonymous> -> withVisible\n"
          ],
          "name": "stdout"
        }
      ]
    },
    {
      "cell_type": "code",
      "metadata": {
        "id": "L8afkn4ine1L",
        "colab_type": "code",
        "colab": {}
      },
      "source": [
        ""
      ],
      "execution_count": null,
      "outputs": []
    }
  ]
}