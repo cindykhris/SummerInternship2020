{
  "nbformat": 4,
  "nbformat_minor": 0,
  "metadata": {
    "colab": {
      "name": "SummerInternship2020.ipynb",
      "provenance": [],
      "collapsed_sections": [
        "phgvAfyRDYEX"
      ],
      "toc_visible": true,
      "mount_file_id": "https://github.com/cindykhris/SummerInternship2020/blob/master/SummerInternship2020.ipynb",
      "authorship_tag": "ABX9TyP8VtE9jxnaYeqxnoqjehvm",
      "include_colab_link": true
    },
    "kernelspec": {
      "name": "python3",
      "display_name": "Python 3"
    }
  },
  "cells": [
    {
      "cell_type": "markdown",
      "metadata": {
        "id": "view-in-github",
        "colab_type": "text"
      },
      "source": [
        "<a href=\"https://colab.research.google.com/github/cindykhris/SummerInternship2020/blob/master/SummerInternship2020.ipynb\" target=\"_parent\"><img src=\"https://colab.research.google.com/assets/colab-badge.svg\" alt=\"Open In Colab\"/></a>"
      ]
    },
    {
      "cell_type": "markdown",
      "metadata": {
        "id": "qApau0FS8Nra",
        "colab_type": "text"
      },
      "source": [
        "# Pine Biotech Summer Reasearch\n",
        "\n",
        "**Cindy Pino**\n",
        "\n",
        "\n",
        "Abstract: In this study, we will analyze the gene expression differnt coronaviruses (CoVs) infections to determine how each virus differs when causing a disease. Here, we focuses the analysis on samples from SARS-CoV-1, MERS, and SARS-CoV-2. \n",
        "The raw sequence data (fastq files) for the SARS-CoV-1 and MERS infections were downloaded from GEO [GSE56192](https://www.ncbi.nlm.nih.gov/geo/query/acc.cgi?acc=GSE56192), including their corresponding Mock-treated controls). The raw sequence data (fastq files) for the SARS-CoV-2 infections were downloaded from GEO ([GSE147507](https://www.ncbi.nlm.nih.gov/geo/query/acc.cgi?acc=GSE147507)), including their corresponding Mock-treated controls). \n",
        "\n",
        "In this Jupyter notebook, I will use both R and Python to analyze three viruses: MERS, SARS-CoV-1, amd SARS-CoV-2"
      ]
    },
    {
      "cell_type": "markdown",
      "metadata": {
        "id": "phgvAfyRDYEX",
        "colab_type": "text"
      },
      "source": [
        "##Using R and Python in the same Notebook\n",
        "First, let's active R magic. Don't forget to use %%R before running a R code \n",
        "\n",
        "\n",
        "---"
      ]
    },
    {
      "cell_type": "code",
      "metadata": {
        "id": "meOnl6FNDXiV",
        "colab_type": "code",
        "colab": {}
      },
      "source": [
        "#active R magic\n",
        "%load_ext rpy2.ipython"
      ],
      "execution_count": null,
      "outputs": []
    },
    {
      "cell_type": "markdown",
      "metadata": {
        "id": "V9KgkWD2Eort",
        "colab_type": "text"
      },
      "source": [
        "##Import all the folders we will need for this files (R and Python)"
      ]
    },
    {
      "cell_type": "markdown",
      "metadata": {
        "id": "uShsPUalEz4u",
        "colab_type": "text"
      },
      "source": [
        "###Python"
      ]
    },
    {
      "cell_type": "code",
      "metadata": {
        "id": "OedgbLFoEzbD",
        "colab_type": "code",
        "colab": {}
      },
      "source": [
        "import pandas as pd\n",
        "import numpy as np\n",
        "import matplotlib.pyplot as plt\n",
        "import seaborn as sns"
      ],
      "execution_count": null,
      "outputs": []
    },
    {
      "cell_type": "markdown",
      "metadata": {
        "id": "r9eKsD0FE24-",
        "colab_type": "text"
      },
      "source": [
        "###R"
      ]
    },
    {
      "cell_type": "code",
      "metadata": {
        "id": "jovMeIoXtD9W",
        "colab_type": "code",
        "colab": {}
      },
      "source": [
        "%%R\n",
        "if (!requireNamespace(\"BiocManager\", quietly = TRUE))\n",
        "    install.packages(\"BiocManager\")\n",
        "\n",
        "BiocManager::install(\"DESeq2\")"
      ],
      "execution_count": null,
      "outputs": []
    },
    {
      "cell_type": "code",
      "metadata": {
        "id": "Y6Yy2vD_w_4z",
        "colab_type": "code",
        "colab": {}
      },
      "source": [
        "%%R\n",
        "library(DESeq2)\n"
      ],
      "execution_count": null,
      "outputs": []
    },
    {
      "cell_type": "code",
      "metadata": {
        "id": "c3fcKm6340rR",
        "colab_type": "code",
        "colab": {}
      },
      "source": [
        "%%R\n",
        "library(tidyverse)"
      ],
      "execution_count": null,
      "outputs": []
    },
    {
      "cell_type": "code",
      "metadata": {
        "id": "qKAbGqjhordB",
        "colab_type": "code",
        "colab": {}
      },
      "source": [
        "%%R\n",
        "install.packages('dplyr', lib = \"/usr/lib/R/library\")"
      ],
      "execution_count": null,
      "outputs": []
    },
    {
      "cell_type": "code",
      "metadata": {
        "id": "oit83CZirysZ",
        "colab_type": "code",
        "colab": {}
      },
      "source": [
        "%%R\n",
        "install.packages('EnhancedVolcano',lib = \"/usr/lib/R/library\")\n",
        "library(EnhancedVolcano)"
      ],
      "execution_count": null,
      "outputs": []
    },
    {
      "cell_type": "code",
      "metadata": {
        "id": "c1tb2niQr2a7",
        "colab_type": "code",
        "colab": {}
      },
      "source": [
        "%%R\n",
        "install.packages('ggplot',lib = \"/usr/lib/R/library\")\n"
      ],
      "execution_count": null,
      "outputs": []
    },
    {
      "cell_type": "markdown",
      "metadata": {
        "id": "ygJsKv80BfDg",
        "colab_type": "text"
      },
      "source": [
        "\n",
        "## SARS-CoV\n",
        "Severe Acute Respiratory Syndrom Coronavirus (SARS-CoV) was first identified in 20013 (WHO). \n",
        "\n",
        "**Pipeline Workflow**\n",
        "\n",
        "\n",
        "\n",
        "*   PreProcessing\n",
        "    \n",
        "      * PCR clean - to remove duplicates from the PCR run  thus reducing redundancy. \n",
        "      * Trimmomatic - removes adapter sequences\n",
        "*   Mapping \n",
        "      * Bowtie-2t\n",
        "* Quantification \n",
        "\n",
        "    * RSEM -  Fragment Per Kilobase of transcript per Million mapped reads  for Paired-End Reads\n",
        "\n",
        "\n",
        "\n",
        "\n",
        "\n"
      ]
    },
    {
      "cell_type": "code",
      "metadata": {
        "id": "Tq2XLnoMXi7B",
        "colab_type": "code",
        "colab": {}
      },
      "source": [
        "%%R\n",
        "df = read.table('drive/My Drive/SummerResearch/DESeq_SARS_expression_genes_FPKM.txt',skip = 1, header = TRUE)\n"
      ],
      "execution_count": null,
      "outputs": []
    },
    {
      "cell_type": "code",
      "metadata": {
        "id": "sM4INOjH_193",
        "colab_type": "code",
        "colab": {}
      },
      "source": [
        "%%R\n",
        "# Cleaning the file for processing\n",
        "ColNames1 <- df$id #take the column name\n",
        "df = df[,-1] #take the data part - numeric values\n",
        "df=as.matrix(df)"
      ],
      "execution_count": null,
      "outputs": []
    },
    {
      "cell_type": "code",
      "metadata": {
        "id": "z4ry6O2UOuOA",
        "colab_type": "code",
        "colab": {}
      },
      "source": [
        "%%R\n",
        "names(df) <- NULL"
      ],
      "execution_count": null,
      "outputs": []
    },
    {
      "cell_type": "code",
      "metadata": {
        "id": "U1KiISwWPhTs",
        "colab_type": "code",
        "colab": {}
      },
      "source": [
        "%%R\n",
        "#Remove NAs from dataset\n",
        "datanew <- na.exclude(df)"
      ],
      "execution_count": null,
      "outputs": []
    },
    {
      "cell_type": "code",
      "metadata": {
        "id": "Ng1zYFcVEyGU",
        "colab_type": "code",
        "colab": {}
      },
      "source": [
        "%%R\n",
        "\n",
        "#Remove Zeroes\n",
        "library(dplyr)\n",
        "filter_all(dat, any_vars(. != 0))"
      ],
      "execution_count": null,
      "outputs": []
    },
    {
      "cell_type": "code",
      "metadata": {
        "id": "GWR74Dqyg1oF",
        "colab_type": "code",
        "colab": {}
      },
      "source": [
        "%%R\n",
        "#Remove zeroes \n",
        "data <- filter(df, undersirable != 0)\n",
        "head(data,10)"
      ],
      "execution_count": null,
      "outputs": []
    },
    {
      "cell_type": "code",
      "metadata": {
        "id": "khv8S4dsqr10",
        "colab_type": "code",
        "colab": {}
      },
      "source": [
        "%%R\n",
        "#Basic Settings:\n",
        "\n",
        "colors <- c(rep('red',6),rep('blue',3),rep('green',2),rep('gray',2))\n",
        "par(mar=c(14,4,2,2))\n",
        "boxplot(df, main=\"Gene Expression\",las = 2, cex.axis=0.6)\n"
      ],
      "execution_count": null,
      "outputs": []
    },
    {
      "cell_type": "code",
      "metadata": {
        "id": "MtOGPX9BQaU0",
        "colab_type": "code",
        "colab": {}
      },
      "source": [
        "\n",
        "%%R\n",
        "#Log transformation\n",
        "logdata <- log(df+1)\n",
        "par(mar=c(14,4,2,2))\n",
        "boxplot(logdata, main=\"Log Transformed Gene Expression\", col = 'blue', las = 2, cex.axis=0.6)\n"
      ],
      "execution_count": null,
      "outputs": []
    },
    {
      "cell_type": "code",
      "metadata": {
        "id": "5UJg9NKSCClB",
        "colab_type": "code",
        "colab": {}
      },
      "source": [
        "%%R\n",
        "#Descriptive statistics\n",
        "summary(df)"
      ],
      "execution_count": null,
      "outputs": []
    },
    {
      "cell_type": "code",
      "metadata": {
        "id": "xNw5Az-LHrqT",
        "colab_type": "code",
        "colab": {}
      },
      "source": [
        "%%R\n",
        "hist(df, col='pink')\n"
      ],
      "execution_count": null,
      "outputs": []
    },
    {
      "cell_type": "code",
      "metadata": {
        "id": "45OGfpvbIPvX",
        "colab_type": "code",
        "colab": {}
      },
      "source": [
        "%%R\n",
        "hist(logdata, col='magenta')"
      ],
      "execution_count": null,
      "outputs": []
    },
    {
      "cell_type": "code",
      "metadata": {
        "id": "7SWs-7nJpskc",
        "colab_type": "code",
        "colab": {}
      },
      "source": [
        "%%R\n",
        "barplot(sort(logdata[100,]), col = \"blue\", main = ColNames1[2], font.axis=1, cex.axis=1, las=2)\n"
      ],
      "execution_count": null,
      "outputs": []
    },
    {
      "cell_type": "code",
      "metadata": {
        "id": "alk5CEp1wScd",
        "colab_type": "code",
        "colab": {}
      },
      "source": [
        "%%R\n",
        "heatmap(logdata)"
      ],
      "execution_count": null,
      "outputs": []
    }
  ]
}