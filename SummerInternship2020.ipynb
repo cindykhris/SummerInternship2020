{
  "nbformat": 4,
  "nbformat_minor": 0,
  "metadata": {
    "colab": {
      "name": "SummerInternship2020.ipynb",
      "provenance": [],
      "collapsed_sections": [
        "phgvAfyRDYEX"
      ],
      "toc_visible": true,
      "mount_file_id": "https://github.com/cindykhris/SummerInternship2020/blob/master/SummerInternship2020.ipynb",
      "authorship_tag": "ABX9TyMT6U1I1hiPh4eqn1p6Zuhv",
      "include_colab_link": true
    },
    "kernelspec": {
      "name": "python3",
      "display_name": "Python 3"
    }
  },
  "cells": [
    {
      "cell_type": "markdown",
      "metadata": {
        "id": "view-in-github",
        "colab_type": "text"
      },
      "source": [
        "<a href=\"https://colab.research.google.com/github/cindykhris/SummerInternship2020/blob/master/SummerInternship2020.ipynb\" target=\"_parent\"><img src=\"https://colab.research.google.com/assets/colab-badge.svg\" alt=\"Open In Colab\"/></a>"
      ]
    },
    {
      "cell_type": "markdown",
      "metadata": {
        "id": "qApau0FS8Nra",
        "colab_type": "text"
      },
      "source": [
        "# Pine Biotech Summer Reasearch\n",
        "\n",
        "**Cindy Pino**\n",
        "\n",
        "\n",
        "Abstract: In this study, we will analyze the gene expression differnt coronaviruses (CoVs) infections to determine how each virus differs when causing a disease. Here, we focuses the analysis on samples from SARS-CoV-1, MERS, and SARS-CoV-2. \n",
        "The raw sequence data (fastq files) for the SARS-CoV-1 and MERS infections were downloaded from GEO [GSE56192](https://www.ncbi.nlm.nih.gov/geo/query/acc.cgi?acc=GSE56192), including their corresponding Mock-treated controls). The raw sequence data (fastq files) for the SARS-CoV-2 infections were downloaded from GEO ([GSE147507](https://www.ncbi.nlm.nih.gov/geo/query/acc.cgi?acc=GSE147507)), including their corresponding Mock-treated controls). \n",
        "\n",
        "In this Jupyter notebook, I will use both R and Python to analyze three viruses: MERS, SARS-CoV-1, amd SARS-CoV-2"
      ]
    },
    {
      "cell_type": "markdown",
      "metadata": {
        "id": "phgvAfyRDYEX",
        "colab_type": "text"
      },
      "source": [
        "##Using R and Python in the same Notebook\n",
        "First, let's active R magic. Don't forget to use %%R before running a R code \n",
        "\n",
        "\n",
        "---"
      ]
    },
    {
      "cell_type": "code",
      "metadata": {
        "id": "meOnl6FNDXiV",
        "colab_type": "code",
        "colab": {
          "base_uri": "https://localhost:8080/",
          "height": 0
        },
        "outputId": "7dda95f5-4e45-4ebc-c5b9-8f8d6a17fad5"
      },
      "source": [
        "#active R magic\n",
        "%load_ext rpy2.ipython"
      ],
      "execution_count": 213,
      "outputs": [
        {
          "output_type": "stream",
          "text": [
            "The rpy2.ipython extension is already loaded. To reload it, use:\n",
            "  %reload_ext rpy2.ipython\n"
          ],
          "name": "stdout"
        }
      ]
    },
    {
      "cell_type": "markdown",
      "metadata": {
        "id": "V9KgkWD2Eort",
        "colab_type": "text"
      },
      "source": [
        "##Import all the folders we will need for this files (R and Python)"
      ]
    },
    {
      "cell_type": "markdown",
      "metadata": {
        "id": "uShsPUalEz4u",
        "colab_type": "text"
      },
      "source": [
        "###Python"
      ]
    },
    {
      "cell_type": "code",
      "metadata": {
        "id": "OedgbLFoEzbD",
        "colab_type": "code",
        "colab": {}
      },
      "source": [
        "import pandas as pd\n",
        "import numpy as np\n",
        "import matplotlib.pyplot as plt\n",
        "import seaborn as sns"
      ],
      "execution_count": 214,
      "outputs": []
    },
    {
      "cell_type": "markdown",
      "metadata": {
        "id": "r9eKsD0FE24-",
        "colab_type": "text"
      },
      "source": [
        "###R"
      ]
    },
    {
      "cell_type": "code",
      "metadata": {
        "id": "jovMeIoXtD9W",
        "colab_type": "code",
        "colab": {
          "base_uri": "https://localhost:8080/",
          "height": 0
        },
        "outputId": "bc81068a-3d1c-4e6e-fa9b-bfffbc72024e"
      },
      "source": [
        "%%R\n",
        "if (!requireNamespace(\"BiocManager\", quietly = TRUE))\n",
        "    install.packages(\"BiocManager\")\n",
        "\n",
        "BiocManager::install(\"DESeq2\")"
      ],
      "execution_count": null,
      "outputs": [
        {
          "output_type": "stream",
          "text": [
            "R[write to console]: Bioconductor version 3.10 (BiocManager 1.30.10), R 3.6.3 (2020-02-29)\n",
            "\n",
            "R[write to console]: Installing package(s) 'DESeq2'\n",
            "\n",
            "R[write to console]: trying URL 'https://bioconductor.org/packages/3.10/bioc/src/contrib/DESeq2_1.26.0.tar.gz'\n",
            "\n",
            "R[write to console]: Content type 'application/x-gzip'\n",
            "R[write to console]:  length 2060061 bytes (2.0 MB)\n",
            "\n",
            "R[write to console]: =\n",
            "R[write to console]: =\n",
            "R[write to console]: =\n",
            "R[write to console]: =\n",
            "R[write to console]: =\n",
            "R[write to console]: =\n",
            "R[write to console]: =\n",
            "R[write to console]: =\n",
            "R[write to console]: =\n",
            "R[write to console]: =\n",
            "R[write to console]: =\n",
            "R[write to console]: =\n",
            "R[write to console]: =\n",
            "R[write to console]: =\n",
            "R[write to console]: =\n",
            "R[write to console]: =\n",
            "R[write to console]: =\n",
            "R[write to console]: =\n",
            "R[write to console]: =\n",
            "R[write to console]: =\n",
            "R[write to console]: =\n",
            "R[write to console]: =\n",
            "R[write to console]: =\n",
            "R[write to console]: =\n",
            "R[write to console]: =\n",
            "R[write to console]: =\n",
            "R[write to console]: =\n",
            "R[write to console]: =\n",
            "R[write to console]: =\n",
            "R[write to console]: =\n",
            "R[write to console]: =\n",
            "R[write to console]: =\n",
            "R[write to console]: =\n",
            "R[write to console]: =\n",
            "R[write to console]: =\n",
            "R[write to console]: =\n",
            "R[write to console]: =\n",
            "R[write to console]: =\n",
            "R[write to console]: =\n",
            "R[write to console]: =\n",
            "R[write to console]: =\n",
            "R[write to console]: =\n",
            "R[write to console]: =\n",
            "R[write to console]: =\n",
            "R[write to console]: =\n",
            "R[write to console]: =\n",
            "R[write to console]: =\n",
            "R[write to console]: =\n",
            "R[write to console]: =\n",
            "R[write to console]: =\n",
            "R[write to console]: \n",
            "\n",
            "R[write to console]: downloaded 2.0 MB\n",
            "\n",
            "\n"
          ],
          "name": "stderr"
        }
      ]
    },
    {
      "cell_type": "code",
      "metadata": {
        "id": "Y6Yy2vD_w_4z",
        "colab_type": "code",
        "colab": {}
      },
      "source": [
        "%%R\n",
        "library(DESeq2)\n"
      ],
      "execution_count": null,
      "outputs": []
    },
    {
      "cell_type": "markdown",
      "metadata": {
        "id": "0TPXU4eaw_ht",
        "colab_type": "text"
      },
      "source": [
        ""
      ]
    },
    {
      "cell_type": "code",
      "metadata": {
        "id": "qKAbGqjhordB",
        "colab_type": "code",
        "colab": {}
      },
      "source": [
        "%%R\n",
        "install.packages('dplyr', lib = \"/usr/lib/R/library\")"
      ],
      "execution_count": null,
      "outputs": []
    },
    {
      "cell_type": "code",
      "metadata": {
        "id": "oit83CZirysZ",
        "colab_type": "code",
        "colab": {}
      },
      "source": [
        "%%R\n",
        "install.packages('EnhancedVolcano',lib = \"/usr/lib/R/library\")"
      ],
      "execution_count": null,
      "outputs": []
    },
    {
      "cell_type": "code",
      "metadata": {
        "id": "c1tb2niQr2a7",
        "colab_type": "code",
        "colab": {}
      },
      "source": [
        "%%R\n",
        "install.packages('ggplot',lib = \"/usr/lib/R/library\")"
      ],
      "execution_count": null,
      "outputs": []
    },
    {
      "cell_type": "markdown",
      "metadata": {
        "id": "ygJsKv80BfDg",
        "colab_type": "text"
      },
      "source": [
        "\n",
        "## SARS-CoV\n",
        "Severe Acute Respiratory Syndrom Coronavirus (SARS-CoV) was first identified in 20013 (WHO). "
      ]
    },
    {
      "cell_type": "code",
      "metadata": {
        "id": "Tq2XLnoMXi7B",
        "colab_type": "code",
        "colab": {}
      },
      "source": [
        "%%R\n",
        "df = read.table('drive/My Drive/SummerResearch/DESeq_SARS_expression_genes_FPKM.txt',skip = 1, header = TRUE)\n"
      ],
      "execution_count": null,
      "outputs": []
    },
    {
      "cell_type": "code",
      "metadata": {
        "id": "sM4INOjH_193",
        "colab_type": "code",
        "colab": {}
      },
      "source": [
        "%%R\n",
        "# Cleaning the file for processing\n",
        "ColNames1 <- df$id #take the column name\n",
        "df = df[,-1] #take the data part - numeric values\n",
        "df=as.matrix(df)"
      ],
      "execution_count": null,
      "outputs": []
    },
    {
      "cell_type": "code",
      "metadata": {
        "id": "z4ry6O2UOuOA",
        "colab_type": "code",
        "colab": {}
      },
      "source": [
        "%%R\n",
        "names(df) <- NULL"
      ],
      "execution_count": null,
      "outputs": []
    },
    {
      "cell_type": "code",
      "metadata": {
        "id": "U1KiISwWPhTs",
        "colab_type": "code",
        "colab": {}
      },
      "source": [
        "%%R\n",
        "#Remove NAs from dataset\n",
        "datanew <- na.exclude(df)"
      ],
      "execution_count": null,
      "outputs": []
    },
    {
      "cell_type": "code",
      "metadata": {
        "id": "GWR74Dqyg1oF",
        "colab_type": "code",
        "colab": {}
      },
      "source": [
        "%%R\n",
        "#Remove zeroes \n",
        "data <- filter(df, undersirable != 0)\n",
        "head(data,10)"
      ],
      "execution_count": null,
      "outputs": []
    },
    {
      "cell_type": "code",
      "metadata": {
        "id": "khv8S4dsqr10",
        "colab_type": "code",
        "colab": {}
      },
      "source": [
        "%%R\n",
        "#Basic Settings:\n",
        "\n",
        "colors <- c(rep('red',6),rep('blue',3),rep('green',2),rep('gray',2))\n",
        "par(mar=c(14,4,2,2))\n",
        "boxplot(df, main=\"Gene Expression\",las = 2, cex.axis=0.6)\n"
      ],
      "execution_count": null,
      "outputs": []
    },
    {
      "cell_type": "code",
      "metadata": {
        "id": "MtOGPX9BQaU0",
        "colab_type": "code",
        "colab": {}
      },
      "source": [
        "\n",
        "%%R\n",
        "#Log transformation\n",
        "logdata <- log(df+1)\n",
        "par(mar=c(14,4,2,2))\n",
        "boxplot(logdata, main=\"Log Transformed Gene Expression\", col = 'blue', las = 2, cex.axis=0.6)\n"
      ],
      "execution_count": null,
      "outputs": []
    },
    {
      "cell_type": "code",
      "metadata": {
        "id": "5UJg9NKSCClB",
        "colab_type": "code",
        "colab": {}
      },
      "source": [
        "%%R\n",
        "#Descriptive statistics\n",
        "summary(df)"
      ],
      "execution_count": null,
      "outputs": []
    },
    {
      "cell_type": "code",
      "metadata": {
        "id": "xNw5Az-LHrqT",
        "colab_type": "code",
        "colab": {}
      },
      "source": [
        "%%R\n",
        "hist(df, col='pink')\n"
      ],
      "execution_count": null,
      "outputs": []
    },
    {
      "cell_type": "code",
      "metadata": {
        "id": "45OGfpvbIPvX",
        "colab_type": "code",
        "colab": {}
      },
      "source": [
        "%%R\n",
        "hist(logdata, col='magenta')"
      ],
      "execution_count": null,
      "outputs": []
    },
    {
      "cell_type": "code",
      "metadata": {
        "id": "7SWs-7nJpskc",
        "colab_type": "code",
        "colab": {}
      },
      "source": [
        "%%R\n",
        "barplot(sort(logdata[100,]), col = \"blue\", main = ColNames1[2], font.axis=1, cex.axis=1, las=2)\n"
      ],
      "execution_count": null,
      "outputs": []
    },
    {
      "cell_type": "code",
      "metadata": {
        "id": "alk5CEp1wScd",
        "colab_type": "code",
        "colab": {}
      },
      "source": [
        "%%R\n",
        "heatmap(logdata)"
      ],
      "execution_count": null,
      "outputs": []
    },
    {
      "cell_type": "markdown",
      "metadata": {
        "id": "IZk7vcOXlhh0",
        "colab_type": "text"
      },
      "source": [
        "###DESeq2 \n",
        "Differential Gene Expression"
      ]
    },
    {
      "cell_type": "code",
      "metadata": {
        "id": "cgCPBvbxzGdw",
        "colab_type": "code",
        "colab": {}
      },
      "source": [
        "%%R\n",
        "# Load the file - raw count\n",
        "PDXdataset <- read.table(\"drive/My Drive/SummerResearch/DESeq_SARS_expression_genes.txt\", header = TRUE, row.names=1, sep='\\t')\n",
        "#head(PDXdataset)"
      ],
      "execution_count": null,
      "outputs": []
    },
    {
      "cell_type": "code",
      "metadata": {
        "id": "cYf7OpW-l7d_",
        "colab_type": "code",
        "colab": {}
      },
      "source": [
        "%%R\n",
        "#Create a dataframe - columns and rows\n",
        "data <- (PDXdataset)\n",
        "colnames(PDXdataset) -> names\n",
        "meta_classes <- c('MK','MK','MK','MK','MK','MK','SA','SA','SA','SA','SA','SA')\n",
        "meta_data <- data.frame(names, meta_classes)\n",
        "head(data)"
      ],
      "execution_count": null,
      "outputs": []
    },
    {
      "cell_type": "code",
      "metadata": {
        "id": "YHdlPhITmtyQ",
        "colab_type": "code",
        "colab": {}
      },
      "source": [
        "%%R\n",
        "#Construct DESeq2 dataset object and filter the zeroes\n",
        "ds <- DESeqDataSetFromMatrix(countData=data, colData=meta_data, design=~meta_classes)\n",
        "\n",
        "\n"
      ],
      "execution_count": null,
      "outputs": []
    },
    {
      "cell_type": "code",
      "metadata": {
        "id": "TcVaXrWsnFHY",
        "colab_type": "code",
        "colab": {}
      },
      "source": [
        "%%R\n",
        "\n",
        "deseq2Data <- DESeq(ds)"
      ],
      "execution_count": null,
      "outputs": []
    },
    {
      "cell_type": "code",
      "metadata": {
        "id": "L8afkn4ine1L",
        "colab_type": "code",
        "colab": {}
      },
      "source": [
        ""
      ],
      "execution_count": null,
      "outputs": []
    }
  ]
}