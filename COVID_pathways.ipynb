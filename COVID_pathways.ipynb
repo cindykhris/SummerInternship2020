{
  "nbformat": 4,
  "nbformat_minor": 0,
  "metadata": {
    "colab": {
      "name": "COVID_pathways.ipynb",
      "provenance": [],
      "mount_file_id": "https://github.com/cindykhris/Summer_Internship_2020/blob/master/COVID_pathways.ipynb",
      "authorship_tag": "ABX9TyMzqETnFbVUyZ4wDUkqp6c2",
      "include_colab_link": true
    },
    "kernelspec": {
      "name": "python3",
      "display_name": "Python 3"
    }
  },
  "cells": [
    {
      "cell_type": "markdown",
      "metadata": {
        "id": "view-in-github",
        "colab_type": "text"
      },
      "source": [
        "<a href=\"https://colab.research.google.com/github/cindykhris/Summer_Internship_2020/blob/master/COVID_pathways.ipynb\" target=\"_parent\"><img src=\"https://colab.research.google.com/assets/colab-badge.svg\" alt=\"Open In Colab\"/></a>"
      ]
    },
    {
      "cell_type": "code",
      "metadata": {
        "id": "K4eKc67rUY-0",
        "colab_type": "code",
        "colab": {}
      },
      "source": [
        "import numpy as np\n",
        "import pandas as pd\n",
        "import matplotlib.pyplot as plt\n"
      ],
      "execution_count": 1,
      "outputs": []
    },
    {
      "cell_type": "code",
      "metadata": {
        "id": "cVXuJRLaXDfj",
        "colab_type": "code",
        "colab": {}
      },
      "source": [
        "df_1 = pd.read_table('/content/drive/My Drive/SummerResearch/COVID-19/DESeq_Covid-19_Series_2__expression_genes_DeSeq2_GO_Signif.txt')\n",
        "df_1 = df_1.rename(columns={'GO_description':\"GO\"})\n",
        "\n"
      ],
      "execution_count": 2,
      "outputs": []
    },
    {
      "cell_type": "code",
      "metadata": {
        "id": "Gdbv7tKNXNwM",
        "colab_type": "code",
        "colab": {}
      },
      "source": [
        "df_2 = pd.read_table('/content/drive/My Drive/SummerResearch/COVID-19/DESeq_Covid-19_Series_2__expression_genes_DeSeq2_Signif_Gene_for_signifGO.txt')\n"
      ],
      "execution_count": null,
      "outputs": []
    },
    {
      "cell_type": "code",
      "metadata": {
        "id": "VP2SkGN_dNo7",
        "colab_type": "code",
        "colab": {}
      },
      "source": [
        "df_3 = pd.merge(df_1, df_2)\n",
        "\n",
        "\n"
      ],
      "execution_count": null,
      "outputs": []
    },
    {
      "cell_type": "code",
      "metadata": {
        "id": "fx8jITZRZUJu",
        "colab_type": "code",
        "colab": {
          "base_uri": "https://localhost:8080/",
          "height": 34
        },
        "outputId": "faf1bdd1-eba7-48b8-fe89-6f1e5c717029"
      },
      "source": [
        "df_4 = df_3.drop_duplicates(subset=['GO'])\n",
        "len(df_4)"
      ],
      "execution_count": null,
      "outputs": [
        {
          "output_type": "execute_result",
          "data": {
            "text/plain": [
              "81"
            ]
          },
          "metadata": {
            "tags": []
          },
          "execution_count": 7
        }
      ]
    },
    {
      "cell_type": "code",
      "metadata": {
        "id": "jbTRuK9RZmFy",
        "colab_type": "code",
        "colab": {}
      },
      "source": [
        "df_5 = df_4.rename(columns={'Ensemle_ID':'id'})\n"
      ],
      "execution_count": null,
      "outputs": []
    },
    {
      "cell_type": "code",
      "metadata": {
        "id": "GBarYwRaXnAf",
        "colab_type": "code",
        "colab": {
          "base_uri": "https://localhost:8080/",
          "height": 255
        },
        "outputId": "9262b61c-34f4-4b8e-8c2f-f3bc6413af82"
      },
      "source": [
        "result = df_5[['id','group_1_sample_10_SRR11412241_SE', 'group_1_sample_11_SRR11412240_SE',\n",
        "       'group_1_sample_12_SRR11412239_SE', 'group_1_sample_1_SRR11412250_SE',\n",
        "       'group_1_sample_2_SRR11412249_SE', 'group_1_sample_3_SRR11412248_SE',\n",
        "       'group_1_sample_4_SRR11412247_SE', 'group_1_sample_5_SRR11412246_SE',\n",
        "       'group_1_sample_6_SRR11412245_SE', 'group_1_sample_7_SRR11412244_SE',\n",
        "       'group_1_sample_8_SRR11412243_SE', 'group_1_sample_9_SRR11412242_SE',\n",
        "       'group_2_sample_10_SRR11412254_SE', 'group_2_sample_11_SRR11412253_SE',\n",
        "       'group_2_sample_12_SRR11412252_SE', 'group_2_sample_1_SRR11412260_SE',\n",
        "       'group_2_sample_2_SRR11412259_SE', 'group_2_sample_3_SRR11412258_SE',\n",
        "       'group_2_sample_4_SRR11412257_SE', 'group_2_sample_5_SRR11412251_SE',\n",
        "       'group_2_sample_6_SRR11412262_SE', 'group_2_sample_7_SRR11412261_SE',\n",
        "       'group_2_sample_8_SRR11412256_SE', 'group_2_sample_9_SRR11412255_SE']]\n",
        "result.columns"
      ],
      "execution_count": null,
      "outputs": [
        {
          "output_type": "execute_result",
          "data": {
            "text/plain": [
              "Index(['id', 'group_1_sample_10_SRR11412241_SE',\n",
              "       'group_1_sample_11_SRR11412240_SE', 'group_1_sample_12_SRR11412239_SE',\n",
              "       'group_1_sample_1_SRR11412250_SE', 'group_1_sample_2_SRR11412249_SE',\n",
              "       'group_1_sample_3_SRR11412248_SE', 'group_1_sample_4_SRR11412247_SE',\n",
              "       'group_1_sample_5_SRR11412246_SE', 'group_1_sample_6_SRR11412245_SE',\n",
              "       'group_1_sample_7_SRR11412244_SE', 'group_1_sample_8_SRR11412243_SE',\n",
              "       'group_1_sample_9_SRR11412242_SE', 'group_2_sample_10_SRR11412254_SE',\n",
              "       'group_2_sample_11_SRR11412253_SE', 'group_2_sample_12_SRR11412252_SE',\n",
              "       'group_2_sample_1_SRR11412260_SE', 'group_2_sample_2_SRR11412259_SE',\n",
              "       'group_2_sample_3_SRR11412258_SE', 'group_2_sample_4_SRR11412257_SE',\n",
              "       'group_2_sample_5_SRR11412251_SE', 'group_2_sample_6_SRR11412262_SE',\n",
              "       'group_2_sample_7_SRR11412261_SE', 'group_2_sample_8_SRR11412256_SE',\n",
              "       'group_2_sample_9_SRR11412255_SE'],\n",
              "      dtype='object')"
            ]
          },
          "metadata": {
            "tags": []
          },
          "execution_count": 14
        }
      ]
    },
    {
      "cell_type": "code",
      "metadata": {
        "id": "A7IUU_iVdj1f",
        "colab_type": "code",
        "colab": {}
      },
      "source": [
        "#You can just use np.savetxt and access the np attribute .values:\n",
        "result.to_csv('COVID_gene_sig.txt', header=True, index=1, sep='\\t')\n"
      ],
      "execution_count": null,
      "outputs": []
    },
    {
      "cell_type": "code",
      "metadata": {
        "id": "xza9G-PxeTK5",
        "colab_type": "code",
        "colab": {}
      },
      "source": [
        ""
      ],
      "execution_count": null,
      "outputs": []
    }
  ]
}